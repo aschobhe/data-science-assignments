{
  "nbformat": 4,
  "nbformat_minor": 0,
  "metadata": {
    "colab": {
      "provenance": []
    },
    "kernelspec": {
      "name": "python3",
      "display_name": "Python 3"
    },
    "language_info": {
      "name": "python"
    }
  },
  "cells": [
    {
      "cell_type": "code",
      "source": [
        "!pip install nltk"
      ],
      "metadata": {
        "colab": {
          "base_uri": "https://localhost:8080/"
        },
        "id": "0fTatJ20-Xm4",
        "outputId": "bcbabbf0-073d-4acc-cbc2-bab2f75acec6"
      },
      "execution_count": 1,
      "outputs": [
        {
          "output_type": "stream",
          "name": "stdout",
          "text": [
            "Looking in indexes: https://pypi.org/simple, https://us-python.pkg.dev/colab-wheels/public/simple/\n",
            "Requirement already satisfied: nltk in /usr/local/lib/python3.9/dist-packages (3.8.1)\n",
            "Requirement already satisfied: joblib in /usr/local/lib/python3.9/dist-packages (from nltk) (1.2.0)\n",
            "Requirement already satisfied: tqdm in /usr/local/lib/python3.9/dist-packages (from nltk) (4.65.0)\n",
            "Requirement already satisfied: click in /usr/local/lib/python3.9/dist-packages (from nltk) (8.1.3)\n",
            "Requirement already satisfied: regex>=2021.8.3 in /usr/local/lib/python3.9/dist-packages (from nltk) (2022.10.31)\n"
          ]
        }
      ]
    },
    {
      "cell_type": "code",
      "source": [
        "import nltk\n",
        "nltk.download('punkt') \n",
        "nltk.download('stopwords')\n",
        "nltk.download('wordnet')\n",
        "\n",
        "nltk.download('omw-1.4')\n",
        "from nltk.stem import PorterStemmer, WordNetLemmatizer\n",
        "from nltk.corpus import stopwords\n",
        "from textblob import TextBlob\n",
        "import re \n",
        "import numpy as np\n"
      ],
      "metadata": {
        "colab": {
          "base_uri": "https://localhost:8080/"
        },
        "id": "UsWHhTb8-gOS",
        "outputId": "2449fd73-378d-4bdc-b04e-8d472278ef5e"
      },
      "execution_count": 26,
      "outputs": [
        {
          "output_type": "stream",
          "name": "stderr",
          "text": [
            "[nltk_data] Downloading package punkt to /root/nltk_data...\n",
            "[nltk_data]   Package punkt is already up-to-date!\n",
            "[nltk_data] Downloading package stopwords to /root/nltk_data...\n",
            "[nltk_data]   Package stopwords is already up-to-date!\n",
            "[nltk_data] Downloading package wordnet to /root/nltk_data...\n",
            "[nltk_data]   Package wordnet is already up-to-date!\n",
            "[nltk_data] Downloading package omw-1.4 to /root/nltk_data...\n",
            "[nltk_data]   Package omw-1.4 is already up-to-date!\n"
          ]
        }
      ]
    },
    {
      "cell_type": "code",
      "source": [
        "#Load dataset\n",
        "import pandas as pd\n",
        "\n",
        "data=pd.read_csv('/content/Elon_musk.csv',encoding='Latin-1')\n",
        "data"
      ],
      "metadata": {
        "colab": {
          "base_uri": "https://localhost:8080/",
          "height": 423
        },
        "id": "vFKoYmbx_X4U",
        "outputId": "f8f3ff7c-5658-47e8-a51e-ac9a47311e2f"
      },
      "execution_count": 3,
      "outputs": [
        {
          "output_type": "execute_result",
          "data": {
            "text/plain": [
              "      Unnamed: 0                                               Text\n",
              "0              1                             @kunalb11 Im an alien\n",
              "1              2  @ID_AA_Carmack Ray tracing on Cyberpunk with H...\n",
              "2              3                @joerogan @Spotify Great interview!\n",
              "3              4                    @gtera27 Doge is underestimated\n",
              "4              5  @teslacn Congratulations Tesla China for amazi...\n",
              "...          ...                                                ...\n",
              "1994        1995  @flcnhvy True, it sounds so surreal, but the n...\n",
              "1995        1996  @PPathole Make sure to read ur terms &amp; con...\n",
              "1996        1997                @TeslaGong @PPathole Samwise Gamgee\n",
              "1997        1998  @PPathole Altho Dumb and Dumber is <U+0001F525...\n",
              "1998        1999                          Progress update August 28\n",
              "\n",
              "[1999 rows x 2 columns]"
            ],
            "text/html": [
              "\n",
              "  <div id=\"df-4576d575-57ce-47fa-854d-43cbb9321b56\">\n",
              "    <div class=\"colab-df-container\">\n",
              "      <div>\n",
              "<style scoped>\n",
              "    .dataframe tbody tr th:only-of-type {\n",
              "        vertical-align: middle;\n",
              "    }\n",
              "\n",
              "    .dataframe tbody tr th {\n",
              "        vertical-align: top;\n",
              "    }\n",
              "\n",
              "    .dataframe thead th {\n",
              "        text-align: right;\n",
              "    }\n",
              "</style>\n",
              "<table border=\"1\" class=\"dataframe\">\n",
              "  <thead>\n",
              "    <tr style=\"text-align: right;\">\n",
              "      <th></th>\n",
              "      <th>Unnamed: 0</th>\n",
              "      <th>Text</th>\n",
              "    </tr>\n",
              "  </thead>\n",
              "  <tbody>\n",
              "    <tr>\n",
              "      <th>0</th>\n",
              "      <td>1</td>\n",
              "      <td>@kunalb11 Im an alien</td>\n",
              "    </tr>\n",
              "    <tr>\n",
              "      <th>1</th>\n",
              "      <td>2</td>\n",
              "      <td>@ID_AA_Carmack Ray tracing on Cyberpunk with H...</td>\n",
              "    </tr>\n",
              "    <tr>\n",
              "      <th>2</th>\n",
              "      <td>3</td>\n",
              "      <td>@joerogan @Spotify Great interview!</td>\n",
              "    </tr>\n",
              "    <tr>\n",
              "      <th>3</th>\n",
              "      <td>4</td>\n",
              "      <td>@gtera27 Doge is underestimated</td>\n",
              "    </tr>\n",
              "    <tr>\n",
              "      <th>4</th>\n",
              "      <td>5</td>\n",
              "      <td>@teslacn Congratulations Tesla China for amazi...</td>\n",
              "    </tr>\n",
              "    <tr>\n",
              "      <th>...</th>\n",
              "      <td>...</td>\n",
              "      <td>...</td>\n",
              "    </tr>\n",
              "    <tr>\n",
              "      <th>1994</th>\n",
              "      <td>1995</td>\n",
              "      <td>@flcnhvy True, it sounds so surreal, but the n...</td>\n",
              "    </tr>\n",
              "    <tr>\n",
              "      <th>1995</th>\n",
              "      <td>1996</td>\n",
              "      <td>@PPathole Make sure to read ur terms &amp;amp; con...</td>\n",
              "    </tr>\n",
              "    <tr>\n",
              "      <th>1996</th>\n",
              "      <td>1997</td>\n",
              "      <td>@TeslaGong @PPathole Samwise Gamgee</td>\n",
              "    </tr>\n",
              "    <tr>\n",
              "      <th>1997</th>\n",
              "      <td>1998</td>\n",
              "      <td>@PPathole Altho Dumb and Dumber is &lt;U+0001F525...</td>\n",
              "    </tr>\n",
              "    <tr>\n",
              "      <th>1998</th>\n",
              "      <td>1999</td>\n",
              "      <td>Progress update August 28</td>\n",
              "    </tr>\n",
              "  </tbody>\n",
              "</table>\n",
              "<p>1999 rows × 2 columns</p>\n",
              "</div>\n",
              "      <button class=\"colab-df-convert\" onclick=\"convertToInteractive('df-4576d575-57ce-47fa-854d-43cbb9321b56')\"\n",
              "              title=\"Convert this dataframe to an interactive table.\"\n",
              "              style=\"display:none;\">\n",
              "        \n",
              "  <svg xmlns=\"http://www.w3.org/2000/svg\" height=\"24px\"viewBox=\"0 0 24 24\"\n",
              "       width=\"24px\">\n",
              "    <path d=\"M0 0h24v24H0V0z\" fill=\"none\"/>\n",
              "    <path d=\"M18.56 5.44l.94 2.06.94-2.06 2.06-.94-2.06-.94-.94-2.06-.94 2.06-2.06.94zm-11 1L8.5 8.5l.94-2.06 2.06-.94-2.06-.94L8.5 2.5l-.94 2.06-2.06.94zm10 10l.94 2.06.94-2.06 2.06-.94-2.06-.94-.94-2.06-.94 2.06-2.06.94z\"/><path d=\"M17.41 7.96l-1.37-1.37c-.4-.4-.92-.59-1.43-.59-.52 0-1.04.2-1.43.59L10.3 9.45l-7.72 7.72c-.78.78-.78 2.05 0 2.83L4 21.41c.39.39.9.59 1.41.59.51 0 1.02-.2 1.41-.59l7.78-7.78 2.81-2.81c.8-.78.8-2.07 0-2.86zM5.41 20L4 18.59l7.72-7.72 1.47 1.35L5.41 20z\"/>\n",
              "  </svg>\n",
              "      </button>\n",
              "      \n",
              "  <style>\n",
              "    .colab-df-container {\n",
              "      display:flex;\n",
              "      flex-wrap:wrap;\n",
              "      gap: 12px;\n",
              "    }\n",
              "\n",
              "    .colab-df-convert {\n",
              "      background-color: #E8F0FE;\n",
              "      border: none;\n",
              "      border-radius: 50%;\n",
              "      cursor: pointer;\n",
              "      display: none;\n",
              "      fill: #1967D2;\n",
              "      height: 32px;\n",
              "      padding: 0 0 0 0;\n",
              "      width: 32px;\n",
              "    }\n",
              "\n",
              "    .colab-df-convert:hover {\n",
              "      background-color: #E2EBFA;\n",
              "      box-shadow: 0px 1px 2px rgba(60, 64, 67, 0.3), 0px 1px 3px 1px rgba(60, 64, 67, 0.15);\n",
              "      fill: #174EA6;\n",
              "    }\n",
              "\n",
              "    [theme=dark] .colab-df-convert {\n",
              "      background-color: #3B4455;\n",
              "      fill: #D2E3FC;\n",
              "    }\n",
              "\n",
              "    [theme=dark] .colab-df-convert:hover {\n",
              "      background-color: #434B5C;\n",
              "      box-shadow: 0px 1px 3px 1px rgba(0, 0, 0, 0.15);\n",
              "      filter: drop-shadow(0px 1px 2px rgba(0, 0, 0, 0.3));\n",
              "      fill: #FFFFFF;\n",
              "    }\n",
              "  </style>\n",
              "\n",
              "      <script>\n",
              "        const buttonEl =\n",
              "          document.querySelector('#df-4576d575-57ce-47fa-854d-43cbb9321b56 button.colab-df-convert');\n",
              "        buttonEl.style.display =\n",
              "          google.colab.kernel.accessAllowed ? 'block' : 'none';\n",
              "\n",
              "        async function convertToInteractive(key) {\n",
              "          const element = document.querySelector('#df-4576d575-57ce-47fa-854d-43cbb9321b56');\n",
              "          const dataTable =\n",
              "            await google.colab.kernel.invokeFunction('convertToInteractive',\n",
              "                                                     [key], {});\n",
              "          if (!dataTable) return;\n",
              "\n",
              "          const docLinkHtml = 'Like what you see? Visit the ' +\n",
              "            '<a target=\"_blank\" href=https://colab.research.google.com/notebooks/data_table.ipynb>data table notebook</a>'\n",
              "            + ' to learn more about interactive tables.';\n",
              "          element.innerHTML = '';\n",
              "          dataTable['output_type'] = 'display_data';\n",
              "          await google.colab.output.renderOutput(dataTable, element);\n",
              "          const docLink = document.createElement('div');\n",
              "          docLink.innerHTML = docLinkHtml;\n",
              "          element.appendChild(docLink);\n",
              "        }\n",
              "      </script>\n",
              "    </div>\n",
              "  </div>\n",
              "  "
            ]
          },
          "metadata": {},
          "execution_count": 3
        }
      ]
    },
    {
      "cell_type": "code",
      "source": [
        "#number of words in single tweet\n",
        "data['word_count'] = data['Text'].apply(lambda x: len(str(x).split(\" \")))\n",
        "data[['Text','word_count']].head()\n"
      ],
      "metadata": {
        "colab": {
          "base_uri": "https://localhost:8080/",
          "height": 206
        },
        "id": "-qbfei2QpWB2",
        "outputId": "fb523cd4-dc4b-4579-a62a-81f68696c913"
      },
      "execution_count": 4,
      "outputs": [
        {
          "output_type": "execute_result",
          "data": {
            "text/plain": [
              "                                                Text  word_count\n",
              "0                             @kunalb11 Im an alien           4\n",
              "1  @ID_AA_Carmack Ray tracing on Cyberpunk with H...          13\n",
              "2                @joerogan @Spotify Great interview!           4\n",
              "3                    @gtera27 Doge is underestimated           4\n",
              "4  @teslacn Congratulations Tesla China for amazi...          17"
            ],
            "text/html": [
              "\n",
              "  <div id=\"df-b7bc2027-66f9-4e83-8251-fc65d463f473\">\n",
              "    <div class=\"colab-df-container\">\n",
              "      <div>\n",
              "<style scoped>\n",
              "    .dataframe tbody tr th:only-of-type {\n",
              "        vertical-align: middle;\n",
              "    }\n",
              "\n",
              "    .dataframe tbody tr th {\n",
              "        vertical-align: top;\n",
              "    }\n",
              "\n",
              "    .dataframe thead th {\n",
              "        text-align: right;\n",
              "    }\n",
              "</style>\n",
              "<table border=\"1\" class=\"dataframe\">\n",
              "  <thead>\n",
              "    <tr style=\"text-align: right;\">\n",
              "      <th></th>\n",
              "      <th>Text</th>\n",
              "      <th>word_count</th>\n",
              "    </tr>\n",
              "  </thead>\n",
              "  <tbody>\n",
              "    <tr>\n",
              "      <th>0</th>\n",
              "      <td>@kunalb11 Im an alien</td>\n",
              "      <td>4</td>\n",
              "    </tr>\n",
              "    <tr>\n",
              "      <th>1</th>\n",
              "      <td>@ID_AA_Carmack Ray tracing on Cyberpunk with H...</td>\n",
              "      <td>13</td>\n",
              "    </tr>\n",
              "    <tr>\n",
              "      <th>2</th>\n",
              "      <td>@joerogan @Spotify Great interview!</td>\n",
              "      <td>4</td>\n",
              "    </tr>\n",
              "    <tr>\n",
              "      <th>3</th>\n",
              "      <td>@gtera27 Doge is underestimated</td>\n",
              "      <td>4</td>\n",
              "    </tr>\n",
              "    <tr>\n",
              "      <th>4</th>\n",
              "      <td>@teslacn Congratulations Tesla China for amazi...</td>\n",
              "      <td>17</td>\n",
              "    </tr>\n",
              "  </tbody>\n",
              "</table>\n",
              "</div>\n",
              "      <button class=\"colab-df-convert\" onclick=\"convertToInteractive('df-b7bc2027-66f9-4e83-8251-fc65d463f473')\"\n",
              "              title=\"Convert this dataframe to an interactive table.\"\n",
              "              style=\"display:none;\">\n",
              "        \n",
              "  <svg xmlns=\"http://www.w3.org/2000/svg\" height=\"24px\"viewBox=\"0 0 24 24\"\n",
              "       width=\"24px\">\n",
              "    <path d=\"M0 0h24v24H0V0z\" fill=\"none\"/>\n",
              "    <path d=\"M18.56 5.44l.94 2.06.94-2.06 2.06-.94-2.06-.94-.94-2.06-.94 2.06-2.06.94zm-11 1L8.5 8.5l.94-2.06 2.06-.94-2.06-.94L8.5 2.5l-.94 2.06-2.06.94zm10 10l.94 2.06.94-2.06 2.06-.94-2.06-.94-.94-2.06-.94 2.06-2.06.94z\"/><path d=\"M17.41 7.96l-1.37-1.37c-.4-.4-.92-.59-1.43-.59-.52 0-1.04.2-1.43.59L10.3 9.45l-7.72 7.72c-.78.78-.78 2.05 0 2.83L4 21.41c.39.39.9.59 1.41.59.51 0 1.02-.2 1.41-.59l7.78-7.78 2.81-2.81c.8-.78.8-2.07 0-2.86zM5.41 20L4 18.59l7.72-7.72 1.47 1.35L5.41 20z\"/>\n",
              "  </svg>\n",
              "      </button>\n",
              "      \n",
              "  <style>\n",
              "    .colab-df-container {\n",
              "      display:flex;\n",
              "      flex-wrap:wrap;\n",
              "      gap: 12px;\n",
              "    }\n",
              "\n",
              "    .colab-df-convert {\n",
              "      background-color: #E8F0FE;\n",
              "      border: none;\n",
              "      border-radius: 50%;\n",
              "      cursor: pointer;\n",
              "      display: none;\n",
              "      fill: #1967D2;\n",
              "      height: 32px;\n",
              "      padding: 0 0 0 0;\n",
              "      width: 32px;\n",
              "    }\n",
              "\n",
              "    .colab-df-convert:hover {\n",
              "      background-color: #E2EBFA;\n",
              "      box-shadow: 0px 1px 2px rgba(60, 64, 67, 0.3), 0px 1px 3px 1px rgba(60, 64, 67, 0.15);\n",
              "      fill: #174EA6;\n",
              "    }\n",
              "\n",
              "    [theme=dark] .colab-df-convert {\n",
              "      background-color: #3B4455;\n",
              "      fill: #D2E3FC;\n",
              "    }\n",
              "\n",
              "    [theme=dark] .colab-df-convert:hover {\n",
              "      background-color: #434B5C;\n",
              "      box-shadow: 0px 1px 3px 1px rgba(0, 0, 0, 0.15);\n",
              "      filter: drop-shadow(0px 1px 2px rgba(0, 0, 0, 0.3));\n",
              "      fill: #FFFFFF;\n",
              "    }\n",
              "  </style>\n",
              "\n",
              "      <script>\n",
              "        const buttonEl =\n",
              "          document.querySelector('#df-b7bc2027-66f9-4e83-8251-fc65d463f473 button.colab-df-convert');\n",
              "        buttonEl.style.display =\n",
              "          google.colab.kernel.accessAllowed ? 'block' : 'none';\n",
              "\n",
              "        async function convertToInteractive(key) {\n",
              "          const element = document.querySelector('#df-b7bc2027-66f9-4e83-8251-fc65d463f473');\n",
              "          const dataTable =\n",
              "            await google.colab.kernel.invokeFunction('convertToInteractive',\n",
              "                                                     [key], {});\n",
              "          if (!dataTable) return;\n",
              "\n",
              "          const docLinkHtml = 'Like what you see? Visit the ' +\n",
              "            '<a target=\"_blank\" href=https://colab.research.google.com/notebooks/data_table.ipynb>data table notebook</a>'\n",
              "            + ' to learn more about interactive tables.';\n",
              "          element.innerHTML = '';\n",
              "          dataTable['output_type'] = 'display_data';\n",
              "          await google.colab.output.renderOutput(dataTable, element);\n",
              "          const docLink = document.createElement('div');\n",
              "          docLink.innerHTML = docLinkHtml;\n",
              "          element.appendChild(docLink);\n",
              "        }\n",
              "      </script>\n",
              "    </div>\n",
              "  </div>\n",
              "  "
            ]
          },
          "metadata": {},
          "execution_count": 4
        }
      ]
    },
    {
      "cell_type": "code",
      "source": [
        "#number of characters in tweet\n",
        "data['char_count']=data['Text'].str.len()\n",
        "data[['Text','char_count']].head()\n"
      ],
      "metadata": {
        "colab": {
          "base_uri": "https://localhost:8080/",
          "height": 206
        },
        "id": "C_JzEpPKrRrf",
        "outputId": "857d5b4e-1d81-456d-df59-a8531fc75815"
      },
      "execution_count": 5,
      "outputs": [
        {
          "output_type": "execute_result",
          "data": {
            "text/plain": [
              "                                                Text  char_count\n",
              "0                             @kunalb11 Im an alien          22\n",
              "1  @ID_AA_Carmack Ray tracing on Cyberpunk with H...          82\n",
              "2                @joerogan @Spotify Great interview!          35\n",
              "3                    @gtera27 Doge is underestimated          31\n",
              "4  @teslacn Congratulations Tesla China for amazi...         104"
            ],
            "text/html": [
              "\n",
              "  <div id=\"df-8612df36-8799-4652-ada9-cf24d059f5d4\">\n",
              "    <div class=\"colab-df-container\">\n",
              "      <div>\n",
              "<style scoped>\n",
              "    .dataframe tbody tr th:only-of-type {\n",
              "        vertical-align: middle;\n",
              "    }\n",
              "\n",
              "    .dataframe tbody tr th {\n",
              "        vertical-align: top;\n",
              "    }\n",
              "\n",
              "    .dataframe thead th {\n",
              "        text-align: right;\n",
              "    }\n",
              "</style>\n",
              "<table border=\"1\" class=\"dataframe\">\n",
              "  <thead>\n",
              "    <tr style=\"text-align: right;\">\n",
              "      <th></th>\n",
              "      <th>Text</th>\n",
              "      <th>char_count</th>\n",
              "    </tr>\n",
              "  </thead>\n",
              "  <tbody>\n",
              "    <tr>\n",
              "      <th>0</th>\n",
              "      <td>@kunalb11 Im an alien</td>\n",
              "      <td>22</td>\n",
              "    </tr>\n",
              "    <tr>\n",
              "      <th>1</th>\n",
              "      <td>@ID_AA_Carmack Ray tracing on Cyberpunk with H...</td>\n",
              "      <td>82</td>\n",
              "    </tr>\n",
              "    <tr>\n",
              "      <th>2</th>\n",
              "      <td>@joerogan @Spotify Great interview!</td>\n",
              "      <td>35</td>\n",
              "    </tr>\n",
              "    <tr>\n",
              "      <th>3</th>\n",
              "      <td>@gtera27 Doge is underestimated</td>\n",
              "      <td>31</td>\n",
              "    </tr>\n",
              "    <tr>\n",
              "      <th>4</th>\n",
              "      <td>@teslacn Congratulations Tesla China for amazi...</td>\n",
              "      <td>104</td>\n",
              "    </tr>\n",
              "  </tbody>\n",
              "</table>\n",
              "</div>\n",
              "      <button class=\"colab-df-convert\" onclick=\"convertToInteractive('df-8612df36-8799-4652-ada9-cf24d059f5d4')\"\n",
              "              title=\"Convert this dataframe to an interactive table.\"\n",
              "              style=\"display:none;\">\n",
              "        \n",
              "  <svg xmlns=\"http://www.w3.org/2000/svg\" height=\"24px\"viewBox=\"0 0 24 24\"\n",
              "       width=\"24px\">\n",
              "    <path d=\"M0 0h24v24H0V0z\" fill=\"none\"/>\n",
              "    <path d=\"M18.56 5.44l.94 2.06.94-2.06 2.06-.94-2.06-.94-.94-2.06-.94 2.06-2.06.94zm-11 1L8.5 8.5l.94-2.06 2.06-.94-2.06-.94L8.5 2.5l-.94 2.06-2.06.94zm10 10l.94 2.06.94-2.06 2.06-.94-2.06-.94-.94-2.06-.94 2.06-2.06.94z\"/><path d=\"M17.41 7.96l-1.37-1.37c-.4-.4-.92-.59-1.43-.59-.52 0-1.04.2-1.43.59L10.3 9.45l-7.72 7.72c-.78.78-.78 2.05 0 2.83L4 21.41c.39.39.9.59 1.41.59.51 0 1.02-.2 1.41-.59l7.78-7.78 2.81-2.81c.8-.78.8-2.07 0-2.86zM5.41 20L4 18.59l7.72-7.72 1.47 1.35L5.41 20z\"/>\n",
              "  </svg>\n",
              "      </button>\n",
              "      \n",
              "  <style>\n",
              "    .colab-df-container {\n",
              "      display:flex;\n",
              "      flex-wrap:wrap;\n",
              "      gap: 12px;\n",
              "    }\n",
              "\n",
              "    .colab-df-convert {\n",
              "      background-color: #E8F0FE;\n",
              "      border: none;\n",
              "      border-radius: 50%;\n",
              "      cursor: pointer;\n",
              "      display: none;\n",
              "      fill: #1967D2;\n",
              "      height: 32px;\n",
              "      padding: 0 0 0 0;\n",
              "      width: 32px;\n",
              "    }\n",
              "\n",
              "    .colab-df-convert:hover {\n",
              "      background-color: #E2EBFA;\n",
              "      box-shadow: 0px 1px 2px rgba(60, 64, 67, 0.3), 0px 1px 3px 1px rgba(60, 64, 67, 0.15);\n",
              "      fill: #174EA6;\n",
              "    }\n",
              "\n",
              "    [theme=dark] .colab-df-convert {\n",
              "      background-color: #3B4455;\n",
              "      fill: #D2E3FC;\n",
              "    }\n",
              "\n",
              "    [theme=dark] .colab-df-convert:hover {\n",
              "      background-color: #434B5C;\n",
              "      box-shadow: 0px 1px 3px 1px rgba(0, 0, 0, 0.15);\n",
              "      filter: drop-shadow(0px 1px 2px rgba(0, 0, 0, 0.3));\n",
              "      fill: #FFFFFF;\n",
              "    }\n",
              "  </style>\n",
              "\n",
              "      <script>\n",
              "        const buttonEl =\n",
              "          document.querySelector('#df-8612df36-8799-4652-ada9-cf24d059f5d4 button.colab-df-convert');\n",
              "        buttonEl.style.display =\n",
              "          google.colab.kernel.accessAllowed ? 'block' : 'none';\n",
              "\n",
              "        async function convertToInteractive(key) {\n",
              "          const element = document.querySelector('#df-8612df36-8799-4652-ada9-cf24d059f5d4');\n",
              "          const dataTable =\n",
              "            await google.colab.kernel.invokeFunction('convertToInteractive',\n",
              "                                                     [key], {});\n",
              "          if (!dataTable) return;\n",
              "\n",
              "          const docLinkHtml = 'Like what you see? Visit the ' +\n",
              "            '<a target=\"_blank\" href=https://colab.research.google.com/notebooks/data_table.ipynb>data table notebook</a>'\n",
              "            + ' to learn more about interactive tables.';\n",
              "          element.innerHTML = '';\n",
              "          dataTable['output_type'] = 'display_data';\n",
              "          await google.colab.output.renderOutput(dataTable, element);\n",
              "          const docLink = document.createElement('div');\n",
              "          docLink.innerHTML = docLinkHtml;\n",
              "          element.appendChild(docLink);\n",
              "        }\n",
              "      </script>\n",
              "    </div>\n",
              "  </div>\n",
              "  "
            ]
          },
          "metadata": {},
          "execution_count": 5
        }
      ]
    },
    {
      "cell_type": "code",
      "source": [
        "#number of stopwords\n",
        "stop=stopwords.words('english')\n",
        "\n",
        "data['stopwords'] = data['Text'].apply(lambda x: len([x for x in x.split() if x in stop]))\n",
        "data[['Text','stopwords']].head()\n"
      ],
      "metadata": {
        "colab": {
          "base_uri": "https://localhost:8080/",
          "height": 206
        },
        "id": "yXJu_gRbswSS",
        "outputId": "9e04d9db-40db-42dd-d8e3-c6ffc4a7617a"
      },
      "execution_count": 6,
      "outputs": [
        {
          "output_type": "execute_result",
          "data": {
            "text/plain": [
              "                                                Text  stopwords\n",
              "0                             @kunalb11 Im an alien          1\n",
              "1  @ID_AA_Carmack Ray tracing on Cyberpunk with H...          4\n",
              "2                @joerogan @Spotify Great interview!          0\n",
              "3                    @gtera27 Doge is underestimated          1\n",
              "4  @teslacn Congratulations Tesla China for amazi...          5"
            ],
            "text/html": [
              "\n",
              "  <div id=\"df-abb1a589-b7b4-4d1e-85c3-bf0a60bc456b\">\n",
              "    <div class=\"colab-df-container\">\n",
              "      <div>\n",
              "<style scoped>\n",
              "    .dataframe tbody tr th:only-of-type {\n",
              "        vertical-align: middle;\n",
              "    }\n",
              "\n",
              "    .dataframe tbody tr th {\n",
              "        vertical-align: top;\n",
              "    }\n",
              "\n",
              "    .dataframe thead th {\n",
              "        text-align: right;\n",
              "    }\n",
              "</style>\n",
              "<table border=\"1\" class=\"dataframe\">\n",
              "  <thead>\n",
              "    <tr style=\"text-align: right;\">\n",
              "      <th></th>\n",
              "      <th>Text</th>\n",
              "      <th>stopwords</th>\n",
              "    </tr>\n",
              "  </thead>\n",
              "  <tbody>\n",
              "    <tr>\n",
              "      <th>0</th>\n",
              "      <td>@kunalb11 Im an alien</td>\n",
              "      <td>1</td>\n",
              "    </tr>\n",
              "    <tr>\n",
              "      <th>1</th>\n",
              "      <td>@ID_AA_Carmack Ray tracing on Cyberpunk with H...</td>\n",
              "      <td>4</td>\n",
              "    </tr>\n",
              "    <tr>\n",
              "      <th>2</th>\n",
              "      <td>@joerogan @Spotify Great interview!</td>\n",
              "      <td>0</td>\n",
              "    </tr>\n",
              "    <tr>\n",
              "      <th>3</th>\n",
              "      <td>@gtera27 Doge is underestimated</td>\n",
              "      <td>1</td>\n",
              "    </tr>\n",
              "    <tr>\n",
              "      <th>4</th>\n",
              "      <td>@teslacn Congratulations Tesla China for amazi...</td>\n",
              "      <td>5</td>\n",
              "    </tr>\n",
              "  </tbody>\n",
              "</table>\n",
              "</div>\n",
              "      <button class=\"colab-df-convert\" onclick=\"convertToInteractive('df-abb1a589-b7b4-4d1e-85c3-bf0a60bc456b')\"\n",
              "              title=\"Convert this dataframe to an interactive table.\"\n",
              "              style=\"display:none;\">\n",
              "        \n",
              "  <svg xmlns=\"http://www.w3.org/2000/svg\" height=\"24px\"viewBox=\"0 0 24 24\"\n",
              "       width=\"24px\">\n",
              "    <path d=\"M0 0h24v24H0V0z\" fill=\"none\"/>\n",
              "    <path d=\"M18.56 5.44l.94 2.06.94-2.06 2.06-.94-2.06-.94-.94-2.06-.94 2.06-2.06.94zm-11 1L8.5 8.5l.94-2.06 2.06-.94-2.06-.94L8.5 2.5l-.94 2.06-2.06.94zm10 10l.94 2.06.94-2.06 2.06-.94-2.06-.94-.94-2.06-.94 2.06-2.06.94z\"/><path d=\"M17.41 7.96l-1.37-1.37c-.4-.4-.92-.59-1.43-.59-.52 0-1.04.2-1.43.59L10.3 9.45l-7.72 7.72c-.78.78-.78 2.05 0 2.83L4 21.41c.39.39.9.59 1.41.59.51 0 1.02-.2 1.41-.59l7.78-7.78 2.81-2.81c.8-.78.8-2.07 0-2.86zM5.41 20L4 18.59l7.72-7.72 1.47 1.35L5.41 20z\"/>\n",
              "  </svg>\n",
              "      </button>\n",
              "      \n",
              "  <style>\n",
              "    .colab-df-container {\n",
              "      display:flex;\n",
              "      flex-wrap:wrap;\n",
              "      gap: 12px;\n",
              "    }\n",
              "\n",
              "    .colab-df-convert {\n",
              "      background-color: #E8F0FE;\n",
              "      border: none;\n",
              "      border-radius: 50%;\n",
              "      cursor: pointer;\n",
              "      display: none;\n",
              "      fill: #1967D2;\n",
              "      height: 32px;\n",
              "      padding: 0 0 0 0;\n",
              "      width: 32px;\n",
              "    }\n",
              "\n",
              "    .colab-df-convert:hover {\n",
              "      background-color: #E2EBFA;\n",
              "      box-shadow: 0px 1px 2px rgba(60, 64, 67, 0.3), 0px 1px 3px 1px rgba(60, 64, 67, 0.15);\n",
              "      fill: #174EA6;\n",
              "    }\n",
              "\n",
              "    [theme=dark] .colab-df-convert {\n",
              "      background-color: #3B4455;\n",
              "      fill: #D2E3FC;\n",
              "    }\n",
              "\n",
              "    [theme=dark] .colab-df-convert:hover {\n",
              "      background-color: #434B5C;\n",
              "      box-shadow: 0px 1px 3px 1px rgba(0, 0, 0, 0.15);\n",
              "      filter: drop-shadow(0px 1px 2px rgba(0, 0, 0, 0.3));\n",
              "      fill: #FFFFFF;\n",
              "    }\n",
              "  </style>\n",
              "\n",
              "      <script>\n",
              "        const buttonEl =\n",
              "          document.querySelector('#df-abb1a589-b7b4-4d1e-85c3-bf0a60bc456b button.colab-df-convert');\n",
              "        buttonEl.style.display =\n",
              "          google.colab.kernel.accessAllowed ? 'block' : 'none';\n",
              "\n",
              "        async function convertToInteractive(key) {\n",
              "          const element = document.querySelector('#df-abb1a589-b7b4-4d1e-85c3-bf0a60bc456b');\n",
              "          const dataTable =\n",
              "            await google.colab.kernel.invokeFunction('convertToInteractive',\n",
              "                                                     [key], {});\n",
              "          if (!dataTable) return;\n",
              "\n",
              "          const docLinkHtml = 'Like what you see? Visit the ' +\n",
              "            '<a target=\"_blank\" href=https://colab.research.google.com/notebooks/data_table.ipynb>data table notebook</a>'\n",
              "            + ' to learn more about interactive tables.';\n",
              "          element.innerHTML = '';\n",
              "          dataTable['output_type'] = 'display_data';\n",
              "          await google.colab.output.renderOutput(dataTable, element);\n",
              "          const docLink = document.createElement('div');\n",
              "          docLink.innerHTML = docLinkHtml;\n",
              "          element.appendChild(docLink);\n",
              "        }\n",
              "      </script>\n",
              "    </div>\n",
              "  </div>\n",
              "  "
            ]
          },
          "metadata": {},
          "execution_count": 6
        }
      ]
    },
    {
      "cell_type": "code",
      "source": [
        "#Number of special characters\n",
        "data['hastags'] = data['Text'].apply(lambda x: len([x for x in x.split() if x.startswith('@')]))\n",
        "data[['Text','hastags']].head()"
      ],
      "metadata": {
        "colab": {
          "base_uri": "https://localhost:8080/",
          "height": 206
        },
        "id": "hal60dEstd97",
        "outputId": "b0b4827c-b9de-4981-bdab-355f56ffaf16"
      },
      "execution_count": 7,
      "outputs": [
        {
          "output_type": "execute_result",
          "data": {
            "text/plain": [
              "                                                Text  hastags\n",
              "0                             @kunalb11 Im an alien        1\n",
              "1  @ID_AA_Carmack Ray tracing on Cyberpunk with H...        1\n",
              "2                @joerogan @Spotify Great interview!        2\n",
              "3                    @gtera27 Doge is underestimated        1\n",
              "4  @teslacn Congratulations Tesla China for amazi...        1"
            ],
            "text/html": [
              "\n",
              "  <div id=\"df-d89ef52f-716d-4c7a-aa25-1af71cd9e610\">\n",
              "    <div class=\"colab-df-container\">\n",
              "      <div>\n",
              "<style scoped>\n",
              "    .dataframe tbody tr th:only-of-type {\n",
              "        vertical-align: middle;\n",
              "    }\n",
              "\n",
              "    .dataframe tbody tr th {\n",
              "        vertical-align: top;\n",
              "    }\n",
              "\n",
              "    .dataframe thead th {\n",
              "        text-align: right;\n",
              "    }\n",
              "</style>\n",
              "<table border=\"1\" class=\"dataframe\">\n",
              "  <thead>\n",
              "    <tr style=\"text-align: right;\">\n",
              "      <th></th>\n",
              "      <th>Text</th>\n",
              "      <th>hastags</th>\n",
              "    </tr>\n",
              "  </thead>\n",
              "  <tbody>\n",
              "    <tr>\n",
              "      <th>0</th>\n",
              "      <td>@kunalb11 Im an alien</td>\n",
              "      <td>1</td>\n",
              "    </tr>\n",
              "    <tr>\n",
              "      <th>1</th>\n",
              "      <td>@ID_AA_Carmack Ray tracing on Cyberpunk with H...</td>\n",
              "      <td>1</td>\n",
              "    </tr>\n",
              "    <tr>\n",
              "      <th>2</th>\n",
              "      <td>@joerogan @Spotify Great interview!</td>\n",
              "      <td>2</td>\n",
              "    </tr>\n",
              "    <tr>\n",
              "      <th>3</th>\n",
              "      <td>@gtera27 Doge is underestimated</td>\n",
              "      <td>1</td>\n",
              "    </tr>\n",
              "    <tr>\n",
              "      <th>4</th>\n",
              "      <td>@teslacn Congratulations Tesla China for amazi...</td>\n",
              "      <td>1</td>\n",
              "    </tr>\n",
              "  </tbody>\n",
              "</table>\n",
              "</div>\n",
              "      <button class=\"colab-df-convert\" onclick=\"convertToInteractive('df-d89ef52f-716d-4c7a-aa25-1af71cd9e610')\"\n",
              "              title=\"Convert this dataframe to an interactive table.\"\n",
              "              style=\"display:none;\">\n",
              "        \n",
              "  <svg xmlns=\"http://www.w3.org/2000/svg\" height=\"24px\"viewBox=\"0 0 24 24\"\n",
              "       width=\"24px\">\n",
              "    <path d=\"M0 0h24v24H0V0z\" fill=\"none\"/>\n",
              "    <path d=\"M18.56 5.44l.94 2.06.94-2.06 2.06-.94-2.06-.94-.94-2.06-.94 2.06-2.06.94zm-11 1L8.5 8.5l.94-2.06 2.06-.94-2.06-.94L8.5 2.5l-.94 2.06-2.06.94zm10 10l.94 2.06.94-2.06 2.06-.94-2.06-.94-.94-2.06-.94 2.06-2.06.94z\"/><path d=\"M17.41 7.96l-1.37-1.37c-.4-.4-.92-.59-1.43-.59-.52 0-1.04.2-1.43.59L10.3 9.45l-7.72 7.72c-.78.78-.78 2.05 0 2.83L4 21.41c.39.39.9.59 1.41.59.51 0 1.02-.2 1.41-.59l7.78-7.78 2.81-2.81c.8-.78.8-2.07 0-2.86zM5.41 20L4 18.59l7.72-7.72 1.47 1.35L5.41 20z\"/>\n",
              "  </svg>\n",
              "      </button>\n",
              "      \n",
              "  <style>\n",
              "    .colab-df-container {\n",
              "      display:flex;\n",
              "      flex-wrap:wrap;\n",
              "      gap: 12px;\n",
              "    }\n",
              "\n",
              "    .colab-df-convert {\n",
              "      background-color: #E8F0FE;\n",
              "      border: none;\n",
              "      border-radius: 50%;\n",
              "      cursor: pointer;\n",
              "      display: none;\n",
              "      fill: #1967D2;\n",
              "      height: 32px;\n",
              "      padding: 0 0 0 0;\n",
              "      width: 32px;\n",
              "    }\n",
              "\n",
              "    .colab-df-convert:hover {\n",
              "      background-color: #E2EBFA;\n",
              "      box-shadow: 0px 1px 2px rgba(60, 64, 67, 0.3), 0px 1px 3px 1px rgba(60, 64, 67, 0.15);\n",
              "      fill: #174EA6;\n",
              "    }\n",
              "\n",
              "    [theme=dark] .colab-df-convert {\n",
              "      background-color: #3B4455;\n",
              "      fill: #D2E3FC;\n",
              "    }\n",
              "\n",
              "    [theme=dark] .colab-df-convert:hover {\n",
              "      background-color: #434B5C;\n",
              "      box-shadow: 0px 1px 3px 1px rgba(0, 0, 0, 0.15);\n",
              "      filter: drop-shadow(0px 1px 2px rgba(0, 0, 0, 0.3));\n",
              "      fill: #FFFFFF;\n",
              "    }\n",
              "  </style>\n",
              "\n",
              "      <script>\n",
              "        const buttonEl =\n",
              "          document.querySelector('#df-d89ef52f-716d-4c7a-aa25-1af71cd9e610 button.colab-df-convert');\n",
              "        buttonEl.style.display =\n",
              "          google.colab.kernel.accessAllowed ? 'block' : 'none';\n",
              "\n",
              "        async function convertToInteractive(key) {\n",
              "          const element = document.querySelector('#df-d89ef52f-716d-4c7a-aa25-1af71cd9e610');\n",
              "          const dataTable =\n",
              "            await google.colab.kernel.invokeFunction('convertToInteractive',\n",
              "                                                     [key], {});\n",
              "          if (!dataTable) return;\n",
              "\n",
              "          const docLinkHtml = 'Like what you see? Visit the ' +\n",
              "            '<a target=\"_blank\" href=https://colab.research.google.com/notebooks/data_table.ipynb>data table notebook</a>'\n",
              "            + ' to learn more about interactive tables.';\n",
              "          element.innerHTML = '';\n",
              "          dataTable['output_type'] = 'display_data';\n",
              "          await google.colab.output.renderOutput(dataTable, element);\n",
              "          const docLink = document.createElement('div');\n",
              "          docLink.innerHTML = docLinkHtml;\n",
              "          element.appendChild(docLink);\n",
              "        }\n",
              "      </script>\n",
              "    </div>\n",
              "  </div>\n",
              "  "
            ]
          },
          "metadata": {},
          "execution_count": 7
        }
      ]
    },
    {
      "cell_type": "code",
      "source": [
        "#number of upper case\n",
        "data['upper'] = data['Text'].apply(lambda x: len([x for x in x.split() if x.isupper()]))\n",
        "data[['Text','upper']].head()"
      ],
      "metadata": {
        "colab": {
          "base_uri": "https://localhost:8080/",
          "height": 206
        },
        "id": "oyAMvuaSvsyg",
        "outputId": "5e3b45e2-6ada-4870-b640-3290359c0189"
      },
      "execution_count": 8,
      "outputs": [
        {
          "output_type": "execute_result",
          "data": {
            "text/plain": [
              "                                                Text  upper\n",
              "0                             @kunalb11 Im an alien      0\n",
              "1  @ID_AA_Carmack Ray tracing on Cyberpunk with H...      1\n",
              "2                @joerogan @Spotify Great interview!      0\n",
              "3                    @gtera27 Doge is underestimated      0\n",
              "4  @teslacn Congratulations Tesla China for amazi...      0"
            ],
            "text/html": [
              "\n",
              "  <div id=\"df-37ee3ccb-5160-4e02-b3ad-2fce6cb226e0\">\n",
              "    <div class=\"colab-df-container\">\n",
              "      <div>\n",
              "<style scoped>\n",
              "    .dataframe tbody tr th:only-of-type {\n",
              "        vertical-align: middle;\n",
              "    }\n",
              "\n",
              "    .dataframe tbody tr th {\n",
              "        vertical-align: top;\n",
              "    }\n",
              "\n",
              "    .dataframe thead th {\n",
              "        text-align: right;\n",
              "    }\n",
              "</style>\n",
              "<table border=\"1\" class=\"dataframe\">\n",
              "  <thead>\n",
              "    <tr style=\"text-align: right;\">\n",
              "      <th></th>\n",
              "      <th>Text</th>\n",
              "      <th>upper</th>\n",
              "    </tr>\n",
              "  </thead>\n",
              "  <tbody>\n",
              "    <tr>\n",
              "      <th>0</th>\n",
              "      <td>@kunalb11 Im an alien</td>\n",
              "      <td>0</td>\n",
              "    </tr>\n",
              "    <tr>\n",
              "      <th>1</th>\n",
              "      <td>@ID_AA_Carmack Ray tracing on Cyberpunk with H...</td>\n",
              "      <td>1</td>\n",
              "    </tr>\n",
              "    <tr>\n",
              "      <th>2</th>\n",
              "      <td>@joerogan @Spotify Great interview!</td>\n",
              "      <td>0</td>\n",
              "    </tr>\n",
              "    <tr>\n",
              "      <th>3</th>\n",
              "      <td>@gtera27 Doge is underestimated</td>\n",
              "      <td>0</td>\n",
              "    </tr>\n",
              "    <tr>\n",
              "      <th>4</th>\n",
              "      <td>@teslacn Congratulations Tesla China for amazi...</td>\n",
              "      <td>0</td>\n",
              "    </tr>\n",
              "  </tbody>\n",
              "</table>\n",
              "</div>\n",
              "      <button class=\"colab-df-convert\" onclick=\"convertToInteractive('df-37ee3ccb-5160-4e02-b3ad-2fce6cb226e0')\"\n",
              "              title=\"Convert this dataframe to an interactive table.\"\n",
              "              style=\"display:none;\">\n",
              "        \n",
              "  <svg xmlns=\"http://www.w3.org/2000/svg\" height=\"24px\"viewBox=\"0 0 24 24\"\n",
              "       width=\"24px\">\n",
              "    <path d=\"M0 0h24v24H0V0z\" fill=\"none\"/>\n",
              "    <path d=\"M18.56 5.44l.94 2.06.94-2.06 2.06-.94-2.06-.94-.94-2.06-.94 2.06-2.06.94zm-11 1L8.5 8.5l.94-2.06 2.06-.94-2.06-.94L8.5 2.5l-.94 2.06-2.06.94zm10 10l.94 2.06.94-2.06 2.06-.94-2.06-.94-.94-2.06-.94 2.06-2.06.94z\"/><path d=\"M17.41 7.96l-1.37-1.37c-.4-.4-.92-.59-1.43-.59-.52 0-1.04.2-1.43.59L10.3 9.45l-7.72 7.72c-.78.78-.78 2.05 0 2.83L4 21.41c.39.39.9.59 1.41.59.51 0 1.02-.2 1.41-.59l7.78-7.78 2.81-2.81c.8-.78.8-2.07 0-2.86zM5.41 20L4 18.59l7.72-7.72 1.47 1.35L5.41 20z\"/>\n",
              "  </svg>\n",
              "      </button>\n",
              "      \n",
              "  <style>\n",
              "    .colab-df-container {\n",
              "      display:flex;\n",
              "      flex-wrap:wrap;\n",
              "      gap: 12px;\n",
              "    }\n",
              "\n",
              "    .colab-df-convert {\n",
              "      background-color: #E8F0FE;\n",
              "      border: none;\n",
              "      border-radius: 50%;\n",
              "      cursor: pointer;\n",
              "      display: none;\n",
              "      fill: #1967D2;\n",
              "      height: 32px;\n",
              "      padding: 0 0 0 0;\n",
              "      width: 32px;\n",
              "    }\n",
              "\n",
              "    .colab-df-convert:hover {\n",
              "      background-color: #E2EBFA;\n",
              "      box-shadow: 0px 1px 2px rgba(60, 64, 67, 0.3), 0px 1px 3px 1px rgba(60, 64, 67, 0.15);\n",
              "      fill: #174EA6;\n",
              "    }\n",
              "\n",
              "    [theme=dark] .colab-df-convert {\n",
              "      background-color: #3B4455;\n",
              "      fill: #D2E3FC;\n",
              "    }\n",
              "\n",
              "    [theme=dark] .colab-df-convert:hover {\n",
              "      background-color: #434B5C;\n",
              "      box-shadow: 0px 1px 3px 1px rgba(0, 0, 0, 0.15);\n",
              "      filter: drop-shadow(0px 1px 2px rgba(0, 0, 0, 0.3));\n",
              "      fill: #FFFFFF;\n",
              "    }\n",
              "  </style>\n",
              "\n",
              "      <script>\n",
              "        const buttonEl =\n",
              "          document.querySelector('#df-37ee3ccb-5160-4e02-b3ad-2fce6cb226e0 button.colab-df-convert');\n",
              "        buttonEl.style.display =\n",
              "          google.colab.kernel.accessAllowed ? 'block' : 'none';\n",
              "\n",
              "        async function convertToInteractive(key) {\n",
              "          const element = document.querySelector('#df-37ee3ccb-5160-4e02-b3ad-2fce6cb226e0');\n",
              "          const dataTable =\n",
              "            await google.colab.kernel.invokeFunction('convertToInteractive',\n",
              "                                                     [key], {});\n",
              "          if (!dataTable) return;\n",
              "\n",
              "          const docLinkHtml = 'Like what you see? Visit the ' +\n",
              "            '<a target=\"_blank\" href=https://colab.research.google.com/notebooks/data_table.ipynb>data table notebook</a>'\n",
              "            + ' to learn more about interactive tables.';\n",
              "          element.innerHTML = '';\n",
              "          dataTable['output_type'] = 'display_data';\n",
              "          await google.colab.output.renderOutput(dataTable, element);\n",
              "          const docLink = document.createElement('div');\n",
              "          docLink.innerHTML = docLinkHtml;\n",
              "          element.appendChild(docLink);\n",
              "        }\n",
              "      </script>\n",
              "    </div>\n",
              "  </div>\n",
              "  "
            ]
          },
          "metadata": {},
          "execution_count": 8
        }
      ]
    },
    {
      "cell_type": "code",
      "source": [
        "#number of Numeric\n",
        "data['numerics'] = data['Text'].apply(lambda x:len([x for x in x.split() if x.isdigit()]))\n",
        "data[['Text','numerics']].head()"
      ],
      "metadata": {
        "colab": {
          "base_uri": "https://localhost:8080/",
          "height": 206
        },
        "id": "SDaHAbEAuEoc",
        "outputId": "032b6952-9efb-41dd-9ad9-9f6ce97e4df8"
      },
      "execution_count": 9,
      "outputs": [
        {
          "output_type": "execute_result",
          "data": {
            "text/plain": [
              "                                                Text  numerics\n",
              "0                             @kunalb11 Im an alien         0\n",
              "1  @ID_AA_Carmack Ray tracing on Cyberpunk with H...         0\n",
              "2                @joerogan @Spotify Great interview!         0\n",
              "3                    @gtera27 Doge is underestimated         0\n",
              "4  @teslacn Congratulations Tesla China for amazi...         0"
            ],
            "text/html": [
              "\n",
              "  <div id=\"df-8b014535-ac40-4f78-8806-39abe2dee546\">\n",
              "    <div class=\"colab-df-container\">\n",
              "      <div>\n",
              "<style scoped>\n",
              "    .dataframe tbody tr th:only-of-type {\n",
              "        vertical-align: middle;\n",
              "    }\n",
              "\n",
              "    .dataframe tbody tr th {\n",
              "        vertical-align: top;\n",
              "    }\n",
              "\n",
              "    .dataframe thead th {\n",
              "        text-align: right;\n",
              "    }\n",
              "</style>\n",
              "<table border=\"1\" class=\"dataframe\">\n",
              "  <thead>\n",
              "    <tr style=\"text-align: right;\">\n",
              "      <th></th>\n",
              "      <th>Text</th>\n",
              "      <th>numerics</th>\n",
              "    </tr>\n",
              "  </thead>\n",
              "  <tbody>\n",
              "    <tr>\n",
              "      <th>0</th>\n",
              "      <td>@kunalb11 Im an alien</td>\n",
              "      <td>0</td>\n",
              "    </tr>\n",
              "    <tr>\n",
              "      <th>1</th>\n",
              "      <td>@ID_AA_Carmack Ray tracing on Cyberpunk with H...</td>\n",
              "      <td>0</td>\n",
              "    </tr>\n",
              "    <tr>\n",
              "      <th>2</th>\n",
              "      <td>@joerogan @Spotify Great interview!</td>\n",
              "      <td>0</td>\n",
              "    </tr>\n",
              "    <tr>\n",
              "      <th>3</th>\n",
              "      <td>@gtera27 Doge is underestimated</td>\n",
              "      <td>0</td>\n",
              "    </tr>\n",
              "    <tr>\n",
              "      <th>4</th>\n",
              "      <td>@teslacn Congratulations Tesla China for amazi...</td>\n",
              "      <td>0</td>\n",
              "    </tr>\n",
              "  </tbody>\n",
              "</table>\n",
              "</div>\n",
              "      <button class=\"colab-df-convert\" onclick=\"convertToInteractive('df-8b014535-ac40-4f78-8806-39abe2dee546')\"\n",
              "              title=\"Convert this dataframe to an interactive table.\"\n",
              "              style=\"display:none;\">\n",
              "        \n",
              "  <svg xmlns=\"http://www.w3.org/2000/svg\" height=\"24px\"viewBox=\"0 0 24 24\"\n",
              "       width=\"24px\">\n",
              "    <path d=\"M0 0h24v24H0V0z\" fill=\"none\"/>\n",
              "    <path d=\"M18.56 5.44l.94 2.06.94-2.06 2.06-.94-2.06-.94-.94-2.06-.94 2.06-2.06.94zm-11 1L8.5 8.5l.94-2.06 2.06-.94-2.06-.94L8.5 2.5l-.94 2.06-2.06.94zm10 10l.94 2.06.94-2.06 2.06-.94-2.06-.94-.94-2.06-.94 2.06-2.06.94z\"/><path d=\"M17.41 7.96l-1.37-1.37c-.4-.4-.92-.59-1.43-.59-.52 0-1.04.2-1.43.59L10.3 9.45l-7.72 7.72c-.78.78-.78 2.05 0 2.83L4 21.41c.39.39.9.59 1.41.59.51 0 1.02-.2 1.41-.59l7.78-7.78 2.81-2.81c.8-.78.8-2.07 0-2.86zM5.41 20L4 18.59l7.72-7.72 1.47 1.35L5.41 20z\"/>\n",
              "  </svg>\n",
              "      </button>\n",
              "      \n",
              "  <style>\n",
              "    .colab-df-container {\n",
              "      display:flex;\n",
              "      flex-wrap:wrap;\n",
              "      gap: 12px;\n",
              "    }\n",
              "\n",
              "    .colab-df-convert {\n",
              "      background-color: #E8F0FE;\n",
              "      border: none;\n",
              "      border-radius: 50%;\n",
              "      cursor: pointer;\n",
              "      display: none;\n",
              "      fill: #1967D2;\n",
              "      height: 32px;\n",
              "      padding: 0 0 0 0;\n",
              "      width: 32px;\n",
              "    }\n",
              "\n",
              "    .colab-df-convert:hover {\n",
              "      background-color: #E2EBFA;\n",
              "      box-shadow: 0px 1px 2px rgba(60, 64, 67, 0.3), 0px 1px 3px 1px rgba(60, 64, 67, 0.15);\n",
              "      fill: #174EA6;\n",
              "    }\n",
              "\n",
              "    [theme=dark] .colab-df-convert {\n",
              "      background-color: #3B4455;\n",
              "      fill: #D2E3FC;\n",
              "    }\n",
              "\n",
              "    [theme=dark] .colab-df-convert:hover {\n",
              "      background-color: #434B5C;\n",
              "      box-shadow: 0px 1px 3px 1px rgba(0, 0, 0, 0.15);\n",
              "      filter: drop-shadow(0px 1px 2px rgba(0, 0, 0, 0.3));\n",
              "      fill: #FFFFFF;\n",
              "    }\n",
              "  </style>\n",
              "\n",
              "      <script>\n",
              "        const buttonEl =\n",
              "          document.querySelector('#df-8b014535-ac40-4f78-8806-39abe2dee546 button.colab-df-convert');\n",
              "        buttonEl.style.display =\n",
              "          google.colab.kernel.accessAllowed ? 'block' : 'none';\n",
              "\n",
              "        async function convertToInteractive(key) {\n",
              "          const element = document.querySelector('#df-8b014535-ac40-4f78-8806-39abe2dee546');\n",
              "          const dataTable =\n",
              "            await google.colab.kernel.invokeFunction('convertToInteractive',\n",
              "                                                     [key], {});\n",
              "          if (!dataTable) return;\n",
              "\n",
              "          const docLinkHtml = 'Like what you see? Visit the ' +\n",
              "            '<a target=\"_blank\" href=https://colab.research.google.com/notebooks/data_table.ipynb>data table notebook</a>'\n",
              "            + ' to learn more about interactive tables.';\n",
              "          element.innerHTML = '';\n",
              "          dataTable['output_type'] = 'display_data';\n",
              "          await google.colab.output.renderOutput(dataTable, element);\n",
              "          const docLink = document.createElement('div');\n",
              "          docLink.innerHTML = docLinkHtml;\n",
              "          element.appendChild(docLink);\n",
              "        }\n",
              "      </script>\n",
              "    </div>\n",
              "  </div>\n",
              "  "
            ]
          },
          "metadata": {},
          "execution_count": 9
        }
      ]
    },
    {
      "cell_type": "markdown",
      "source": [
        "Pre-processing"
      ],
      "metadata": {
        "id": "1om_Rrk_v3hY"
      }
    },
    {
      "cell_type": "code",
      "source": [
        "#convert data in lower case\n",
        "data['Text'] =data['Text'].apply(lambda x: \" \".join(x.lower() for x in x.split()))\n",
        "data['Text'].head()\n",
        "\n"
      ],
      "metadata": {
        "colab": {
          "base_uri": "https://localhost:8080/"
        },
        "id": "P04HLEdZv7FY",
        "outputId": "ba9f4fcb-2a80-4d3c-8328-62ae667778b3"
      },
      "execution_count": 10,
      "outputs": [
        {
          "output_type": "execute_result",
          "data": {
            "text/plain": [
              "0                               @kunalb11 im an alien\n",
              "1    @id_aa_carmack ray tracing on cyberpunk with h...\n",
              "2                  @joerogan @spotify great interview!\n",
              "3                      @gtera27 doge is underestimated\n",
              "4    @teslacn congratulations tesla china for amazi...\n",
              "Name: Text, dtype: object"
            ]
          },
          "metadata": {},
          "execution_count": 10
        }
      ]
    },
    {
      "cell_type": "code",
      "source": [
        "#Removing punctuation\n",
        "data['Text']=data['Text'].str.replace('[^\\w\\s]',' ')\n",
        "data['Text'].head()"
      ],
      "metadata": {
        "colab": {
          "base_uri": "https://localhost:8080/"
        },
        "id": "u4JxBv2pQdbW",
        "outputId": "1dfc2b98-5832-414c-f9cb-12e824d3e50b"
      },
      "execution_count": 11,
      "outputs": [
        {
          "output_type": "stream",
          "name": "stderr",
          "text": [
            "<ipython-input-11-e374c9b83732>:2: FutureWarning: The default value of regex will change from True to False in a future version.\n",
            "  data['Text']=data['Text'].str.replace('[^\\w\\s]',' ')\n"
          ]
        },
        {
          "output_type": "execute_result",
          "data": {
            "text/plain": [
              "0                                kunalb11 i m an alien\n",
              "1     id_aa_carmack ray tracing on cyberpunk with h...\n",
              "2                   joerogan  spotify great interview \n",
              "3                       gtera27 doge is underestimated\n",
              "4     teslacn congratulations tesla china for amazi...\n",
              "Name: Text, dtype: object"
            ]
          },
          "metadata": {},
          "execution_count": 11
        }
      ]
    },
    {
      "cell_type": "code",
      "source": [
        "#Remove stop words\n",
        "stop=stopwords.words('english')\n",
        "\n",
        "data['Text'] = data['Text'].apply(lambda x:' '. join([x for x in x.split() if x  not in stop]))\n",
        "data['Text'].head()"
      ],
      "metadata": {
        "colab": {
          "base_uri": "https://localhost:8080/"
        },
        "id": "TN0fKR3ASccA",
        "outputId": "f63e8e9f-e59b-423e-8b14-b55961906e91"
      },
      "execution_count": 12,
      "outputs": [
        {
          "output_type": "execute_result",
          "data": {
            "text/plain": [
              "0                                       kunalb11 alien\n",
              "1    id_aa_carmack ray tracing cyberpunk hdr next l...\n",
              "2                     joerogan spotify great interview\n",
              "3                          gtera27 doge underestimated\n",
              "4    teslacn congratulations tesla china amazing ex...\n",
              "Name: Text, dtype: object"
            ]
          },
          "metadata": {},
          "execution_count": 12
        }
      ]
    },
    {
      "cell_type": "code",
      "source": [
        "#Removal of common words\n",
        "freq = pd.Series(' '.join(data['Text']).split()).value_counts()[:10]\n",
        "freq"
      ],
      "metadata": {
        "colab": {
          "base_uri": "https://localhost:8080/"
        },
        "id": "F5IGYURaSYug",
        "outputId": "13034143-9cb6-4604-c8af-43d08ec0e432"
      },
      "execution_count": 13,
      "outputs": [
        {
          "output_type": "execute_result",
          "data": {
            "text/plain": [
              "co                657\n",
              "https             655\n",
              "u                 319\n",
              "spacex            250\n",
              "amp               219\n",
              "tesla             169\n",
              "erdayastronaut    142\n",
              "rt                127\n",
              "ppathole          123\n",
              "flcnhvy           114\n",
              "dtype: int64"
            ]
          },
          "metadata": {},
          "execution_count": 13
        }
      ]
    },
    {
      "cell_type": "code",
      "source": [],
      "metadata": {
        "id": "sIc5TV5_xNhg"
      },
      "execution_count": null,
      "outputs": []
    },
    {
      "cell_type": "code",
      "source": [
        "freq = list(freq.index)\n",
        "data['Text'] = data['Text'].apply(lambda x: \" \".join(x for x in x.split() if x not in freq))\n",
        "data['Text'].head()"
      ],
      "metadata": {
        "colab": {
          "base_uri": "https://localhost:8080/"
        },
        "id": "q2WKlrxCY8os",
        "outputId": "d4384cf7-c1c1-4b46-d555-7bb2dfa00bc1"
      },
      "execution_count": 14,
      "outputs": [
        {
          "output_type": "execute_result",
          "data": {
            "text/plain": [
              "0                                       kunalb11 alien\n",
              "1    id_aa_carmack ray tracing cyberpunk hdr next l...\n",
              "2                     joerogan spotify great interview\n",
              "3                          gtera27 doge underestimated\n",
              "4    teslacn congratulations china amazing executio...\n",
              "Name: Text, dtype: object"
            ]
          },
          "metadata": {},
          "execution_count": 14
        }
      ]
    },
    {
      "cell_type": "code",
      "source": [
        "#remove rear words\n",
        "freq = pd.Series(' '.join(data['Text']).split()).value_counts()[-10:]\n",
        "freq"
      ],
      "metadata": {
        "colab": {
          "base_uri": "https://localhost:8080/"
        },
        "id": "xRAwCeqQccvP",
        "outputId": "09b140e7-f644-4004-8c5e-bd24b07f91f1"
      },
      "execution_count": 15,
      "outputs": [
        {
          "output_type": "execute_result",
          "data": {
            "text/plain": [
              "joeingeneral    1\n",
              "andrewbogut     1\n",
              "typical         1\n",
              "unusual         1\n",
              "24              1\n",
              "bogus           1\n",
              "cam             1\n",
              "z2v15u7zcf      1\n",
              "disk            1\n",
              "altho           1\n",
              "dtype: int64"
            ]
          },
          "metadata": {},
          "execution_count": 15
        }
      ]
    },
    {
      "cell_type": "code",
      "source": [
        "freq = list(freq.index)\n",
        "data['Text'] = data['Text'].apply(lambda x: \" \".join(x for x in x.split() if x not in freq))\n",
        "data['Text'].head()"
      ],
      "metadata": {
        "colab": {
          "base_uri": "https://localhost:8080/"
        },
        "id": "6kLxXDxLc9KR",
        "outputId": "e6bced34-72fc-4d1e-bdb4-346ccef3b64a"
      },
      "execution_count": 16,
      "outputs": [
        {
          "output_type": "execute_result",
          "data": {
            "text/plain": [
              "0                                       kunalb11 alien\n",
              "1    id_aa_carmack ray tracing cyberpunk hdr next l...\n",
              "2                     joerogan spotify great interview\n",
              "3                          gtera27 doge underestimated\n",
              "4    teslacn congratulations china amazing executio...\n",
              "Name: Text, dtype: object"
            ]
          },
          "metadata": {},
          "execution_count": 16
        }
      ]
    },
    {
      "cell_type": "code",
      "source": [
        "#Tokanization\n",
        "TextBlob(data['Text'][1]).words"
      ],
      "metadata": {
        "colab": {
          "base_uri": "https://localhost:8080/"
        },
        "id": "tvgZPZvedIDr",
        "outputId": "485fbbe0-6548-4cc0-e793-eb183780f040"
      },
      "execution_count": 17,
      "outputs": [
        {
          "output_type": "execute_result",
          "data": {
            "text/plain": [
              "WordList(['id_aa_carmack', 'ray', 'tracing', 'cyberpunk', 'hdr', 'next', 'level', 'tried'])"
            ]
          },
          "metadata": {},
          "execution_count": 17
        }
      ]
    },
    {
      "cell_type": "code",
      "source": [
        "nltk.download('punkt')"
      ],
      "metadata": {
        "colab": {
          "base_uri": "https://localhost:8080/"
        },
        "id": "N1m3FFWKdPjT",
        "outputId": "36c4e6a1-f241-4b63-dee1-b251b4dc1149"
      },
      "execution_count": 18,
      "outputs": [
        {
          "output_type": "stream",
          "name": "stderr",
          "text": [
            "[nltk_data] Downloading package punkt to /root/nltk_data...\n",
            "[nltk_data]   Package punkt is already up-to-date!\n"
          ]
        },
        {
          "output_type": "execute_result",
          "data": {
            "text/plain": [
              "True"
            ]
          },
          "metadata": {},
          "execution_count": 18
        }
      ]
    },
    {
      "cell_type": "code",
      "source": [
        "#Stemming\n",
        "from nltk.stem import PorterStemmer\n",
        "st = PorterStemmer()\n",
        "data['Text'][:5].apply(lambda x: \" \".join([st.stem(word) for word in x.split()]))\n"
      ],
      "metadata": {
        "colab": {
          "base_uri": "https://localhost:8080/"
        },
        "id": "BvyCqFnrdZYY",
        "outputId": "98e8b88b-20e6-42d3-c09f-50abeef4b5d7"
      },
      "execution_count": 19,
      "outputs": [
        {
          "output_type": "execute_result",
          "data": {
            "text/plain": [
              "0                                       kunalb11 alien\n",
              "1    id_aa_carmack ray trace cyberpunk hdr next lev...\n",
              "2                     joerogan spotifi great interview\n",
              "3                              gtera27 doge underestim\n",
              "4    teslacn congratul china amaz execut last year ...\n",
              "Name: Text, dtype: object"
            ]
          },
          "metadata": {},
          "execution_count": 19
        }
      ]
    },
    {
      "cell_type": "code",
      "source": [
        "#Lemmatization\n",
        "\n",
        "from textblob import Word\n",
        "\n",
        "data['Text'] = data['Text'].apply(lambda x: \" \".join([Word(word).lemmatize() for word in x.split()]))\n",
        "data['Text'].head()"
      ],
      "metadata": {
        "colab": {
          "base_uri": "https://localhost:8080/"
        },
        "id": "nllXGaTxduBG",
        "outputId": "a48ce861-b5ab-413d-89a0-3bb7b25e52ce"
      },
      "execution_count": 20,
      "outputs": [
        {
          "output_type": "execute_result",
          "data": {
            "text/plain": [
              "0                                       kunalb11 alien\n",
              "1    id_aa_carmack ray tracing cyberpunk hdr next l...\n",
              "2                     joerogan spotify great interview\n",
              "3                          gtera27 doge underestimated\n",
              "4    teslacn congratulation china amazing execution...\n",
              "Name: Text, dtype: object"
            ]
          },
          "metadata": {},
          "execution_count": 20
        }
      ]
    },
    {
      "cell_type": "code",
      "source": [
        "#N-grams\n",
        "TextBlob(data['Text'][0]).ngrams(2)"
      ],
      "metadata": {
        "colab": {
          "base_uri": "https://localhost:8080/"
        },
        "id": "p170mjSVMFg4",
        "outputId": "d240e6d2-9d42-4170-d34d-1f829b900e8e"
      },
      "execution_count": 22,
      "outputs": [
        {
          "output_type": "execute_result",
          "data": {
            "text/plain": [
              "[WordList(['kunalb11', 'alien'])]"
            ]
          },
          "metadata": {},
          "execution_count": 22
        }
      ]
    },
    {
      "cell_type": "markdown",
      "source": [
        "Term Frequency"
      ],
      "metadata": {
        "id": "8tBXRdTzyBIl"
      }
    },
    {
      "cell_type": "code",
      "source": [
        "tf1 = (data['Text'][1:2]).apply(lambda x: pd.value_counts(x.split(\" \"))).sum(axis = 0).reset_index()\n",
        "tf1.columns = ['words','tf']\n",
        "tf1"
      ],
      "metadata": {
        "colab": {
          "base_uri": "https://localhost:8080/",
          "height": 300
        },
        "id": "EhpnZ0w3x6Bj",
        "outputId": "220bd47a-c80f-4936-cb6f-c07046dee5c9"
      },
      "execution_count": 23,
      "outputs": [
        {
          "output_type": "execute_result",
          "data": {
            "text/plain": [
              "           words  tf\n",
              "0  id_aa_carmack   1\n",
              "1            ray   1\n",
              "2        tracing   1\n",
              "3      cyberpunk   1\n",
              "4            hdr   1\n",
              "5           next   1\n",
              "6          level   1\n",
              "7          tried   1"
            ],
            "text/html": [
              "\n",
              "  <div id=\"df-6837cab0-d5a5-495d-87c6-06a3911e421c\">\n",
              "    <div class=\"colab-df-container\">\n",
              "      <div>\n",
              "<style scoped>\n",
              "    .dataframe tbody tr th:only-of-type {\n",
              "        vertical-align: middle;\n",
              "    }\n",
              "\n",
              "    .dataframe tbody tr th {\n",
              "        vertical-align: top;\n",
              "    }\n",
              "\n",
              "    .dataframe thead th {\n",
              "        text-align: right;\n",
              "    }\n",
              "</style>\n",
              "<table border=\"1\" class=\"dataframe\">\n",
              "  <thead>\n",
              "    <tr style=\"text-align: right;\">\n",
              "      <th></th>\n",
              "      <th>words</th>\n",
              "      <th>tf</th>\n",
              "    </tr>\n",
              "  </thead>\n",
              "  <tbody>\n",
              "    <tr>\n",
              "      <th>0</th>\n",
              "      <td>id_aa_carmack</td>\n",
              "      <td>1</td>\n",
              "    </tr>\n",
              "    <tr>\n",
              "      <th>1</th>\n",
              "      <td>ray</td>\n",
              "      <td>1</td>\n",
              "    </tr>\n",
              "    <tr>\n",
              "      <th>2</th>\n",
              "      <td>tracing</td>\n",
              "      <td>1</td>\n",
              "    </tr>\n",
              "    <tr>\n",
              "      <th>3</th>\n",
              "      <td>cyberpunk</td>\n",
              "      <td>1</td>\n",
              "    </tr>\n",
              "    <tr>\n",
              "      <th>4</th>\n",
              "      <td>hdr</td>\n",
              "      <td>1</td>\n",
              "    </tr>\n",
              "    <tr>\n",
              "      <th>5</th>\n",
              "      <td>next</td>\n",
              "      <td>1</td>\n",
              "    </tr>\n",
              "    <tr>\n",
              "      <th>6</th>\n",
              "      <td>level</td>\n",
              "      <td>1</td>\n",
              "    </tr>\n",
              "    <tr>\n",
              "      <th>7</th>\n",
              "      <td>tried</td>\n",
              "      <td>1</td>\n",
              "    </tr>\n",
              "  </tbody>\n",
              "</table>\n",
              "</div>\n",
              "      <button class=\"colab-df-convert\" onclick=\"convertToInteractive('df-6837cab0-d5a5-495d-87c6-06a3911e421c')\"\n",
              "              title=\"Convert this dataframe to an interactive table.\"\n",
              "              style=\"display:none;\">\n",
              "        \n",
              "  <svg xmlns=\"http://www.w3.org/2000/svg\" height=\"24px\"viewBox=\"0 0 24 24\"\n",
              "       width=\"24px\">\n",
              "    <path d=\"M0 0h24v24H0V0z\" fill=\"none\"/>\n",
              "    <path d=\"M18.56 5.44l.94 2.06.94-2.06 2.06-.94-2.06-.94-.94-2.06-.94 2.06-2.06.94zm-11 1L8.5 8.5l.94-2.06 2.06-.94-2.06-.94L8.5 2.5l-.94 2.06-2.06.94zm10 10l.94 2.06.94-2.06 2.06-.94-2.06-.94-.94-2.06-.94 2.06-2.06.94z\"/><path d=\"M17.41 7.96l-1.37-1.37c-.4-.4-.92-.59-1.43-.59-.52 0-1.04.2-1.43.59L10.3 9.45l-7.72 7.72c-.78.78-.78 2.05 0 2.83L4 21.41c.39.39.9.59 1.41.59.51 0 1.02-.2 1.41-.59l7.78-7.78 2.81-2.81c.8-.78.8-2.07 0-2.86zM5.41 20L4 18.59l7.72-7.72 1.47 1.35L5.41 20z\"/>\n",
              "  </svg>\n",
              "      </button>\n",
              "      \n",
              "  <style>\n",
              "    .colab-df-container {\n",
              "      display:flex;\n",
              "      flex-wrap:wrap;\n",
              "      gap: 12px;\n",
              "    }\n",
              "\n",
              "    .colab-df-convert {\n",
              "      background-color: #E8F0FE;\n",
              "      border: none;\n",
              "      border-radius: 50%;\n",
              "      cursor: pointer;\n",
              "      display: none;\n",
              "      fill: #1967D2;\n",
              "      height: 32px;\n",
              "      padding: 0 0 0 0;\n",
              "      width: 32px;\n",
              "    }\n",
              "\n",
              "    .colab-df-convert:hover {\n",
              "      background-color: #E2EBFA;\n",
              "      box-shadow: 0px 1px 2px rgba(60, 64, 67, 0.3), 0px 1px 3px 1px rgba(60, 64, 67, 0.15);\n",
              "      fill: #174EA6;\n",
              "    }\n",
              "\n",
              "    [theme=dark] .colab-df-convert {\n",
              "      background-color: #3B4455;\n",
              "      fill: #D2E3FC;\n",
              "    }\n",
              "\n",
              "    [theme=dark] .colab-df-convert:hover {\n",
              "      background-color: #434B5C;\n",
              "      box-shadow: 0px 1px 3px 1px rgba(0, 0, 0, 0.15);\n",
              "      filter: drop-shadow(0px 1px 2px rgba(0, 0, 0, 0.3));\n",
              "      fill: #FFFFFF;\n",
              "    }\n",
              "  </style>\n",
              "\n",
              "      <script>\n",
              "        const buttonEl =\n",
              "          document.querySelector('#df-6837cab0-d5a5-495d-87c6-06a3911e421c button.colab-df-convert');\n",
              "        buttonEl.style.display =\n",
              "          google.colab.kernel.accessAllowed ? 'block' : 'none';\n",
              "\n",
              "        async function convertToInteractive(key) {\n",
              "          const element = document.querySelector('#df-6837cab0-d5a5-495d-87c6-06a3911e421c');\n",
              "          const dataTable =\n",
              "            await google.colab.kernel.invokeFunction('convertToInteractive',\n",
              "                                                     [key], {});\n",
              "          if (!dataTable) return;\n",
              "\n",
              "          const docLinkHtml = 'Like what you see? Visit the ' +\n",
              "            '<a target=\"_blank\" href=https://colab.research.google.com/notebooks/data_table.ipynb>data table notebook</a>'\n",
              "            + ' to learn more about interactive tables.';\n",
              "          element.innerHTML = '';\n",
              "          dataTable['output_type'] = 'display_data';\n",
              "          await google.colab.output.renderOutput(dataTable, element);\n",
              "          const docLink = document.createElement('div');\n",
              "          docLink.innerHTML = docLinkHtml;\n",
              "          element.appendChild(docLink);\n",
              "        }\n",
              "      </script>\n",
              "    </div>\n",
              "  </div>\n",
              "  "
            ]
          },
          "metadata": {},
          "execution_count": 23
        }
      ]
    },
    {
      "cell_type": "markdown",
      "source": [
        "Inverse Document Frequency"
      ],
      "metadata": {
        "id": "QdQJ3_fVyP8M"
      }
    },
    {
      "cell_type": "code",
      "source": [
        "for i,word in enumerate(tf1['words']):\n",
        "  tf1.loc[i, 'idf'] = np.log(data.shape[0]/(len(data[data['Text'].str.contains(word)])))\n",
        "\n",
        "tf1"
      ],
      "metadata": {
        "colab": {
          "base_uri": "https://localhost:8080/",
          "height": 300
        },
        "id": "OX2v62zKyN2s",
        "outputId": "6cb43dd1-c704-4855-b84d-4f1ca9eed3fe"
      },
      "execution_count": 27,
      "outputs": [
        {
          "output_type": "execute_result",
          "data": {
            "text/plain": [
              "           words  tf       idf\n",
              "0  id_aa_carmack   1  4.166415\n",
              "1            ray   1  5.035453\n",
              "2        tracing   1  7.600402\n",
              "3      cyberpunk   1  5.115496\n",
              "4            hdr   1  6.907255\n",
              "5           next   1  3.936841\n",
              "6          level   1  5.297817\n",
              "7          tried   1  5.808643"
            ],
            "text/html": [
              "\n",
              "  <div id=\"df-a8d091ee-2eaf-47e1-8974-2338aa92af71\">\n",
              "    <div class=\"colab-df-container\">\n",
              "      <div>\n",
              "<style scoped>\n",
              "    .dataframe tbody tr th:only-of-type {\n",
              "        vertical-align: middle;\n",
              "    }\n",
              "\n",
              "    .dataframe tbody tr th {\n",
              "        vertical-align: top;\n",
              "    }\n",
              "\n",
              "    .dataframe thead th {\n",
              "        text-align: right;\n",
              "    }\n",
              "</style>\n",
              "<table border=\"1\" class=\"dataframe\">\n",
              "  <thead>\n",
              "    <tr style=\"text-align: right;\">\n",
              "      <th></th>\n",
              "      <th>words</th>\n",
              "      <th>tf</th>\n",
              "      <th>idf</th>\n",
              "    </tr>\n",
              "  </thead>\n",
              "  <tbody>\n",
              "    <tr>\n",
              "      <th>0</th>\n",
              "      <td>id_aa_carmack</td>\n",
              "      <td>1</td>\n",
              "      <td>4.166415</td>\n",
              "    </tr>\n",
              "    <tr>\n",
              "      <th>1</th>\n",
              "      <td>ray</td>\n",
              "      <td>1</td>\n",
              "      <td>5.035453</td>\n",
              "    </tr>\n",
              "    <tr>\n",
              "      <th>2</th>\n",
              "      <td>tracing</td>\n",
              "      <td>1</td>\n",
              "      <td>7.600402</td>\n",
              "    </tr>\n",
              "    <tr>\n",
              "      <th>3</th>\n",
              "      <td>cyberpunk</td>\n",
              "      <td>1</td>\n",
              "      <td>5.115496</td>\n",
              "    </tr>\n",
              "    <tr>\n",
              "      <th>4</th>\n",
              "      <td>hdr</td>\n",
              "      <td>1</td>\n",
              "      <td>6.907255</td>\n",
              "    </tr>\n",
              "    <tr>\n",
              "      <th>5</th>\n",
              "      <td>next</td>\n",
              "      <td>1</td>\n",
              "      <td>3.936841</td>\n",
              "    </tr>\n",
              "    <tr>\n",
              "      <th>6</th>\n",
              "      <td>level</td>\n",
              "      <td>1</td>\n",
              "      <td>5.297817</td>\n",
              "    </tr>\n",
              "    <tr>\n",
              "      <th>7</th>\n",
              "      <td>tried</td>\n",
              "      <td>1</td>\n",
              "      <td>5.808643</td>\n",
              "    </tr>\n",
              "  </tbody>\n",
              "</table>\n",
              "</div>\n",
              "      <button class=\"colab-df-convert\" onclick=\"convertToInteractive('df-a8d091ee-2eaf-47e1-8974-2338aa92af71')\"\n",
              "              title=\"Convert this dataframe to an interactive table.\"\n",
              "              style=\"display:none;\">\n",
              "        \n",
              "  <svg xmlns=\"http://www.w3.org/2000/svg\" height=\"24px\"viewBox=\"0 0 24 24\"\n",
              "       width=\"24px\">\n",
              "    <path d=\"M0 0h24v24H0V0z\" fill=\"none\"/>\n",
              "    <path d=\"M18.56 5.44l.94 2.06.94-2.06 2.06-.94-2.06-.94-.94-2.06-.94 2.06-2.06.94zm-11 1L8.5 8.5l.94-2.06 2.06-.94-2.06-.94L8.5 2.5l-.94 2.06-2.06.94zm10 10l.94 2.06.94-2.06 2.06-.94-2.06-.94-.94-2.06-.94 2.06-2.06.94z\"/><path d=\"M17.41 7.96l-1.37-1.37c-.4-.4-.92-.59-1.43-.59-.52 0-1.04.2-1.43.59L10.3 9.45l-7.72 7.72c-.78.78-.78 2.05 0 2.83L4 21.41c.39.39.9.59 1.41.59.51 0 1.02-.2 1.41-.59l7.78-7.78 2.81-2.81c.8-.78.8-2.07 0-2.86zM5.41 20L4 18.59l7.72-7.72 1.47 1.35L5.41 20z\"/>\n",
              "  </svg>\n",
              "      </button>\n",
              "      \n",
              "  <style>\n",
              "    .colab-df-container {\n",
              "      display:flex;\n",
              "      flex-wrap:wrap;\n",
              "      gap: 12px;\n",
              "    }\n",
              "\n",
              "    .colab-df-convert {\n",
              "      background-color: #E8F0FE;\n",
              "      border: none;\n",
              "      border-radius: 50%;\n",
              "      cursor: pointer;\n",
              "      display: none;\n",
              "      fill: #1967D2;\n",
              "      height: 32px;\n",
              "      padding: 0 0 0 0;\n",
              "      width: 32px;\n",
              "    }\n",
              "\n",
              "    .colab-df-convert:hover {\n",
              "      background-color: #E2EBFA;\n",
              "      box-shadow: 0px 1px 2px rgba(60, 64, 67, 0.3), 0px 1px 3px 1px rgba(60, 64, 67, 0.15);\n",
              "      fill: #174EA6;\n",
              "    }\n",
              "\n",
              "    [theme=dark] .colab-df-convert {\n",
              "      background-color: #3B4455;\n",
              "      fill: #D2E3FC;\n",
              "    }\n",
              "\n",
              "    [theme=dark] .colab-df-convert:hover {\n",
              "      background-color: #434B5C;\n",
              "      box-shadow: 0px 1px 3px 1px rgba(0, 0, 0, 0.15);\n",
              "      filter: drop-shadow(0px 1px 2px rgba(0, 0, 0, 0.3));\n",
              "      fill: #FFFFFF;\n",
              "    }\n",
              "  </style>\n",
              "\n",
              "      <script>\n",
              "        const buttonEl =\n",
              "          document.querySelector('#df-a8d091ee-2eaf-47e1-8974-2338aa92af71 button.colab-df-convert');\n",
              "        buttonEl.style.display =\n",
              "          google.colab.kernel.accessAllowed ? 'block' : 'none';\n",
              "\n",
              "        async function convertToInteractive(key) {\n",
              "          const element = document.querySelector('#df-a8d091ee-2eaf-47e1-8974-2338aa92af71');\n",
              "          const dataTable =\n",
              "            await google.colab.kernel.invokeFunction('convertToInteractive',\n",
              "                                                     [key], {});\n",
              "          if (!dataTable) return;\n",
              "\n",
              "          const docLinkHtml = 'Like what you see? Visit the ' +\n",
              "            '<a target=\"_blank\" href=https://colab.research.google.com/notebooks/data_table.ipynb>data table notebook</a>'\n",
              "            + ' to learn more about interactive tables.';\n",
              "          element.innerHTML = '';\n",
              "          dataTable['output_type'] = 'display_data';\n",
              "          await google.colab.output.renderOutput(dataTable, element);\n",
              "          const docLink = document.createElement('div');\n",
              "          docLink.innerHTML = docLinkHtml;\n",
              "          element.appendChild(docLink);\n",
              "        }\n",
              "      </script>\n",
              "    </div>\n",
              "  </div>\n",
              "  "
            ]
          },
          "metadata": {},
          "execution_count": 27
        }
      ]
    },
    {
      "cell_type": "markdown",
      "source": [
        "TF-IDF"
      ],
      "metadata": {
        "id": "5AyM2c07yWxb"
      }
    },
    {
      "cell_type": "code",
      "source": [
        "tf1['tfidf'] = tf1['tf'] * tf1['idf']\n",
        "tf1"
      ],
      "metadata": {
        "colab": {
          "base_uri": "https://localhost:8080/",
          "height": 300
        },
        "id": "JUjHkBYHyb6D",
        "outputId": "50baa0ba-2dce-49ee-a3f3-0a1546fb7f6f"
      },
      "execution_count": 28,
      "outputs": [
        {
          "output_type": "execute_result",
          "data": {
            "text/plain": [
              "           words  tf       idf     tfidf\n",
              "0  id_aa_carmack   1  4.166415  4.166415\n",
              "1            ray   1  5.035453  5.035453\n",
              "2        tracing   1  7.600402  7.600402\n",
              "3      cyberpunk   1  5.115496  5.115496\n",
              "4            hdr   1  6.907255  6.907255\n",
              "5           next   1  3.936841  3.936841\n",
              "6          level   1  5.297817  5.297817\n",
              "7          tried   1  5.808643  5.808643"
            ],
            "text/html": [
              "\n",
              "  <div id=\"df-58cf5c81-2833-4bb1-86aa-d72e7987ac4d\">\n",
              "    <div class=\"colab-df-container\">\n",
              "      <div>\n",
              "<style scoped>\n",
              "    .dataframe tbody tr th:only-of-type {\n",
              "        vertical-align: middle;\n",
              "    }\n",
              "\n",
              "    .dataframe tbody tr th {\n",
              "        vertical-align: top;\n",
              "    }\n",
              "\n",
              "    .dataframe thead th {\n",
              "        text-align: right;\n",
              "    }\n",
              "</style>\n",
              "<table border=\"1\" class=\"dataframe\">\n",
              "  <thead>\n",
              "    <tr style=\"text-align: right;\">\n",
              "      <th></th>\n",
              "      <th>words</th>\n",
              "      <th>tf</th>\n",
              "      <th>idf</th>\n",
              "      <th>tfidf</th>\n",
              "    </tr>\n",
              "  </thead>\n",
              "  <tbody>\n",
              "    <tr>\n",
              "      <th>0</th>\n",
              "      <td>id_aa_carmack</td>\n",
              "      <td>1</td>\n",
              "      <td>4.166415</td>\n",
              "      <td>4.166415</td>\n",
              "    </tr>\n",
              "    <tr>\n",
              "      <th>1</th>\n",
              "      <td>ray</td>\n",
              "      <td>1</td>\n",
              "      <td>5.035453</td>\n",
              "      <td>5.035453</td>\n",
              "    </tr>\n",
              "    <tr>\n",
              "      <th>2</th>\n",
              "      <td>tracing</td>\n",
              "      <td>1</td>\n",
              "      <td>7.600402</td>\n",
              "      <td>7.600402</td>\n",
              "    </tr>\n",
              "    <tr>\n",
              "      <th>3</th>\n",
              "      <td>cyberpunk</td>\n",
              "      <td>1</td>\n",
              "      <td>5.115496</td>\n",
              "      <td>5.115496</td>\n",
              "    </tr>\n",
              "    <tr>\n",
              "      <th>4</th>\n",
              "      <td>hdr</td>\n",
              "      <td>1</td>\n",
              "      <td>6.907255</td>\n",
              "      <td>6.907255</td>\n",
              "    </tr>\n",
              "    <tr>\n",
              "      <th>5</th>\n",
              "      <td>next</td>\n",
              "      <td>1</td>\n",
              "      <td>3.936841</td>\n",
              "      <td>3.936841</td>\n",
              "    </tr>\n",
              "    <tr>\n",
              "      <th>6</th>\n",
              "      <td>level</td>\n",
              "      <td>1</td>\n",
              "      <td>5.297817</td>\n",
              "      <td>5.297817</td>\n",
              "    </tr>\n",
              "    <tr>\n",
              "      <th>7</th>\n",
              "      <td>tried</td>\n",
              "      <td>1</td>\n",
              "      <td>5.808643</td>\n",
              "      <td>5.808643</td>\n",
              "    </tr>\n",
              "  </tbody>\n",
              "</table>\n",
              "</div>\n",
              "      <button class=\"colab-df-convert\" onclick=\"convertToInteractive('df-58cf5c81-2833-4bb1-86aa-d72e7987ac4d')\"\n",
              "              title=\"Convert this dataframe to an interactive table.\"\n",
              "              style=\"display:none;\">\n",
              "        \n",
              "  <svg xmlns=\"http://www.w3.org/2000/svg\" height=\"24px\"viewBox=\"0 0 24 24\"\n",
              "       width=\"24px\">\n",
              "    <path d=\"M0 0h24v24H0V0z\" fill=\"none\"/>\n",
              "    <path d=\"M18.56 5.44l.94 2.06.94-2.06 2.06-.94-2.06-.94-.94-2.06-.94 2.06-2.06.94zm-11 1L8.5 8.5l.94-2.06 2.06-.94-2.06-.94L8.5 2.5l-.94 2.06-2.06.94zm10 10l.94 2.06.94-2.06 2.06-.94-2.06-.94-.94-2.06-.94 2.06-2.06.94z\"/><path d=\"M17.41 7.96l-1.37-1.37c-.4-.4-.92-.59-1.43-.59-.52 0-1.04.2-1.43.59L10.3 9.45l-7.72 7.72c-.78.78-.78 2.05 0 2.83L4 21.41c.39.39.9.59 1.41.59.51 0 1.02-.2 1.41-.59l7.78-7.78 2.81-2.81c.8-.78.8-2.07 0-2.86zM5.41 20L4 18.59l7.72-7.72 1.47 1.35L5.41 20z\"/>\n",
              "  </svg>\n",
              "      </button>\n",
              "      \n",
              "  <style>\n",
              "    .colab-df-container {\n",
              "      display:flex;\n",
              "      flex-wrap:wrap;\n",
              "      gap: 12px;\n",
              "    }\n",
              "\n",
              "    .colab-df-convert {\n",
              "      background-color: #E8F0FE;\n",
              "      border: none;\n",
              "      border-radius: 50%;\n",
              "      cursor: pointer;\n",
              "      display: none;\n",
              "      fill: #1967D2;\n",
              "      height: 32px;\n",
              "      padding: 0 0 0 0;\n",
              "      width: 32px;\n",
              "    }\n",
              "\n",
              "    .colab-df-convert:hover {\n",
              "      background-color: #E2EBFA;\n",
              "      box-shadow: 0px 1px 2px rgba(60, 64, 67, 0.3), 0px 1px 3px 1px rgba(60, 64, 67, 0.15);\n",
              "      fill: #174EA6;\n",
              "    }\n",
              "\n",
              "    [theme=dark] .colab-df-convert {\n",
              "      background-color: #3B4455;\n",
              "      fill: #D2E3FC;\n",
              "    }\n",
              "\n",
              "    [theme=dark] .colab-df-convert:hover {\n",
              "      background-color: #434B5C;\n",
              "      box-shadow: 0px 1px 3px 1px rgba(0, 0, 0, 0.15);\n",
              "      filter: drop-shadow(0px 1px 2px rgba(0, 0, 0, 0.3));\n",
              "      fill: #FFFFFF;\n",
              "    }\n",
              "  </style>\n",
              "\n",
              "      <script>\n",
              "        const buttonEl =\n",
              "          document.querySelector('#df-58cf5c81-2833-4bb1-86aa-d72e7987ac4d button.colab-df-convert');\n",
              "        buttonEl.style.display =\n",
              "          google.colab.kernel.accessAllowed ? 'block' : 'none';\n",
              "\n",
              "        async function convertToInteractive(key) {\n",
              "          const element = document.querySelector('#df-58cf5c81-2833-4bb1-86aa-d72e7987ac4d');\n",
              "          const dataTable =\n",
              "            await google.colab.kernel.invokeFunction('convertToInteractive',\n",
              "                                                     [key], {});\n",
              "          if (!dataTable) return;\n",
              "\n",
              "          const docLinkHtml = 'Like what you see? Visit the ' +\n",
              "            '<a target=\"_blank\" href=https://colab.research.google.com/notebooks/data_table.ipynb>data table notebook</a>'\n",
              "            + ' to learn more about interactive tables.';\n",
              "          element.innerHTML = '';\n",
              "          dataTable['output_type'] = 'display_data';\n",
              "          await google.colab.output.renderOutput(dataTable, element);\n",
              "          const docLink = document.createElement('div');\n",
              "          docLink.innerHTML = docLinkHtml;\n",
              "          element.appendChild(docLink);\n",
              "        }\n",
              "      </script>\n",
              "    </div>\n",
              "  </div>\n",
              "  "
            ]
          },
          "metadata": {},
          "execution_count": 28
        }
      ]
    },
    {
      "cell_type": "markdown",
      "source": [
        "Bag of words"
      ],
      "metadata": {
        "id": "hiJaw-iEM4Bv"
      }
    },
    {
      "cell_type": "code",
      "source": [
        "from sklearn.feature_extraction.text import TfidfVectorizer\n",
        "tfidf = TfidfVectorizer(max_features=1000, lowercase=True, analyzer='word',\n",
        " stop_words= 'english',ngram_range=(1,1))\n",
        "vect = tfidf.fit_transform(data['Text'])\n",
        "vect"
      ],
      "metadata": {
        "colab": {
          "base_uri": "https://localhost:8080/"
        },
        "id": "FOUCShhEzKp0",
        "outputId": "ff7499cf-f869-4329-f187-e45f42744ece"
      },
      "execution_count": null,
      "outputs": [
        {
          "output_type": "execute_result",
          "data": {
            "text/plain": [
              "<1999x1000 sparse matrix of type '<class 'numpy.float64'>'\n",
              "\twith 7673 stored elements in Compressed Sparse Row format>"
            ]
          },
          "metadata": {},
          "execution_count": 36
        }
      ]
    },
    {
      "cell_type": "markdown",
      "source": [
        "Sentimental Analysis"
      ],
      "metadata": {
        "id": "h3erFsSTz2PH"
      }
    },
    {
      "cell_type": "code",
      "source": [
        "data['sentiment'] = data['Text'].apply(lambda x: TextBlob(x).sentiment[0] )\n",
        "data[['Text','sentiment']].head()"
      ],
      "metadata": {
        "colab": {
          "base_uri": "https://localhost:8080/",
          "height": 206
        },
        "id": "Alw4L1FlfcoP",
        "outputId": "0e0bdcfc-107a-4131-f983-d98656babbd0"
      },
      "execution_count": 29,
      "outputs": [
        {
          "output_type": "execute_result",
          "data": {
            "text/plain": [
              "                                                Text  sentiment\n",
              "0                                     kunalb11 alien      -0.25\n",
              "1  id_aa_carmack ray tracing cyberpunk hdr next l...       0.00\n",
              "2                   joerogan spotify great interview       0.80\n",
              "3                        gtera27 doge underestimated       0.00\n",
              "4  teslacn congratulation china amazing execution...       0.20"
            ],
            "text/html": [
              "\n",
              "  <div id=\"df-319c3285-6fa2-4f09-8664-2bf69a717e6f\">\n",
              "    <div class=\"colab-df-container\">\n",
              "      <div>\n",
              "<style scoped>\n",
              "    .dataframe tbody tr th:only-of-type {\n",
              "        vertical-align: middle;\n",
              "    }\n",
              "\n",
              "    .dataframe tbody tr th {\n",
              "        vertical-align: top;\n",
              "    }\n",
              "\n",
              "    .dataframe thead th {\n",
              "        text-align: right;\n",
              "    }\n",
              "</style>\n",
              "<table border=\"1\" class=\"dataframe\">\n",
              "  <thead>\n",
              "    <tr style=\"text-align: right;\">\n",
              "      <th></th>\n",
              "      <th>Text</th>\n",
              "      <th>sentiment</th>\n",
              "    </tr>\n",
              "  </thead>\n",
              "  <tbody>\n",
              "    <tr>\n",
              "      <th>0</th>\n",
              "      <td>kunalb11 alien</td>\n",
              "      <td>-0.25</td>\n",
              "    </tr>\n",
              "    <tr>\n",
              "      <th>1</th>\n",
              "      <td>id_aa_carmack ray tracing cyberpunk hdr next l...</td>\n",
              "      <td>0.00</td>\n",
              "    </tr>\n",
              "    <tr>\n",
              "      <th>2</th>\n",
              "      <td>joerogan spotify great interview</td>\n",
              "      <td>0.80</td>\n",
              "    </tr>\n",
              "    <tr>\n",
              "      <th>3</th>\n",
              "      <td>gtera27 doge underestimated</td>\n",
              "      <td>0.00</td>\n",
              "    </tr>\n",
              "    <tr>\n",
              "      <th>4</th>\n",
              "      <td>teslacn congratulation china amazing execution...</td>\n",
              "      <td>0.20</td>\n",
              "    </tr>\n",
              "  </tbody>\n",
              "</table>\n",
              "</div>\n",
              "      <button class=\"colab-df-convert\" onclick=\"convertToInteractive('df-319c3285-6fa2-4f09-8664-2bf69a717e6f')\"\n",
              "              title=\"Convert this dataframe to an interactive table.\"\n",
              "              style=\"display:none;\">\n",
              "        \n",
              "  <svg xmlns=\"http://www.w3.org/2000/svg\" height=\"24px\"viewBox=\"0 0 24 24\"\n",
              "       width=\"24px\">\n",
              "    <path d=\"M0 0h24v24H0V0z\" fill=\"none\"/>\n",
              "    <path d=\"M18.56 5.44l.94 2.06.94-2.06 2.06-.94-2.06-.94-.94-2.06-.94 2.06-2.06.94zm-11 1L8.5 8.5l.94-2.06 2.06-.94-2.06-.94L8.5 2.5l-.94 2.06-2.06.94zm10 10l.94 2.06.94-2.06 2.06-.94-2.06-.94-.94-2.06-.94 2.06-2.06.94z\"/><path d=\"M17.41 7.96l-1.37-1.37c-.4-.4-.92-.59-1.43-.59-.52 0-1.04.2-1.43.59L10.3 9.45l-7.72 7.72c-.78.78-.78 2.05 0 2.83L4 21.41c.39.39.9.59 1.41.59.51 0 1.02-.2 1.41-.59l7.78-7.78 2.81-2.81c.8-.78.8-2.07 0-2.86zM5.41 20L4 18.59l7.72-7.72 1.47 1.35L5.41 20z\"/>\n",
              "  </svg>\n",
              "      </button>\n",
              "      \n",
              "  <style>\n",
              "    .colab-df-container {\n",
              "      display:flex;\n",
              "      flex-wrap:wrap;\n",
              "      gap: 12px;\n",
              "    }\n",
              "\n",
              "    .colab-df-convert {\n",
              "      background-color: #E8F0FE;\n",
              "      border: none;\n",
              "      border-radius: 50%;\n",
              "      cursor: pointer;\n",
              "      display: none;\n",
              "      fill: #1967D2;\n",
              "      height: 32px;\n",
              "      padding: 0 0 0 0;\n",
              "      width: 32px;\n",
              "    }\n",
              "\n",
              "    .colab-df-convert:hover {\n",
              "      background-color: #E2EBFA;\n",
              "      box-shadow: 0px 1px 2px rgba(60, 64, 67, 0.3), 0px 1px 3px 1px rgba(60, 64, 67, 0.15);\n",
              "      fill: #174EA6;\n",
              "    }\n",
              "\n",
              "    [theme=dark] .colab-df-convert {\n",
              "      background-color: #3B4455;\n",
              "      fill: #D2E3FC;\n",
              "    }\n",
              "\n",
              "    [theme=dark] .colab-df-convert:hover {\n",
              "      background-color: #434B5C;\n",
              "      box-shadow: 0px 1px 3px 1px rgba(0, 0, 0, 0.15);\n",
              "      filter: drop-shadow(0px 1px 2px rgba(0, 0, 0, 0.3));\n",
              "      fill: #FFFFFF;\n",
              "    }\n",
              "  </style>\n",
              "\n",
              "      <script>\n",
              "        const buttonEl =\n",
              "          document.querySelector('#df-319c3285-6fa2-4f09-8664-2bf69a717e6f button.colab-df-convert');\n",
              "        buttonEl.style.display =\n",
              "          google.colab.kernel.accessAllowed ? 'block' : 'none';\n",
              "\n",
              "        async function convertToInteractive(key) {\n",
              "          const element = document.querySelector('#df-319c3285-6fa2-4f09-8664-2bf69a717e6f');\n",
              "          const dataTable =\n",
              "            await google.colab.kernel.invokeFunction('convertToInteractive',\n",
              "                                                     [key], {});\n",
              "          if (!dataTable) return;\n",
              "\n",
              "          const docLinkHtml = 'Like what you see? Visit the ' +\n",
              "            '<a target=\"_blank\" href=https://colab.research.google.com/notebooks/data_table.ipynb>data table notebook</a>'\n",
              "            + ' to learn more about interactive tables.';\n",
              "          element.innerHTML = '';\n",
              "          dataTable['output_type'] = 'display_data';\n",
              "          await google.colab.output.renderOutput(dataTable, element);\n",
              "          const docLink = document.createElement('div');\n",
              "          docLink.innerHTML = docLinkHtml;\n",
              "          element.appendChild(docLink);\n",
              "        }\n",
              "      </script>\n",
              "    </div>\n",
              "  </div>\n",
              "  "
            ]
          },
          "metadata": {},
          "execution_count": 29
        }
      ]
    },
    {
      "cell_type": "markdown",
      "source": [],
      "metadata": {
        "id": "g1Ufyp6DIXFt"
      }
    },
    {
      "cell_type": "code",
      "source": [
        "from wordcloud import WordCloud,STOPWORDS\n",
        "import matplotlib.pyplot as plt"
      ],
      "metadata": {
        "id": "R8JXY2yrIXcL"
      },
      "execution_count": 50,
      "outputs": []
    },
    {
      "cell_type": "code",
      "source": [
        "stop= STOPWORDS"
      ],
      "metadata": {
        "id": "PqYEJYFtIa9W"
      },
      "execution_count": 51,
      "outputs": []
    },
    {
      "cell_type": "code",
      "source": [
        "data['Text']"
      ],
      "metadata": {
        "colab": {
          "base_uri": "https://localhost:8080/"
        },
        "id": "hVO9Q7BLRmtN",
        "outputId": "6b6633c2-20d5-43e8-c610-2767e2846af8"
      },
      "execution_count": 52,
      "outputs": [
        {
          "output_type": "execute_result",
          "data": {
            "text/plain": [
              "0                                          kunalb11 alien\n",
              "1       id_aa_carmack ray tracing cyberpunk hdr next l...\n",
              "2                        joerogan spotify great interview\n",
              "3                             gtera27 doge underestimated\n",
              "4       teslacn congratulation china amazing execution...\n",
              "                              ...                        \n",
              "1994    true sound surreal negative propaganda still e...\n",
              "1995     make sure read ur term condition clicking accept\n",
              "1996                             teslagong samwise gamgee\n",
              "1997                        dumb dumber 0001f525 0001f525\n",
              "1998                            progress update august 28\n",
              "Name: Text, Length: 1999, dtype: object"
            ]
          },
          "metadata": {},
          "execution_count": 52
        }
      ]
    },
    {
      "cell_type": "code",
      "source": [
        "#joinng all sentences of data\n",
        "txt = ' '.join(data['Text']) # with space join all sentences in x\n",
        "txt"
      ],
      "metadata": {
        "colab": {
          "base_uri": "https://localhost:8080/",
          "height": 145
        },
        "id": "FXR6mZLXR-mT",
        "outputId": "77fefe8b-b887-4955-e548-8d685c971d71"
      },
      "execution_count": 53,
      "outputs": [
        {
          "output_type": "execute_result",
          "data": {
            "text/plain": [
              "'kunalb11 alien id_aa_carmack ray tracing cyberpunk hdr next level tried joerogan spotify great interview gtera27 doge underestimated teslacn congratulation china amazing execution last year next even happy new year ox 9wfkmyu2oj frodo underdoge thought would fail zgxjfdzzrm owensparks_ anonyx10 haha thanks anonyx10 indeed tweet definitely represent real world time allocation entertaining outcome likely givedirectly sent agree clubhouse kanyewest 3rwe9uhsts geoffkeighley unrealengine getting real bought dogecoin lil x toddler hodler joshmanmode definitely issue sentencing seems bit high freewalletorg thanks fixing freewalletorg please unlock account astrojordy 0001f923 0001f923 true power haha fc9uhqsd7o freewalletorg crypto wallet give private key avoided cost freewalletorg app suck nasa selected falcon heavy launch first two element lunar gateway together one mission 3pwt ajtourville yes blkmdl3 rationaletienne adamklotz_ predict cash flow reasonably well starlink ipo rationaletienne adamklotz_ starlink staggeringly difficult technical economic endeavor however 9z8ac6skqx rationaletienne adamklotz_ need pas deep chasm negative cash flow next year 7j1c92hdjl id_aa_carmack lowest cost per ton carbon sequestered net value product made must scalable g xmyi7qwsgw adamklotz_ meant price country difference tax shipping tobyliiiiiiiiii intended earth may idea apply mar cryptoshrikar coindesk dan_z_palmer 0001f923 0001f923 xprize team manage 100m carbon capture prize fsw5ianl0r sruhle everyone receives stock comp stock option take table missing back work go capybarasurfer mattwallace888 seem bit high itsallrisky doge appears inflationary meaningfully fixed coin per unit time whereas 4uh4rarc6t michaelgalanin kevinmgill wow michaelhodapp_ 1 orbital launch tower stack 2 enough raptor orbit booster 3 improve ship booster mass michaelhodapp_ back work tonight ð ðogecoin instructional video ueeocofctb people spoken x41ovmztgo nivetha_7_42 lexfridman cute 0001f495 univercurious extremely misleading image reflect true time cost people rain pain 0001f3b6 let doge 0001f3b6 hodl rainforest finally come gf0rg2qoaf itsallrisky fun crypto joshroomsburg snoopdogg genesimmons simplicity genius astro_g_dogg yup jbuttermost dogecoinrich 0001f923 0001f923 wapodavenport true dogecoinrich 0001f923 0001f923 astrojordy easy two decade intense work look old note email text astrojordy yes lesson learned earth mar time tell story theonion read thebabylonbee great second last kingdom je4ei88hmv dumdin7 grimezsz heard name year grimezsz dogecake yolt cnof9yjpf1 kristennetten damian kristennetten yeah owensparks_ sure great thing restaurant get hang stranger sjm future currency earth redlineshifter scratch much wow rationaletienne 0001f5a4 wonderofscience destiny renatakonkoly teslarati woodhaus2 franz essential josh_bickett ajtourville said ship landing burn clear solution greate e5wikiugkz adamklotz_ josh_bickett ajtourville still use hot gas maneuvering rcs thruster vso9h4ioed josh_bickett ajtourville higher isp josh_bickett ajtourville intuitively would seem turbopump fed raptor mu lbtg1sibuc brendan2908 nasaspaceflight yes falcon 9 launch nasa spherex mission collect data 300 million galaxy explore un falcon 9 launch 60 starlink satellite orbit mission pad 39a deck 71cucbgpnx mikko darudevil true josh_bickett ajtourville yeah default engine least lever arm would shut 3 good ajtourville yes engine min throttle point flameout risk la thniyssnwn adamklotz_ yes foolish u start 3 engine immediately shut 1 2 needed land become meme destroyer short commander_cruz might actually happen sandstorm masterpiece madoverlord dumb next time try pull method j1m7whlrdr low key loki high low doge need gigachad dogecoin people crypto ur welcome e2kf57klxb huobiglobal entertaining outcome likely doge vviuzwhodt high sea wind tough one bey7pefpcj watch falcon 9 launch 60 starlink satellite 2192 bjfjlczwdk ln95reesbw twitter filled graffiti art eiraum 043c 044b 0441 0434 0435 043b 0430 0435 043c giga berlin progress ekpg5qcbui hamoon__ neuralink neuralink working super hard ensure implant safety close communication yky1llpumd mission enables access everyday people dream going space announcing first commercial astronaut mission orbit earth aboard dragon 2192 mbesvnakad uklsjffrjk worked advanced wearable phone robot skill needed neuralink feel weird helping make hopefully good version cyberpunk come true please consider working neuralink short term solve brain spine injury long term human ai symbiosis latte qrc6alads2 xccokojylt clubhouse tonight 10pm la time tj_cooney lrocket felixschlang marcushousegame tom great story experim teezkiwcmk commercial_crew launch alert 0001f680 nasa targeting earlier april 20 launch second crew rotation mi tj_cooney lrocket felixschlang marcushousegame became big fan methane mdv0vdefyc tj_cooney lrocket felixschlang marcushousegame sound correct tom certainly deserves lot cre hdri4hfa8b tj_cooney lrocket felixschlang marcushousegame tom great instrumental developing early vers ulxtclm1g6 ercxspace smvllstvrs w 1 5 accelerate unusually fast high w important reusable v u1z2cprrqj we5dogg teslaownerssv escaping thebabylonbee read whole article 0001f923 0001f923 warm sunny day snowy mountain 2k8psyqu4j beautiful day la escjtbzo9d jaylav_ yeah dr frankensteen wdj9k2ujqk younesh1989 never used guy gave talk halo pyrcfe97xp carnage4life sure hope true thejackbeyer nasaspaceflight cryoproof install engine starship sn9 sn10 urtpjn7amo retrospect inevitable rgvaerialphotos great shot its_menieb live sword die sword lexfridman entropy teslaownerssv gamespot buy hold company make good produce service love engineers_feed earth small smaller still gtohclgj82 gamespot 0001f440 cyberpunk even hotfixes literally hotfixes great game a6kmk0pegm documentingbtc dollar shorting westcoastbill indeed johnnacrider1 iupsychdoctor aoc robinhoodapp shopify great used ohqwix bnnj6bcghvzqxlb 0001f923 0001f923 wimgrommen wsbchairman indeed economy making useful product providing great service actually matter iupsychdoctor aoc robinhoodapp tanstaafl would better small fee fee latter make robin czrhlolyvo come shorty apologist give respect get shorty sell house sell car sell stock b sh vjkf9bqbod rationaletienne teslavangelist yes 28delayslater finishing engineering year production start next year aiming release candidate desig bfverxpoqu grimezsz made video aoc robinhoodapp absolutely nasaspaceflight unlike aircraft division fine faa space division fundamentally broken reg si63axbjbz evankaylor nomad anbuteau 0001f917 esthetic cyberpunk incredible btw interior design 0001f44c trevormahlmann major esthetic improvement coming teslaownerssv dmc_ryan little dmc_ryan new roadster part rocket dmc_ryan lafebra gfilche storage easily upgradable avalonpenrose djdzxq4maz couch_investor yes 24_7teslanews wholemarsblog yeah probably month wholemarsblog drive without using prnd stalk stick day get annoying go back use shifter wholemarsblog stalk car guess drive direction based obstacle see context nav map 6go7ehq9qy avalonpenrose hedge fund short shrubbery lafebra gfilche m0wwqstaxm lafebra gfilche yeah also rear screen 0 155mph trap speed 1 4 mile 200mph top speed right tire first production car ever achieve 0 60 mph le 2 second play cyberpunk plaid model ship next month hfuptnqipb even discord gone corpo jason yup wild time discord haha f23fxqkbce andycolt2 waiting faa review gamestonk rztkdzaewj labpadre passed initial pressure test adamhoov yes v7cffwac0a bought hand knit wool marvin martian helm dog gpcvjibtlm kinda love etsy thesheetztweetz serve public hamstring starlink today amazon satellite system snigkxdxfp nextspaceflight hoping faa approval test flight tomorrow afternoon wholemarsblog entire stack data collection labeling inference surround video th u90sqjkn8u wholemarsblog yes although crazy turn fsd wholemarsblog steadily moving nns 8 camera surround video enable superhuman self driving naval tyranny also road hell mostly paved bad intention levine catchy au32myf2rn megaconstellati aviation_intel jetcitystar larrypress sat launched next year laser link ceofli8lzm megaconstellati aviation_intel jetcitystar larrypress yup teslagong teslaownerssv cleantechnica hope tesmanian_com also laser link satellite ground station needed pole teslaownerssv cleantechnica sorry version confusion v8 1 say fsd separate version number rest car cleantechnica surprise better ai hardware software waymo money ricguccio teslaownerssv float boringcompany fallout themed opening party vega loop happening soon allowed alex_e_benton boringcompany 0001f923 0001f923 vega boringcompany tunnel yesterday boy tlfouiedfm laser rideshare offering provides increased access space small satellite operator seeking reliable affordable rid falcon 9 first stage landed course still love droneship 6gwwllixdg liftoff js3zvm77rh codewisdom 0001f4af teslascope switching sensible fsd version numbering distinguish major minor update qmhipv5zqs nasaspaceflight hopefully early next week due unfavorable weather standing today launch team continue countdown 30 seco arstechnica sciguyspace given many company depending mission getting even scru gby9nacrsn launching many small satellite wide range customer tomorrow excited offering low cost access w66u5qduh9 gerberkawasaki part solution require lot fresh water land may need something fwxsmo0f8t sn9 kwtvwm7mbn good path fully renewable rocket energy solves part problem longer chain hyd xugrzqijzx detail next week donating 100m towards prize best carbon capture technology kristennetten eliburton_ evafoxu janeidyeve austinbarnard45 elonsbrain jason7patterson astrojordy renatakonkoly pretty much elonsworld neuralink boringcompany eashanmisra would probably mean civilization gr siar8ifvwc laurenrow5 evafoxu renatakonkoly sarapolak_cz seanmmitchell 28delayslater elonsworld johnnacrider1 vv6tthkr55 teslatino absolutely rock 0001f5a4 falcon 9 launch starlink orbit eighth launch landing booster zyj8zddfql kellyreid rate limiting part process cell production constantly changing francissuarez cityofmiami car truck stuck traffic generate megaton toxic gas particulate jcqiacxjno rationaletienne owensparks_ giant casting machine literally trying make full size car chgqmaiyts lexfridman tegmark tegmark exceptionally smart good human owensparks_ best manufacturing technology ultra high volume industry like food beverage medical eg syrinx toy battery cell production fundamental rate limiter slowing sustainable energy future important pr 9ybabezxcv p_ferragu looking question fsd viewed reasonably valuable trade tobyliiiiiiiiii sure glad ok virgin_orbit congratulation teslaownerssv good one mrbeastyt whistle dmc_ryan c_r_h_m cybertruck need garage dmc_ryan awesome owenshift good point signalapp server side code much wikipedia happy birthday wikipedia glad exist theonion guess watching cobra kai superclusterhq w00ki33 fallout new texas breedlove22 benmezrich chuck norris divide zero cerberu21014829 breedlove22 benmezrich good point breedlove22 benmezrich thing call money information system labor allocation actuall jz6zmqgbo3 monty python amazing ujq94iwt88 rationaletienne tobyliiiiiiiiii sure twist knife show tobyliiiiiiiiii probably wise making major improvement ease engine swap need hour johnkrausphotos two engine need slight repair switched johnkrausphotos nice shot realomarabdalah high school internship please apply college skorusark prototype easy volume production hard positive cash flow excruciating physic splashdown dragon confirmed completing 21st space_station resupply mission first return cargo resupp detanking inspection good progress towards hop go mar goal three static fire completed ruds justpaulinelol wow lot happened 10 year officialjlipper fair enough haha ho7ygxas3a nasaspaceflight sea shanty tiktok take new level actual pirate ship connectdotstoo sure today practicing starship engine start ship held massive pin engine fir qtiiwlxxpl tesmanian_com promised legalize comedy lvladimirovbg steal name logo probably sue arstechnica sciguyspace trying get people mar help would appreciated space_station one day get camera also show star field background separation confirmed dragon performing 3 departure burn move away space_station g27ohwvnxj lexfridman suicide double homicide mvwgps9uqe lexfridman absolutely hey yeah queen gonna make 0001f495 0001f495 lrqdirbiyd theoldmanpar djsnm machinepix hate say might true machinepix robot future coming wonderofscience physicsj 300km every millisecond time wish faster tkkruvgbth ocy2gfryvn iamdevloper bkkeiiicye mu protec 0001f476 yoda 1dvhg0ntku roscosmos 041e 043d 0431 044b 043b 0432 0435 043b 0438 043a 043e 043b 0435 043f 0435 043d rationaletienne thebabylonbee important distinction valaafshar much increasing rapidly codingmark archillect something happens even better imagined skorusark factory product austinteslaclub thebabylonbee probably commenting signalapp bought replacement glass junkyard 20 great place get spare part thebabylonbee lot people going super unhappy west coast high tech de facto arbiter free speech alexandersibert signalapp already donated signal year ago donate benmezrich primarily trying advance two cause sustainable energy extending life consciousness beyond e vybfavhkys song_wooseok gerberkawasaki benmezrich 0001f923 0001f923 ragazaga5 spacepadreisle maybe ai day later year spacepadreisle prancing pony boredelonmusk 0001f923 0001f923 erigganewmoney 0001f622 mayemusk true glenn22x woketopiansa yes long woketopiansa yeah seemed optimistic 14 year old son saxon said feel like 2021 good year agree let u make also thinking boca hold fun party give tour community time time super support public space around production launch site wherever done wmqwct2wfh christo49699922 sean18743005 sean18743005 catapult high air land roof base jumping parachute way travel actually restaurant building futuristic bar top h z2umtgsaoi techreview increase fun hopefully benmezrich neither tonychomrmagic teslaenergy one best solar roof installation 91demigod maybe one day engineers_feed yes would best way large solar field reactor needed po ph6x1plnam engineers_feed sick beat 8pbsgffzrp probably le dozen primary decision maker technically three lexfridman least option verification public ascribe credibilit ju4wemvsjg launch underway wbk7zz0fqx btw critical feedback always super appreciated well way donate money really make difference way harder seems eugenelee3 engineers_feed yup engineers_feed indirectly electric rocket possible using electricity convert co2 h2o gt ch4 o2 fqzotwqt9d engineers_feed get orbit unfortunately space photon emission powered matter antimatter annihila y8po10opqn teslarati residentsponge hard make like vehicle 4thfromourstar playing long game ashleevance true id_aa_carmack hope wing work moon def well mar also runway ericrweinstein hamiltonians 2v potential langrangians play 2ja38z8mre teslaownerssv well back work teslaownerssv strange use signal thehackersnews ya say reminds timeless classic gq1wayotir univercurious fast water tiny rock yes occam razor actually third likely seen external observer participant entertaining outcome likely dumb dumber great movie tho called domino effect qpbew54rvm dtrford austinbarnard45 alexsvanart ercxspace spceenthusiast spacexvision tomdixondesign es5garryvs large footprint may seem flat actually range 5 story tall snow falling giga berlin etxmtyp8hg rgvaerialphotos yes gfilche 0001f609 responsible 2 3 personal professional pain life combined worth proud team achieving major milestone start thought optimistica 1wlybpkmzj 2020 produced delivered half million car huge thanks made possible q43vz6rmhd newscientist um giant fusion reactor sky work maintenance comma_ai full self driving work safety level well average driver year jmabjuqfdf dojo needed make self driving better enough safer human driver aut dyy2rmhgil ignore heading great interview mathias döpfner ewnahc4ch0 jack 0001f3a9 greatest gatsby 0001f3a9 inspired ballet smvllstvrs ercxspace rocket motion primarily vertical want top open jack let make roaring 20 might lump along way ercxspace production hard prototype easy building 1000 starship create xjlljpljbp icannot_enough aloysiusfekete rationaletienne biogirl09 ercxspace exactly rexchapman haha ercxspace sn9 press ch4 header tank helium long term solution debate kawwol54jg flabellina212 rationaletienne biogirl09 ercxspace yes rationaletienne biogirl09 ercxspace leg would certainly work best part part best step step ercxspace yes ercxspace save mass cost leg enables immediate repositioning booster launch mount rea jwdcjarymj ercxspace going try catch super heavy booster launch tower arm using grid fin take load snake head dog undivided attention winder head ostrich came gliding nonchalant dtpmdm3tqp tesmanian_com seems odd opposition group bmw home state baveria far brande m7dyvli4cx tesmanian_com sensible opposition anywhere cannot mean progress everywhere harsimranbansal literally tobyliiiiiiiiii sure real destiny destiny escaping car delivered final three day year get three month full self driving option ppaereeo8y spacenews_inc mark dankberg action wack dank reza_zadeh le ashleevance westworld last kingdom show great jayson32292601 absolutely text visualization could add voice sfs_central even cheese made cake karpathy love u deep trouble everything made cake omacmyqawx chicago_glenn true haha weird game think 5mrvvzmekg cgi voive97vpr bensullins need ui overhaul maldivawow codingmark incremental improvement production codebase fsd build 07puoramgo spacenews_inc starlink pose hazard viasat profit like stop sneaky move charlie ergen entertainment critical car drive kimpaquette meeting larry ellison seek advice back working end quarter tomorrow richierichhhhh_ absolutely car gaming autonomous world wsj absolutely tesmanian_com taste future try playing polytopia great game multiplayer online version coming soon wsj focus making product service people truly love total economic pie bigger instead en qe4jcezytq thatdesignguy m_siphiw moosuraj roughly 95 part roadster unique pro r3yb6cmrb8 laurenrow5 karpathy yes engineers_feed important teslaownerssv lexfridman ok service might able check teslaownerssv lexfridman mean install external speaker earlier car gunmtlm3 lexfridman definitely year lexfridman good point conexionspacial spacecoast_stve nasaspaceflight interesting liz always done great interview spacecoast_stve nasaspaceflight falcon 25 successful orbital launch 2020 maybe majority pa pmgu4vhqez karpathy vaccine start also capable theory curing almost anything turn medicine uruvc4qf1a jgrano305 teslatruckclub jeremyjudkins jpuconn jchybow dirtytesla yes teslatruckclub jeremyjudkins jpuconn jchybow dirtytesla offer multiple display option ivanescobosa teslaownerssv revision needed probably beta 10 11 teslaownerssv sure teslaownerssv haha ok kkvr2823 tesla_adri teslaownerssv subtle important difference u canada traffic rule bu xzx9ppvl92 tesla_adri teslaownerssv yes teslaownerssv need match traffic speed setting stevewoz definitely h3_extrachars step direction 13arm13arm one 0001f525 1 2 0001f525 car pedestrian speaker get everything done 7hkza1ohe4 westcoastbill writing cobra kai sick 0001f44c afloathickory haha save nightmare seeing short h3_extrachars upload custom music sound jgrano305 unfortunately pedestrian speaker needed otherwise external sound generator except actual horn change horn sound 0001f410 0001f40d 0001f3b7 0001f4a8 holiday jingle latest software update merry christmas happy holiday 0001f381 uk6nspwr9r tesmanian_com great game harsimranbansal heydave7 likely make sense starlink go public revenue growth reasonably predictable heydave7 engineering design general company operation absorb vast majority mind fundamental li vxv7ghumbd elonsworld real_futurist lexfridman yes marcushousegame month marcushousegame coming soon olhzn minor trevormahlmann yeah 12 story rocket turn engine controlled fall hcrgyx42rn yup ironing bug owner taking delivery final day year support super appreciated deepmind nature frictionless ai could possibly go wrong heydave7 good idea wintonark darkest day model 3 program reached tim cook discus possibility optz9urne0 wintonark strange true already us iron phosphate medium range car made shanghai facto milwsilvrt archillect sparta reply macedon lizclaman foxbusiness clamancountdown hi liz thanks everyone worked hard make successful heart go teslaownerssv indeed kristennetten seriously twisted affair end well mkbhd although kind low key supercharger made accessible electric car photo yesterday launch landing 2192 095whx44bx 6ojfysuaxo michael_saylor large transaction even possible 2665 fe0f love crazy ppl 2665 fe0f bizzzzzyd point sigh pcgamer great game pretty much main value college used hanging pseudo intellectual conversation 0s0ybscm0p come comment stay meme 0001f484 padgeuk absolutely release fsd subscription early next year one word doge bitcoin almost b fiat money hajek_miloslav great nail lipstick mightytesla kristennetten lauren_kalo sawyermerritt jasondebolt codingmark 28delayslater babytesla3 dvwzgtppda ebojgshvrq callowaytech sound right lord edge xdreamcoding frank_thelen nice branding kidding need safe word anyway bitcoin safe word falcon 9 first stage landed landing zone 1 mr18qv3goc liftoff ag4rar6qnp standing today inspect rocket hopefully launching tomorrow pressure slightly high upper stage liquid oxygen tank review underway tesla__mania hoping back next month nytimes impressive mission china last launch 2020 coming teslaownerssv astonmartin indeed quite grumpy actually know point teslaownerssv get absurdly good ai autopilot engineering awesome great ai ther v8muheapoq star light star bright 6cetazsxco teslarati 13ericralph31 incorrect thebabylonbee 0001f923 0001f923 pcgamer visually stunning playability good pcgamer shirt better armor kevlar chest plate make sense absence magic also w iydkttvsqk cleantechnica oh umm jtg944ercy cleantechnica absolutely support trans pronoun esthetic nightmare flightclubio raptor well max thrust ship would blown altit ikcrzpyxtr flightclubio far fully loaded going slow ship would gone crazy high far three engine picot_john cyberpunkgame good great game imo improving may seem like mere surface detail woul zm0sz9cbzg truth_tesla tesmanian_com perhaps slightly confident essential view output v time rkfvjvotse tesmanian_com dankeschön brandenburg und grünheide austinbarnard45 lrocket sure hope future come pas tesmanian_com giga berlin brandenburg first use new structural pack architecture 4680 world wesafntz7a dota2funny1 cyberpunkgame original deus ex incredible human revolution also great cyberpunkgame objective reality impossible run advanced game well old hardware zo01qsu1wt starship landing flip maneuver qud9hwz9cx theonion thebabylonbee ascent heaven oggsw88yrz engineers_feed 0001f923 cyberpunkgame yeah briefly seems pretty good picked nomad start little slow pick nllipnbmxr zwiebelbach its_menieb cyberpunkgame aayypcpp1i hehe sklmil3oxt cyberpunkgame rhksb40xqr cyberpunkgame kmg7c9qf6h sdmxkbhdzd qbnt1dused falcon 9 launch sxm 7 orbit completing 25th launch year zrur0ewnlv quantamagazine init void ercxspace cooling haha ercxspace still soft spot heart transpiration cooking theory would u 9sschdkfad ercxspace ship leeward side bare metal windward black hexagonal heat shield tile pockn_cg wait elonmusk spacexstarship ynetmywfvg conexionspacial pockn_cg yes spacepadreisle agreed preserved memory sn8 photo starship sn8 flight test 2192 095whx44bx 5ozlyf7qrf nasaspaceflight bocachicagal exactly woohoo sn8 great even reaching apogee would great controlling way putting xwm1fxmx0r thank south texas support gateway mar life universe everything 1zczinfc4u yeah engine great mar come fuel header tank pressure low landing burn causing touchdown velocity high rud got wgjvdsahmf successful ascent switchover header tank precise flap control landing point iiraiesg5m thebabylonbee 0001f920 wonderofscience near orbital space fastest way travel long distance earth space_station called space station actually moving around earth 25 time spee vyvivrtzsa time lapse dragon approach two dragon docked space_station i046jbmc7o long thanks orifice alien message decrypted probably 1 3 chance completing mission objective hopefully flying tomorrow nasaspaceflight yup nasa success 1 40pm et upgraded dragon cargo spacecraft autonomously docked space_station 0001f409 1st pad south texas rcyoxxptc2 space_station station dragon going orbital night period 1 30pm et docking crewdragon space_station wow station look amazing nasa good morning earthling 2600 fe0f journey continues watch nasa cargo resupply mission dock space_statio nasaspaceflight knock knock singing telegram lexfridman carrying even symbiotic bacteria 40 trillion cell adamklotz_ lexfridman yes lexfridman mobile cell colony 100 tracking footage helicopter today falcon 9 launch lc 39a 7ryvzrts18 something genuinely magical seeing starship sn8 person boca chica beautiful quiet serine im gespräch mit mathias döpfner bqa5piaonk dragon separation confirmed spacecraft way space_station autonomous docking tomorrow approximately 1 falcon 9 booster landed course still love droneship cnl6t0lq0g liftoff pgk24cph9e haya2e_jaxa jaxa_en congratulation haya2e_jaxa congratulation rdanglephoto teslarati yes boringcompany tunnel rave d3jkoiasy7 rationaletienne toilet paper 0001f923 0001f923 watch demolition man prometheus unbound falcon 9 booster supporting mission previously launched nasa astronaut bob behnken doug hurley space_sta ercxspace nasaspaceflight marcushousegame felixschlang bad theonion beast compared vic 20 tesmanian_com award accepted behalf great people neuralink boring much people think science actually engineering eg thing rocket scientist roc ws70uvcryn science discovering essential truth exists universe engineering creating thing xmqtbrldyp justpaulinelol get bit cold night engineers_feed paint make hell difference deepmind congrats lrocket thanks everything help build best memory ever rgvaerialphotos real soon marcushousegame bcart03 nextspaceflight nasaspaceflight starship leg one hardest problem external csizk6sevu bcart03 nextspaceflight nasaspaceflight static fire risky build site need clear build site early flight nextspaceflight nasaspaceflight static fire tomorrow flight earlier wednesday ercxspace landing leg eugenelee3 karpathy yes sad news tony great karpathy second thought pic thanos haha poppa_bearq id_aa_carmack yeah truncate zero round dburkland id_aa_carmack probably going wider beta 2 week id_aa_carmack fp16 least important digit truncated feel like fp32 betting training dojo id_aa_carmack int8 almost heavy lifting inference work great thisisjendoll actually lb14pksayi thisisjendoll mmg5b8b40z happy thanksgiving teslaownerssv johneg78 teslachillmode unplgd3 mfrunker ccteslaclub hopefully next month johneg78 teslachillmode unplgd3 mfrunker ccteslaclub ok overall air suspension height damping algorithm opgo08vd4y karpathy haha true humanoidhistory promise greatly needed evafoxu special color new roadster original rationaletienne thebabylonbee 0001f923 0001f923 thebabylonbee savage 0001f923 0001f923 worldandscience ever wondered came life leader launch risk normal etfp9ielrf teslatino thesheetztweetz yes slightly filled aholstein404 thesheetztweetz subject much debate thesheetztweetz major upgrade slated sn15 thesheetztweetz many small improvement overall similar wiring robust engine mat 7ofbmy1n25 thesheetztweetz sn 9 sn10 thesheetztweetz lot thing need go right maybe 1 3 chance good starship sn8 static fire aiming first 15km 50k ft altitude flight next week goal test 3 engin 7ojorqnhb6 marcushousegame maybe start year depends starship progress go rationaletienne marcushousegame yet starshipfairing marcushousegame bad definitely need engine make cargo bay propel j2uvultatv marcushousegame rapid complete rocket reuse low cost propellant orbital refilling propellant production umyur7yshy teslarati teslaroadtrip yes teslarati teslaroadtrip still far simply video control biggest game changer cu nb5hl7gzlx teslarati teslaroadtrip fsd beta 5 coming day improvement significant xhnews exciting mission vincent13031925 wow liv_boeree yea tomorrow 7th flight rocket landing droneship course still love johnnacrider1 teslaownerssv 28delayslater sure futurejurvetson true rationaletienne heydave7 philwhln quiet queue product build better new roadster point 0001f62c rationaletienne shycybertruck fate love irony hate hypocrisy nasa booster separation second engine start fairing separation european sentinel 6 michael freilich ocean observing icannot_enough heydave7 yes 0001f603 data center named skynet joke 10 year ago might tempting fate heydave7 philwhln vehicle creating producing many useful product nasaspaceflight largest cast titanium part world heat shielding needed landing vandenberg afb california 46j2gccjp0 tobyliiiiiiiiii nasa nasa_lsp nasajpl esa actually side take launch fr9aucywco tobyliiiiiiiiii nasa nasa_lsp nasajpl esa philwhln heydave7 investor definitely good company investing n wduz0wnuin well almost anything ffpvdsqruc quite day ahead apzngmo0k7 crew 1 view earth dragon flight space_station lqw6tympb7 nasaaero lockheedmartin call pointy cleantechnica cool astro_fonseca space_station wonderofscience virtualastro moving 25 time speed sound feel like nothing worldandscience xajan4j9zr vicentes evafoxu mirojurcevic tashaark space_station always upgrade evafoxu mirojurcevic tashaark space_station better human vision quite margin enn_nafnlaus mirojurcevic tashaark space_station reality look like strange ghost world radar wavelength dmgov9rcnu mirojurcevic tashaark space_station exactly mirojurcevic tashaark misperception developed continues use lidar dragon docking 3i0bwgjlqp philippecroizon one day fly starship peter_j_beck well done hisdirtremoves comment turbopump internal detail roughly ballpark wow roc 0srlfg03fg tashaark clear xpeng problem company china done isaaclatterell tashaark karpathy andrej awesome said talented autopilot 64ocngk3ey spacetouristuk tashaark yeah stole apple code gy4dt7pq9n tashaark old version software nn inference computer levie wild time rocketlab congrats slashdot theonion id_aa_carmack yup change part otherwise fine forbes caution strongly advised spacs adamkiotz suvitruf archillect sure suvitruf archillect haha sexy cropping champion time tweetmenima teslaownerssv next week release look good widen beta justpaulinelol teslaownerssv unfortunately many rule around liquor distribution even u kvhlbuee1u teslaownerssv next week release special lot fundamental improvement important bug fix entire n bv5stdwngj westcoastbill 13 year 11 billion wow owensparks_ safety primary design goal astrojordy fully astronomiaum let martian decide future shifthappends lot brain space spent dealing unit astronomiaum terraforming slow relevant lifetime however establish human base uygaae7g3r xdreamcoding garyblack00 certainly intention xdreamcoding garyblack00 frezwjcwna garyblack00 publicly traded stock garyblack00 wise word bogle point company product service point thems encu8cblpy teslaownerssv astrojordy mild cold bro def cov2 though pc lt 20 mean viral uysanpqtfi astronomiaum life glass dome first eventually terraformed support life like earth astrojordy yeah daywalker_xd astronomiaum going say sim seemed obvious haha astronomiaum deveras case high non infectious ct quarantine day getting another test seco oalvzwcmio tobyliiiiiiiiii many thing want know wanted nichegamer maybe little mercy 9ie40hoihr holiday software release 0001f525 0001f525 staceyr28715306 maisie_williams 0001f60f cobra kai deep cut archillect cake someone took bite nichegamer thing much sentience deus ex machine learning 5zsyalvczx peterrhague designed make life multiplanetary otherwise extreme overkill mere earth sector activity yjltt8peeu kristennetten royalsociety like gave blessing sort groundswell believed fwk1zihfeg nullius verba royalsociety westcoastbill indeed reflexfunds nickidk4 pcgamer dojo doge rweb11742 yeah look like marginal cost launch le 1m 1 rnsj5fkdxt speculawyer rweb11742 exactly rweb11742 merlin strong local maximum design kerosene suboptimal fuel matter joetyskgp7 parstalberg josh_bickett icannot_enough rweb11742 yes visiting american ah irony much josh_bickett icannot_enough rweb11742 yeah pcr ct unequivocal lt 20 matter yjdogokx8q lugg4s1 pcgamer maybe making notable change wait figurative literal dust settle icannot_enough rweb11742 pretty close definitely feel 0001f4af take dayquil frankly one hj0thlr48n lugg4s1 pcgamer avionics cable moving steel pipe shield adding water cooled steel pipe test pad lugg4s1 pcgamer 2 sec starting engine martyte covering concrete shattered sending blade vilv1s16yo rweb11742 amazing thing rocket engine sometimes blow euxoocfr9t pcgamer count atom point djsnm charlesnotrumps rweb11742 absolutely production testing rocket engine 90 tv3pixzp4i charlesnotrumps rweb11742 first merlin engine design really bad tbh nothing worked well y5njrepvtc billhuang688 johnnacrider1 timmerenginerd jack maybe love irony haha greenisclutch johnnacrider1 timmerenginerd jack way hopefully teslaquila next month chrisg_nsf special permission received stonecutter guild sw5rbm1srb johnnacrider1 timmerenginerd jack fate 0001f5a4 irony jack well said trylolli maisie_williams 0001f47b 0001f4b5 uwerahxuev rweb11742 damn easy spent quite bit time looking russian ukrainian engine good michaelmina_lab yes docking confirmed crew dragon arrived space_station maisie_williams 0001f3b6 toss bitcoin ur witcher 0001f3b6 kristennetten 0001f609 nasa 0001f409 enter crew dragon 4 48 p est 9 48 p utc nasa crew 1 astronaut give live tour space whatsupfranks michaelmina_lab curevac moderna others make machine curevac us go kn kveprq79rl michaelmina_lab creating synthetic mrna cure vaccine future medicine imo turn mostly yp7djawiks gaertner_anne neuro_skeptic dresdentea judith_herbers haha michaelmina_lab great thread samtalkstesla ok thanks asking symptom past day apart fatigue unless something chang s8eo2xb2sf 2665 fe0f launch 5 minute yeah cooling channel integrated chamber wall propellant used either abort orbital maneuvering one use obviates dragon also hover land propulsively use parachute maximum safety mr7vfiqwwf thruster integrated spacecraft enabling abort capability way abort increased safety krohkor6ae nasa song would play ride launch pad launchamerica vzhxun6yie dragon completed 22 flight space_station designed beginning human spaceflight mi dragon spacecraft currently flying capable returning significant amount cargo earth first priv custom tailored suit route communication cooling system protect crew event cabin depressu nasa live ready launchamerica 0001f680 watch coverage nasa crew 1 mission liftoff 7 27pm et watch falcon 9 launch crew dragon first operational mission space_station astronaut board 2192 c tboneagnoobs ok system go tonight launch 7 27 p est crew dragon first operational mission four astronaut boa klotzadam astrojordy erujabidi yeah feel pretty normal symptom right last week sym gl0mhrqjxy astrojordy erujabidi test several different lab time day administered rn hajhh7la7q mario_livio obv insanely great bad pointless argument astronaut launch today 3fazzgss8c nasa 0001f338 astro_soichi message boy girl japan space waiting tumblr spotlight jaxa_en astronaut nasa week 0001f680 nasa crew 1 astronaut arrive nasakennedy ahead launch 0001f534 nasapersevere rover mark 100 day astro_soichi nasa crew1 finished final dress rehearsal getting ready saturday launch behind real dragon mario_livio kid though mario_livio hell wig collection michaelmina_lab would great lab could give people level granular feedback result michaelmina_lab elonmusk great question complex question depends test used ie want kn worth reading thread curious rona testing fa6kd61eba stonkmanup michaelmina_lab imo get blood pressure test tell number ju twl0dgurmk astrojordy erujabidi little feel like regular cold body achy cloudy head ihvpeox7m6 michaelmina_lab opinion ct number cov2 n1 gene pcr test probably regarded emuxlx698g michaelmina_lab stendeck77 teslaownerssv cool please super cautious expect two step forward one back lot new code merged austinbarnard45 scratch buff erujabidi getting wildly different result different lab likely moderate case covid xlbahahjoj whatsupfranks lexfridman npc way lexfridman ahem unless dmt law thermodynamics 1 win 2 break even 3 stop playing shake fist entropy realnattastic big expansion beta program 6 8 week robintosh_nunez interesting thursday night saliva sample came back today n1 gene unique cov tm7cs8otdt icannot_enough johnnacrider1 honey slashdot feel way whatsupfranks bluemoondance74 stephenking seems accurate bluemoondance74 stephenking cold symptom gone 0001f600 0001f680 0001f4ab stephenking degree po mrsammy_h pelagicbird max_roi rossy65 heneghan make lot sense hilarious clarify r mlxngcsa9t whatsupfranks number pcr amplification cycle required detect virus rough indicator vir mn8192hueq mrsammy_h max_roi rossy65 great reference worth read case closed puyijcadd6 soon mwopr7w8kk fwiw lab spoke think 30 accurate 30 40 get dicey 40 b talk k77wxq11yt lab spoke said cov2 pcr detection n1 n3 gene 30 cycle reliable 40 cycle rationaletienne ryaneshea note spike protein consider reliable rationaletienne ryaneshea spoke directly testing lab main pcr search n1 gene unique x57odvdauo strange ryaneshea possible explanation dramatic decline cold flu prevalence v prior year someone come gmlvewwxdp ryaneshea moreover lower true prevalence higher false positive number sound obvious xvabeklh1q ryaneshea 42z7vrpb9c xtsukcc3tl dana_e_morgan sure would great hear people know lot pcr testing industry approximate false posi lvc11nikql clarecraigpath interesting john_beans dirtytesla interesting general population knowledge symptom accuracy sars cov2 pcr test possible gene vbiu7ds4uq cleantechnica good pcr test identify cov2 spike protein although heard m8vj2gaofs justpaulinelol cleantechnica mild sniffle cough slight fever past day right symptom although take nyquil cleantechnica technically tested positive negative twice positive elon musk test negati 6ohta09s5l carousel turn ever faster yup ajtourville exactly janeidyeve symptom cold nothing far blkmdl3 happening happening others getting pcr test separate lab result take hour something extremely going tested covid four time today two test came back negative two austinbarnard45 burst worked vehicle appears ok swap least one engine tobyliiiiiiiiii spacepadreisle austinbarnard45 maybe melted engine preburner fuel hot gas manifold whatev 5elyx8pjlg austinbarnard45 lost vehicle pneumatics reason unknown present liquid oxygen header tank pressure risin szc90hnti8 drphiltill 0001f923 0001f923 0001f44d teslarati top list 2020 attractive employer u engineering student kknyqlet0o 4 astronaut fly space_station sat night cape first operational flight crew dragon uzcgikcikb cardoso luck best superpower thank served sacrificed veteransday u8kn4fzpj9 crew access arm swing place xaimd6nljv hiromichimizuno yes kristennetten honor would choose work strive ensure company enable otdwcsk3ck privilege work people like respect much feel blessed commercial_crew flight readiness review crew 1 mission space_station concluded nasa go falcon 9 crew dragon vertical launch complex 39a hbvuhwv3ab djsnm davidhuber15 nickhenning3d ercxspace neopork85 c_bass3d caspar_stanley spacexvision felixschlang probably teslany happy see samtalkstesla expect become important product world probably financially material nickhenning3d ercxspace neopork85 c_bass3d caspar_stanley spacexvision felixschlang entry ncafknfzlc samtalkstesla make rna bioreactor make vaccine cure curevac version 2 use opouohyamu crew dragon falcon 9 hangar launch complex 39a ahead launching four astronaut space_station liftoff teslatino checking pcgamer hope game twist tedium fear canceled boringcompany rumor austin chalk geologically one best soil tunneling want find austin job avai d0i2w8wnkg yes damn cookie browser setting teslaownerssv thanks lot great autopilot ai hardware software engineer bbctech sure mkbhd vyyyper worth mkbhd exactly model3owners mkbhd sure mkbhd actually still 2zlkc8fc2d ed_spartan_117 nykchannel wait see cybertruck mkbhd accidental back shortly 20k supercharger counting urudyt9eui renatakonkoly spacenews_inc hoping change booster design land back launch mount hprgptt6ru vasu42698392 amyceskridge chip temp sensor automatically maintains safe temp reganlovetesla renatakonkoly spacenews_inc enough already plate maybe one day prototy tgpwej7wqa amyceskridge neuralink overclock brain transfer processing supercomputer extension yo nbybbfx0t2 cleantechnica rewrote labeling software 4d different labeling single phot mltbdsquty cleantechnica version 1 year away renatakonkoly spacenews_inc would appear calculation incorrect spacenews_inc china understands profound importance reusability era expendable rocket soon cleantechnica 2660 fe0f 2660 fe0f autopilot ai team 2660 fe0f 2660 fe0f cleantechnica good explanation 4d essential dynamically occluded object especially large intersection ooj9pqayhj archillect 5u3fnqfhr1 phantom opera inside mind linustech spacexstarlink 0001f1e8 0001f1e6 0001f600 looking problem solver get thing done high sense urgency care went school sending resume please describe hardest problem solved exactly solved new banner needed neither hard left right another fine day simulation nereide faraday invented electric motor commutator free three phase ac induction motor cqo2rjlrbv nereide maxwell amazing recognition motor inc almost called faraday 6y42kmcpgk 420 ten time better 42 0001f917 deployment gps iii 4 confirmed fcfjrcwmti falcon 9 first stage land course still love droneship hd0ibpx3t5 liftoff li4o0tnml8 linustech spacexstarlink awaiting approval canadian authority recruiting ace engineer giga berlin interview person tomorrow site send resume 25guns com chad_hurley realdonaldtrump kanyewest stop chad chad_hurley realdonaldtrump kanyewest uh chad wtf techamazing einstein great succeed engineering tried jtrevorchapman yeah relatively easy user ocean icannot_enough zainraz4 vincent13031925 jonerlichman yes although expect stock rise much tmw6phbef0 futurejurvetson super appreciate support steve convertible loan gave u 6 month runway ej7iovx2w4 zainraz4 vincent13031925 jonerlichman closest got month model 3 ramp extreme stress pa wuhekj0hio vincent13031925 jonerlichman put last money even though thought would still fail eithe 9bgkez9d8a jonerlichman funding round completed 6pm christmas eve 2008 last hour last day possible investo umfgjnkoxm josh_bickett yes lowering starlink terminal cost may sound rather pedestrian actually difficult technical challenge itshamzahkhan soon get regulatory approval hopefully around middle next year thesheetztweetz right take 5 min set future improvement probably le 3 mi 8ehbqc3fa0 kjell_arne canada norway next get u early beta enn_nafnlaus realize possible problem way get current design cybertruck approved europe soon get country approval required country individually eu wide approval 8zbt9qjd9h jason_rassett lower latitude state need satellite position probably january several thousand starlink beta participation invitation going week louiswferreira new design better many minor tweak even small detail matter engineers_feed haha close actual expected flight ruediphtil nigel_lockyer could excited new supercollider said considerably larger s3typirk4u wholemarsblog steezyysosa austinteslaclub joetegtmeyer peterdog15 txterafactory terafactorytx lqdchkn pqsjzopaj5 steezyysosa austinteslaclub joetegtmeyer peterdog15 txterafactory terafactorytx lqdchkn jd_average ozazv1igxa austinteslaclub joetegtmeyer peterdog15 txterafactory terafactorytx lqdchkn jd_average eliburton_ tex g2iniry9es kyzcralotsxam yes penguin random house 0001f634 change name random penguin 0001f525 austinbarnard45 sure although might quite short livestream lot go wrong provide video wa jmojn9hhxs fnarolles tgmetsfan98 matter klotzadam nasaspaceflight tested sub scale version wind tunnel active aero clos m8xzlzvsaq rgvaerialphotos hez9otgjjh rgvaerialphotos lord tgmetsfan98 klotzadam nasaspaceflight yeah although fails right end landing daqdiiwb9x nasaspaceflight minor klotzadam nasaspaceflight understanding exactly body flap control pitch yaw roll duri 79jvi22n2r nasaspaceflight rud right launch pad also possible fortunately sn9 almost ready nasaspaceflight stable controlled descent body flap would great transferring propellant vpiippdv02 teslaownerssv kristennetten teslatino every 5 10 day kristennetten teslaownerssv teslatino fault never zero point probability fault wi inu2xajd7u teslaownerssv teslatino measure primarily intervention probability update addressed several issu zyf8efd6ih teslatino thanks great autopilot ai team working super hard neural net without testing mnn6s3srre auchenberg latency improve significantly soon bandwidth teslaownerssv build noticeably better intervention rationaletienne teslaownerssv toadmeister yes teslaownerssv toadmeister spent half life california love state frankly think s5xouoedjt toadmeister sweden still right zero death oct 29 b0lygotobi tocnewyorkstate true also fewer heart attack way easier pump blood 37 gravity malekkhelifi24 9inety6prince engineers_feed talking also stephenson 2 18 constellation scrotum haha engineers_feed small fry sun convert 4 million ton mass energy every second wholemarsblog accurate ajtourville endelsound grimezsz 2hx6tla8f7 bluemoondance74 spacepadreisle challenge high wind look like sunday static fire spacepadreisle great shot endelsound grimezsz future ai appreciate teslarati truth stranger fiction waitbutwhy 0001f609 universal_sci urf smol homantse28 long time truth told eaten jitb many time year even teriyaki bowl might buy jack box footstool skorusark approximately log rate challengerst bot change setting combat samtalkstesla well phased array antenna actually rather flat make 0001f525 catgirl robot machinepix little crane toy coffeemaestro_ 0001f923 0001f923 come come 0001f447 wow mayo sure salty pcgamer max payne great many level silent hill good jack box double duty sperm donor clinic name 0001f44c thewpmontgomery pcgamer one best game ever thatdudeshannon pcgamer fear 1 modern graphic sound would rock 1matthewgarcia pcgamer ok zzcool pcgamer game thread far scarier creatively horror movie pcgamer fear 2 best imo also dead space 2 haunt dream rakyll p1agokwqpv jgrano305 best knowledge literally zero equipment usable without major repair upgra vrwvop79qd left broken bot equipment hardly worth scrap metal value scrounged spa ywqqasrbt8 actually zero employee factory gm toyota left took good equipment c7dfuastpm ajtourville bettern nothin ur 0001f4b0 back wholemarsblog 0001f4ab 0001f6f0 hyperchangetv team done great work hyperchangetv well tbh capex efficiency 2017 trash 0001f62c westcoastbill testing covid license print money arctechinc yes helpful thanks beta tester video training inference essential excellent autonomy engineers_feed sigh new supersonic jet time electric worldandscience critical humanity future congratulation team no1z98a94f teslatino mine day ahead eliburton_ teslaownerssv sure could option setting teslaownerssv visualization tone significantly production intentionally strident color tobyliiiiiiiiii austinbarnard45 superclusterhq sure tobyliiiiiiiiii austinbarnard45 superclusterhq boca every week maybe could talk th vb4wd40bsc tobyliiiiiiiiii austinbarnard45 superclusterhq good point probably next week form written piece website austinbarnard45 superclusterhq great pic beginning starship production system meaningful wholemarsblog yup beta update lot 2 step fwd 1 step back situation pace improv h2xcsvngdo bart_sanders working also need able fart car command spacepadreisle starship coming together price change pushed thursday next week applies u one week clock start countr cjhtxcselt austinbarnard45 360 deg glass star bar name tbd top high bay dmc_ryan well said many time price rise product functionality improves much ti xmemo5nu0m stephenking agreed performance tire small seeming issue loss upper stage camera probably nothing serious standing zk1vr9xwzl sure fsd beta limited release fsd price new upgrade go 2k monday teslagong teslaownerssv tesla_raj soon complete testing regulator approve many differe d4uoa1jncx teslaownerssv tesla_raj yes teslaownerssv tesla_raj haha teslarati dependent proving high safety wholemarsblog intentional wanted show could theoretically convert entire u vehicle f pczpbd8jj6 cold gas hot later rubix161 mean ya gotta tiki bar starship nosecone high bay tiki bar 9qxyxmmiuj ieeeorg get orbit time got little melty tbh engine could go 300 bar would dicey pushing near term test achieve pulpf49me1 raptor run 90 sec 300 bar chamber pressure encountering issue 210 mt f sea rg2erwhznt fsd beta rollout happening tonight extremely slow cautious data 3 engine starship static fire morning look good proceeding nosecone mate toadmeister yes also consider population life month lost lockdown restriction 0ct2svangy toadmeister sweden zero death oct 15 gy9a20ummx joshtownsend_96 yes juanjacobs jwangark firmware probably slightly accurate description yes place like home especially solar roof kansa ranch got installed 4 day flyerandyp mojosusan mobi c much mobility fusion little need mobi haha flyerandyp mojosusan actually neck 2vcoaxsrv3 flyerandyp mojosusan maybe helpful mobi c disc put c5 c6 however 1st surgery failed remov czykfyo0ix jwangark pretty accurate much dna sequencing using synthetic dna rna fix bug code y6gcysvghm samtalkstesla london beijing would cool samtalkstesla wow would quite trip cinotpyrc kid haha møtør trèndé v0yo4jkbs2 techamazing look like snoopy tesmanian_com current production slightly better bamtheteslaman1 cleantechnica seem life solar system maybe ice europa izk0v9gi47 tesmanian_com model 3 sr lowest energy consumption bevs say report 7c0v16wt6y cleantechnica creative free fusion reactor sky conveniently convert 4 million ton mass energy every second 3r0owmreup kristennetten teslaownerssv never know  xbox 0001f622 whatsupfranks kimpaquette also system autodelete old data automatically default univercurious table tension kimpaquette yes teslaownerssv starting production 7 seater next month initial delivery early december gauntlet thrown prophecy fulfilled model price change 69 420 tonight neopork85 nasaspaceflight austinbarnard45 whoisheartbreak felixschlang 2z5mrscc4g gem8mingen congratulation teslarati making progress 9 meter roughly 30 ft diameter le roomy 3 vacuum rocket engine added pktdfdizyc wholemarsblog kristennetten boringcompany still focus vega prufrock new tunneling machine astrojordy kristennetten boringcompany sure wholemarsblog kristennetten boringcompany maybe month finishing touch need done station kristennetten boringcompany simplified lot basically tesla tunnel point 1xhs2awxb9 playoverwatch sweet antonkanerva yes everything slow phased array antenna lexfridman nice love baby hurt winston churchill playoverwatch twomad maybe 2 weak turret allow strategic degree freedom playoverwatch twomad please buff torb turret twomad um yes teslaownerssv goosebump 2 merch sure tbh teslaownerssv hg2g teslaownerssv lotr 0001f918 illuminaughty 0001f918 chotihaque billgates dougstanhope bobdylan charltonbrooker ericidle jimcarrey johncleese sapinker knee deep first flight upgraded cargo version dragon able carry 50 science payload th dragon spacecraft supporting 21st cargo resupply mission space_station departed hawthorne factory last chipro yeah wr4nygov least success set possible outcome time bad_at_life wholemarsblog dy best move right direction tough position wi tdf8u6nd4c good grief getting zero money starship designed carry people cargo around ear v37qm1kycr teslarati fsd got stuck lot local maximum clear hit ceiling time right rationaletienne 28delayslater thank much accurate haha 28delayslater graph appears upside teslarati sheer magnitude entire production system hard appreciate almost every element productio h8ps02oelk teslaclubin cleantechnica release order configurator probably jan cleantechnica limited fsd beta releasing tuesday next week promised first limited 4qrymb7ii0 shortword jwangark soc sync 20 30 time sec exchanging output nns 9cbjmeaavw jwangark fsd computer dual socs function like twin engine plane run different neural net dfwlhxu7ce jwangark accurate analysis quite ego intelligence gt gt 1 people comment thread haha neither mobileye fdligohk01 slashdot ohiotesla jendunlap_ caranddriver teslaownerssv teslarati electrekco glad jen safe slashdot wow slashdot uh ok go teslarati think accurate mariabartiromo potus realdonaldtrump jeffbezos morningsmaria foxbusiness yeah lite ghoisz1v6r tesmanian_com even half amount still big deal enn_nafnlaus electricfuture5 0001f923 0001f923 mariabartiromo potus realdonaldtrump jeffbezos morningsmaria foxbusiness seen evidence advanc hbtdtjyttc electricfuture5 face tough dichotomy applying resource old architecture applying ne 6qghblfrk8 definitely enn_nafnlaus exactly play poor inventor card rich along invented nothing far kn 205zz8al33 enn_nafnlaus sketchy edits wiki whitewash eberhard problem glorify role pretty odd ppsorkwdi8 enn_nafnlaus eberhard fired ceo role mid 2007 providing false information 8hj3vlxzfp carrenimfa interesting cradvocacy future car electric entire industry start making marketing compelling ev everyone pellebrannvall neopork85 caspar_stanley ercxspace marcushousegame felixschlang xlbidpmuuq teslaownerssv probably exact art wall place stay boca chica rationaletienne toadmeister yes failure protect nursing home major mistake happened country cmvdkmrish toadmeister sweden right bzc2lfdjzq pellebrannvall neopork85 caspar_stanley ercxspace marcushousegame felixschlang lgpvl7k1mi teslarati great work valve engineering production neopork85 caspar_stanley ercxspace marcushousegame felixschlang c_bass3d nickhenning3d tile mechanically attached neopork85 caspar_stanley ercxspace marcushousegame felixschlang c_bass3d nickhenning3d whxamj12iq neopork85 caspar_stanley ercxspace marcushousegame felixschlang c_bass3d nickhenning3d tile xpnqrcxqnc id_aa_carmack compiler need improve imo type pointer memory problem detected comp n3rzp4udi1 rgvaerialphotos proud say nose pointier need haha motortrend put 2020 model long range electric suv test track find turn well sdg2030 anandmahindra metnigeorges eriksolheim berniehollywood norway lead world nasaspaceflight passed cryo proof johnkrausphotos superclusterhq 0001f44d ajtourville yeah contest advanced casting crush best case 3d printing casting work wel uscsep00aq astro_farmerbob astro_pettit astrokomrade astroannimal great pic johnkrausphotos patreon superclusterhq maybe flag mar tashaark additive manufacturing part still far costly car rapidly create tooling accel z9kxjt9umj renatakonkoly franktinsley ankitxupta tashaark pretty much think may end high note starman last seen leaving earth made first close approach mar today within 0 05 astronomical unit 5 mill evhq2 tashaark meant say fixed latest wide release need wait fsd evhq2 tashaark franktinsley ankitxupta tashaark exactly barked tree way long sigh give false sense aigaenc8f0 picklepunchd tashaark yes play sexy snake jazz 0001f923 zainraz4 tashaark yes tashaark yeah provided metal gear snake autocoupler tashaark waymo impressive highly specialized solution approach general solution lat bbchdqhjja akidesir kristennetten yeah could put setting allowing drop low 5 ercxspace marcushousegame felixschlang great render note need arm 9g2n7fvscz kristennetten mimecraft teslagong teslatested yes icannot_enough teslatested autopilot team making great progress reality sure complicated ercxspace marcushousegame brendan2908 bocachicagal nasaspaceflight aspiring flame diverter boca kyenxz94oy eugenelee3 marcushousegame brendan2908 bocachicagal nasaspaceflight giant steel ball haha teslatested completed financing round let know another one ihearttesla alex_avoigt mike_zimon wholemarsblog definitely need try tasty cake pastry next visit marcushousegame brendan2908 bocachicagal nasaspaceflight mass ratio liquid oxygen much denser liquid gnhci8reh3 ihearttesla alex_avoigt mike_zimon wholemarsblog amazing kebab ever outside tacheles dsgvwdhgnv ihearttesla alex_avoigt mike_zimon wholemarsblog döner kebab tribehoh wastatecommerce welcome brendan2908 bocachicagal nasaspaceflight high bay finished except giant gantry crane within mieahkgnfo alex_avoigt mike_zimon wholemarsblog look tasty tesladri chananbos raytech247 wholemarsblog crash absorption rail cut replaced bolted part collision repair icannot_enough wholemarsblog sandy munro understands engineering teslaownerssv raytech247 wholemarsblog would like licensing battlestar galactica actually buil hi2od05ye8 teslaownerssv raytech247 wholemarsblog yes gigafactory hardest critical product chananbos raytech247 wholemarsblog battery pack bonded structure cell providing shear transfer b nbzqekw0qx raytech247 wholemarsblog understand production much better primary competitive advantage long term raytech247 wholemarsblog even gm chrysler went bankrupt 2009 ford u car company ieaouisjri raytech247 wholemarsblog model 3 production ramp sheer agony two year die te zhqxmco6gy evafoxu wholemarsblog bringing new product volume production 1 inspiration 99 perspiration st g5dlcmg7wc skorusark marginal cost starship mass orbit well 100 kg fully burdened cost depends flight rate wholemarsblog prototype piece cake high volume production new technology extremely hard ta o1ojwfj2zg wholemarsblog expect make heavy use lfp medium range car stationary storage wholemarsblog berlin use 4680 cell structural battery pack front rear single piece casting also pteaj9z79i astrojordy wholemarsblog wholemarsblog wish company would put spreadsheet moment focus making lckxzfpozx klod_ua trevormahlmann johnkrausphotos mike_seeley 7 bar absolute fine afru9adajy klod_ua trevormahlmann johnkrausphotos mike_seeley cryo pressure test succeeded small le 2wyticewfr trevormahlmann johnkrausphotos mike_seeley one best shot ever samtalkstesla much sooner mdcainjr 45thspacewing nasa great photo dirtytesla soon falcon 9 launch 60 starlink satellite orbit completing 43rd flight previously flown rocket booster satellite reach target position able roll fairly wide public beta 2klhnfmgz1 deployment 60 starlink satellite confirmed x83ovjb4pa alvianchoiri seeing notable difference yet think booster could probably 100 reflig zugaquvpy7 alvianchoiri roughly week two turnaround needed meet max launch demand starship yxmoofzu8n alvianchoiri ahem yes 3rd flight booster 3rd flight active half fairing aiming awxtjefc2d 4th flight landing booster uotvmkgxqh 5 minute launch look good far on2f1py5jt cleantechnica crazy subsidize pollution good people especially dense city heavy ackoizwcpw sciguyspace step right direction really aim full reusability 2026 larger ro 6hvvkuqdon turn volume 11 play powerglide l07yc02p7g teslaownerssv fsd solve issue music volume go 11 louder 10 ab5hamo3en kristennetten one favorite writer foundation tough make movie outstanding potential orionsgauntlet 0001f4af christianserino glnevuneyl rewatched young frankenstein weekend still awesome ovaltine wimdyfsuiq remake potential great kinda liked original tbh possible take level hollywood start sequel skip original financials cleantechnica article wildly incorrect lithium battery cost factor 5 presently 10x long term samtalkstesla teslaownerssv rationaletienne stevenmarkryan kristennetten wholemarsblog pretty wild 8pqh2kalcf new droneship called shortfall gravitas nothing escape gravity even black hole really tried id_aa_carmack would cool put mind car driving model3teslaj coming soon call booty great game hyfszsrm6m teslaownerssv vector space bird eye view coming fsd unexpected pressure rise turbomachinery gas generator broad review launch site propulsion structure av nkfvidsxpp alandail exactly need make lot improvement chance completing 48 launch next year lexfridman agree lex mike94160775 electrekco teslarati glad ok sofiaan haha amoghbhushan teslaclubin wholemarsblog mkbhd thanks waiting teslaclubin wholemarsblog mkbhd next year sure tobyliiiiiiiiii rationaletienne spexcast william_m_brown thesheetztweetz waemd zfbqlhxk3f rationaletienne spexcast william_m_brown thesheetztweetz waemd spacexstarlink hscbef8mnf spexcast william_m_brown rationaletienne thesheetztweetz waemd spacexstarlink wanationalguard great william_m_brown rationaletienne thesheetztweetz waemd spacexstarlink wanationalguard brown ggoesdif2j thesheetztweetz waemd spacexstarlink wanationalguard average latency improve sat piqitzeia5 tobyliiiiiiiiii rationaletienne thesheetztweetz waemd spacexstarlink wanationalguard etjxxiv2vq rationaletienne thesheetztweetz waemd spacexstarlink wanationalguard yes starlink design r4rrgvpvr0 nasaspaceflight bocachicagal thefavoritist probably 5 6 optimized tanker smk67d3fmx thesheetztweetz waemd spacexstarlink wanationalguard starlink revolution connectivity esp bqfd2kwhbn wholemarsblog mkbhd yeah adlanbogatyryov nasaspaceflight bocachicagal thefavoritist great letter increasingl xkwyon48io nasaspaceflight bocachicagal thefavoritist ship ring thicker need s4itp647wo mkbhd next level fox10phoenix 0001f4b0 0001f4a9 0001f923 officialalishap glad hear mom ok zshauladventure nasakennedy ulalaunch natreconofc good see inspiring future space somi_teslagirl model3owners futurejurvetson cfs_energy cup_plasma mit new heat pump model rj35a3vluf thatt3slaguy model3owners futurejurvetson cfs_energy cup_plasma mit yes coming soon ercxspace felixschlang marcushousegame nasaspaceflight great render circumferentia 6ottsix8af model3owners futurejurvetson cfs_energy cup_plasma mit hard tried pushing c 7elp9pf9sl futurejurvetson cfs_energy cup_plasma mit cool sure done suspect best ca pmyscvzozy austinbarnard45 weld esthetic improve greatly upcoming starship haha true shower wide range evafoxu rationaletienne wholemarsblog yes univercurious physicsj light fast think dragon dock space_station two dragon docked simultaneously crew cargo mission training astronaut fly board dragon first operational mission complete crew arrives launch crew dragon first operational mission astronaut board launch 21st cargo resupply mi samtalkstesla maybe used many magenta spotlight kathylueders news targeting 2 40am et saturday oct 31 launch nasa crew 1 mission send ast valaafshar low center gravity make world difference safety vm_one1 waemd probably ipo starlink several year future revenue growth kh4qryrkoe perezshivam waemd fate loooves irony haha waemd glad could help prioritizing emergency responder location internet connectivity austinbarnard45 true teslavibes total market see reaching 20m vehicle year probably 2030 bu gxnszacar3 cashmoneylemon cathiedwood skorusark total market cathiedwood skorusark seven year sure 30m new fully electric vehicle per year six year maybe five ye fy4nwwbx56 cathiedwood original car cathiedwood cutting price model 3 25k referring future car smaller model 3 brian_heide heavy duty paintball machine gun mounted bed rail pickenheim matthew_kerle new version coming soon wholemarsblog supplier high energy nickel least also maybe presenta l8pv6okpky r1sox7vta8 teslagong drsallyl sydney_ev _teslatom teslastraya outbacktesla ev_outback michael01996367 cvanderstock quf0hh8qcg scottadamssays 0001f923 0001f923 kristennetten checking kristennetten totally head delivery center near maybe help new owner would cool id_aa_carmack completely agree yes flap directly driven electric motor gearbox hydraulics thanks team great work delivery new owner super appreciate accommodating u delivery ti ppzzhxbxgp scottadamssays time feel like living dilbert cartoon artifactshub specie stood test time nasaspaceflight austinbarnard45 mostly 304l 301 broke 301 304 interface sn9 wpeprv5s4r nasaspaceflight austinbarnard45 8 bar differential ullage 9 bar base due propellant head qvgkyw2qd0 need enough height test body flap drawing propellant header v main tank se pgzafesc7x first flight 15km 50 000 ft nosecone front flap next week sn9 next month starship sn8 rear body flap gdxmbzx0ct waitbutwhy v6us36yho6 muratpak sure evafoxu true falcon 9 launch nasa super cool interstellar mapping acceleration probe imap help researcher better hisdirtremoves bad enn_nafnlaus ajtourville exactly ajtourville munroassociates sandy munro understands engineering darealwamos turn mostly press letter 0001f4a9 typewriter 0001f923 kaarajvl2b centaur bow obviously cfkfkffxp0 justpaulinelol evafoxu haha evafoxu something like ndvuumms67 ajtourville support 3 wheel vehicle safe enough rgvaerialphotos 9007mm marlonsix60 something appealing hawking hartle idea agree turok feldbrugge lehners muratpak 0001f5a4 ur algo marlonsix60 true practical size constraint big fit engine comp axz1yheldj seem problem could probably increase area ratio given 330 bar max de 0gutz4kgij marlonsix60 gzljmnyciu djsnm preburners ignite main chamber marlonsix60 prediction probability inaccurate marlonsix60 energy time besides podcastnotes genetic engineering slow unless use synthetic virus predict tobyliiiiiiiiii yeah might need 107 expansion ratio little bit flow separation towards end nozzle completed full duration test fire raptor vacuum engine rocket development facility mcgregor texas http rvac sea level raptor human scale xqipquy4pl thing beyond ludicrous plaid rhuwk20egg xiang_aw wholemarsblog seem like opposite open openai essentially captured microsoft wholemarsblog haha true oneandonlyheady maybe techamazing univercurious jet cool gfilche yahoofinance pretty much 1stprinciples4l gfilche yahoofinance yes gfilche yahoofinance yahoo finance dumb sound icannot_enough yes neopork85 haha tobyliiiiiiiiii roadster better probably cybertruck atv roadster semi c r 4aq1a5cykh futurejurvetson hiromichimizuno thanks many year support tough time icannot_enough wholemarsblog little year challenging year ever ygde1oszxa wholemarsblog right maybe little faster umutcnbostanci yes teslaownerssv cgi irl tobyliiiiiiiiii caranddriver haha caranddriver drove model long range plus 422 7 mile california believe could made 430 explain extreme difficulty scaling production new technology well understood 1000 10 000 harder mcxxfnsqfj nasaspaceflight bocachicagal haha intend increase reduce battery cell purchase panasonic lg catl possibly partner h fl4lwcp3q0 important note battery day unveil tomorrow affect long term production especially semi cybertr fo4xhxas9q evafoxu thanks neopork85 marcushousegame really need better leg starship coming neopork85 marcushousegame likely flap fold landing reduce wind tip force dynlt5ekgk model3owners fine already 0001f600 arkinvest tashaark good analysis although think wait fsd bit mature singing__surfer pretty sure could much better autocorrect bar low haha lorenzoteixeir4 zog_fot_pik samiralyateem id_aa_carmack true igorantarov soumiksf id_aa_carmack custom ultra high speed bus efficient cooling teslaownerssv jgrano305 soumiksf id_aa_carmack ok soumiksf id_aa_carmack pretty much machine learning jgrano305 soumiksf id_aa_carmack big zog_fot_pik samiralyateem id_aa_carmack sure soumiksf id_aa_carmack yeah open dojo training web service work bug samiralyateem id_aa_carmack lot pointless zero fp32 neural net chop 16 3 mlpvbpni4y soumiksf id_aa_carmack dojo us chip computer architecture optimized neural net training oicfjt3gna llamaa35079089 id_aa_carmack really want waypoints much id_aa_carmack dojo betting fp16 floating floating point essentially truncating mostly zero bixl4qih22 wholemarsblog yes babytesla3 wholemarsblog yes wholemarsblog lot green space around factory building continuous open area rabjkrtqlw savedtesla peterdog15 shaped like diamond aligned true north prior track record exceptional achievement engineering required prior experience working wzaddnxmid feel neuralink might incorrectly overlooked resume declined make offer please lmk hp3822z0dg teslaownerssv model3owners trungtphan felt done enough internet zip2 paypal work would ctbfloi1so model3owners trungtphan took utterly insane amount work move success probability zero trungtphan frank early day thought gt 90 chance would worth cn2bfbua5q fermatslibrary irrational funny word describe number course still love deborahpatteri tenetfilm sure planet tenetfilm good movie current strong droneship hold station thruster upgraded future mission chrisdungeon lot happened 13 year teslarati insane speedrunning factorio real life cleantechnica make great point important note iron cost advantage partly offset nez5hkuc4a coderfoot m2jr berniesanders yup fallout shelter tap entertainment button m2jr berniesanders implicit conflation consumption capital allocation foundational error kristennetten great idea 0001f5a4 fallout radio 0001f5a4 gno8xfjx8b tjlk eerie parallel boring company vault tec also built first demonstration tunnel vault la double underground nuclear shelter 0001f600 0001f44d cvi0yrjobe lexfridman yeah tesladri id_aa_carmack lexfridman happening soon id_aa_carmack lexfridman bit obscure starhammer stainless steel rat engineers_feed first thought parrot johnnacrider1 jhall remind guy qt502u08np story life vn0rv0yq5q tunnel city self driving electric car feel like warp drive first operational tunnel vega wizyhed6pa jackfarrington sure jackfarrington good point hugged tunnel today arkinvest aurmanark good analysis exactly gary snail still winning gaining embrace tunnel valaafshar tunnel solution traffic many level want usable tunnel depth far e lqfdqwhh2g matthewcable6 ercxspace guess probably mid teen booster stacking orbital pad likely limiti atqpexe6dk ercxspace pretty accurate simulation although sn8 use 3 raptor sn8 crater sn9 sn10 close behind wvqfq4oqua teslavibes agree major software improvement already place extend life coming cleantechnica definitely smartwatches phone yesterday technology neuralinks future engineers_feed seems like make whole outfit material sama ancient greece committed suicide nobody dig grave better sama true historyinpics lego movie awesome sama story civilization first book little dry second book life greece incredible 46lbcix7fi wearing f 1 engine shirt right _rykllan felixschlang spacexcentric marcushousegame cumulative mass orbit per year correc 8lcu71xzvm _rykllan felixschlang spacexcentric marcushousegame number really matter _rykllan felixschlang spacexcentric marcushousegame anyone tracking tonnage orbit per year launch vehicle one way another excitement guaranteed support greater boca padre brownsville community much appreciated sn8 starship flap nosecone done week static fire checkout static fire fly 60 000 ft back spacepadreisle bocachicagal nasaspaceflight someone boat service south padre boca whatsupfranks samiralyateem wholemarsblog exactly problem like addressed wholemarsblog yes good insight samiralyateem wholemarsblog frame stitched single frame tricky camera overlap different way yzcixdgm38 whatsupfranks brandonbernicky wholemarsblog much wholemarsblog yes brandonbernicky wholemarsblog releasing private beta 2 4 week public beta early access owner opt oycpr9i9hq wholemarsblog still using dramatically better 4d aka simultaneous surround video 8 camera architecture c_bass3d nasaspaceflight marcushousegame cool richardreinariv clue astra sorry hear sure figure though took u four launch reach orbit rocket hard many exciting thing unveiled battery day 9 22 26a1 fe0f ostimusic make super efficient home hvac hepa filter one day jhall rbreich reich actually care global warming making much hot air 0001f1e9 0001f1ea natürlich 0001f1e9 0001f1ea bitte arbeiten sie bei giga berlin e wird super spaß machen fcnopr2oii monicalewinsky try welcome give back decide prefer subaru slashdot vera rubin observatory cool eugenelee3 univercurious 1 1 2 charliemunger00 univercurious munger right eugenelee3 univercurious f8rwy4exee univercurious black scholes formula kinda b big difference finance approximation fundamental physic pure math wintonark true disruptresearch best understood collection dozen startup mostly series increasingly zynsxisp4n disruptresearch r productivity exceptionally good due caliber engineering talent model x hospital grade hepa air filter 3 really good big effect healt ytsk3lmfii klee_filmreview teslarati energy ramp hiring giga new york accelerated solar production iha2drewu0 techgnostik rbreich touché rbreich worker also get stock compensation increased proportionately modern day moron onboard camera view falcon 9 saocom 1b launch first stage land landing 2iezyiyyg5 mstrofuniverse evafoxu yup evafoxu 13 teslarati rawlinson design model prototype done joined left u lurch oy9yvm84xm pretty close manufacturing size limit milled copper steel ja t8d3yn4xry la guerre comme à la guerre harsimranbansal haha bnordhaug start tweeting bombard earth enough photon eventually emits ak id_aa_carmack already bidirectional communication human ai via phone computer lo t42iuazmwh 50 likely make test engine flight article fixed gimbal worth noting thrust slightly higher big bell nozzle version larger bell primarily kiegovt0rd first raptor vacuum engine rvac starship shipped rocket factory hawthorne california dev tesmanian_com yes skorusark chart understates lithium ion potential roughly 1 3 model 3 rated reliable car 26dagjltdy turn make anything fly haha fjdhqrdvdb curevacrna exactly fully appreciated austinbarnard45 starship sn6 flew asimilar hop sn5 much smoother faster operation 0001f1e9 0001f1ea 0001f5a4 giga berlin mannschaft 0001f5a4 0001f1e9 0001f1ea vielen dank für ihre hervorragende arbeit giga berlin kvo5mbfnxt great trip germany support government people super appreciated sara_boutall 0001f923 0001f923 deployment 60 starlink satellite confirmed ddbxiodog1 liftoff stznan3vtx stefantpeterson trust ur butt haha slashdot ai 0001f353 picking goal result strawberry field forever spceenthusiast tjmurphy_mit thesheetztweetz exploremars theespacedude time outer 20 3 5z9p2upkqs spceenthusiast tjmurphy_mit thesheetztweetz exploremars theespacedude yeah alert_alarms go resonant mode fast hang problem arise tjmurphy_mit thesheetztweetz exploremars theespacedude outer ring booster engine 20 28 hav ssaqzj8act gerberkawasaki videodrome teslaownerssv justpaulinelol 0ckvhrmtf1 teslaownerssv justpaulinelol qobvxgq8fz teslaownerssv justpaulinelol sorry sir think momentinertiaphobia falcon 9 first stage land landing zone 1 complete booster fourth flight tutackmifn frydave youyanggu dfisman yeah nigel_lockyer penn fermilab lhc tbh ovaohsg1of nigel_lockyer penn fermilab ever want build long accelerator tunnel straight circular know people launching saocom 1b two rideshare payload orbit falcon 9 first stage return earth land landing zon deployment saocom 1b confirmed gqtxqmpy48 falcon 9 first stage landed landing zone 1 0y5fkvqpk8 liftoff aiwrmzb3d1 vitalvegas cool neuralink snout boops zjogq2ulvf nigel_lockyer penn fermilab physic law everything else recommendation samtalkstesla teslarati company solved useful thing buy would great ixhyt6nuic teslarati germany designed built vaccine rna printer curevac subject curevac ip th x32sda871g engineers_feed technically james watt measured pony added 50 rounded haha vnko0mtruc gerberkawasaki also critical thinking gerberkawasaki alexander rise hellenism film study gerberkawasaki wow super loved astronomy took queen penn definitely one favorite class o4fjcglahw teslaownerssv justpaulinelol yeah sent mutual physic prof friend caltech cern ba tjsh1exz1q justpaulinelol embarrassing learned physic prof penn head fermilab still old homework 263a fe0f ruskin147 unfortunately common many academia overweight value idea underweight bringing offoojcqnv l_vaux kulpability tlowdon ethicalskeptic people extremely unlikely die covid sars cov2 alone g7vxpupkvn kulpability tlowdon ethicalskeptic giga berlin headed germany week convers qqdcdov2jo tlowdon ethicalskeptic antibody half life cov2 short study working harvard dyl0p8xvuf tlowdon ethicalskeptic yeah kulpability tlowdon ethicalskeptic one person 60 000 hospitalized serious condition unjgvlveuk tlowdon ethicalskeptic test initially tried 50 false positive including fro by0oophpp7 wholemarsblog marcushousegame neopork85 spacetoday1 elonsworld felixschlang chrisg_nsf djsnm yet marcushousegame neopork85 spacetoday1 elonsworld felixschlang chrisg_nsf djsnm yes o2qpnv2qry icannot_enough people read much level detail useful predicting future i2rrglbx8j icannot_enough critical feedback always appreciated btw biogirl09 janeidyeve tesmanian_com blanket pas maybe event neopork85 marcushousegame spacetoday1 elonsworld felixschlang chrisg_nsf djsnm boost vv2agje8mw id_aa_carmack later version larger device would potential evafoxu waitbutwhy yup id_aa_carmack actually c although syntax could improved esthetically id_aa_carmack like c avoids class warfare ieeespectrum neuralink nightcap would probably work best ieeespectrum neuralink pretty much tesmanian_com good summary conceptual telepathy waitbutwhy ever fantasize 1880s engineer working edison lab apply work neuralink ahem starting soon ecghh5ston physic either impossible trivial impossible understand becomes trivial e rutherford giant gap experimental medical device use patient extreme medical problem wid f0fib1w94z tobyliiiiiiiiii djsnm testing shorter rvac skirt went well full length skirt test coming soon neuralink product demo 3 hour webcast y9wred78oj djsnm raptor reached 230 mt f half million pound thrust peak pressure wit 1spnwbelpa nextspaceflight good chance something slip yeah sunday intense djsnm need 2 engine astrojordy djsnm boring tunnel vega month operational djsnm neuralink month next month probably october made lot progre cjsgr0sjit zeitmas djsnm soon djsnm quite accurate evafoxu number sure come lot 0001f923 0001f923 ajtourville peterdog15 fine reasonable drone footage need fair distance coming r hspkw3zk1y gerberkawasaki thanks smart hardworking team sure wild time teslarati much appreciated serious attack thejackbeyer nasaspaceflight brave starhopper carried day itmotivatesus many day waitbutwhy 19h4u8ta2a wholemarsblog obtuse good although think work esthetically folded c alexczij1l cleantechnica actually nothing surprised hear across road adding silicon carbon anode oohnzzeh9v cleantechnica nothing 0001f440 lexfridman leave house hardly ever call parent big bang started smol xvvcualz2o 8r92iexvvn asimov 0001f525 0001f525 believe thing proportionate evidence true yes olde skoole analog synthesizer ancient britain jg0fi3chxc slashdot woiwia7ztn kristennetten weather calm sure hope stay way teslarati brake light powered miniverse inside microverse aduotl537t exactly focused developing new product scaling production neuralink yes show v2 still far lasik could get pretty close year lengthy background neuralink waitbutwhy z2yfaupdrd live webcast working neuralink device friday 3pm pacific poulbrgzfu engineers_feed astronaughty owensparks_ dauqhx universal_sci dauqhx universal_sci mar easier moon propellant production could get toysp1ukif dauqhx universal_sci starship propellant 78 oxygen o2 plant moon would enou 1tukv0hvig waitbutwhy want candy dauqhx universal_sci lot frozen co2 h2o mar heating planet densify atmosphere solvable universal_sci perhaps one day ocean northern part mar jchybow jwangark wintonark almost working reliably jwangark wintonark different computer needed training v inference fsd mostly int8 dojo zcnw4z3nxh jwangark wintonark exactly gpus nn lot core optimized dot product fast local memory sup l8xese456a tesla_addicted possible scale orbital launch mount nasaspaceflight yeah occasional flight land ok frequent daily flight probably need 30km 18 5lliqzacuu schristakos skorusark sure shortword coach23life tried warn dug grave twice fast skorusark 400 wh kg high cycle life produced volume lab far probably 3 4 year nasaspaceflight starship super heavy 10x mass zenit mostly launch ocean spaceports long term teslarati model 3 satisfying car across age study reveals ka0iha7z6c xuzmulvfhf johnkrausphotos nasaspaceflight superclusterhq starship super heavy 10x bigger mass volume metaphor life cdll4ielju jaxzin power flowing grid grateful powerwall 162 hour uninterrupted backup power 26a1 fe0f 26a1 fe0f 26a1 fe0f ht tesmanian_com accurate distance calculation using vision fundamental sensor help fundamental darpa uh oh fun game coming soon ur zbdygouhsz hkpwjnxsfc strike sinan25 sorry noise reduction gotten much better recently continue improve dami_kolz09 0001f923 jussiwen hardcore techno aber vielleicht ein bisschen fahrstuhlmusik auf der toilette new feature coming enables car play snake jazz polynesian elevator music outside speaker wherever go bki5sooroe janeidyeve hopefully achieved ai symbiosis janeidyeve self perpetuating autocracy based farcical aquatic ceremony king chosen wise panzer lake janeidyeve direct democracy short comprehensible law voted directly people snake jazz 0001f40d 0001f3b7 wholemarsblog quite hard u write software needed cover basic car functionality maybe c ywlqux5rbv gpt 3 sound like simon garfunkel lyric bureaucracy inherently kafkaesque tesmanian_com dankeschön brandenburg grünheide harsimranbansal evafoxu true 0001f923 0001f923 geffenavraham bryanflanks spellmender vladkarmon torybruno ulaengineer 0001f446 medical check ok ztrmvq6wvx might run president 2024 wo34fhkugu nextspaceflight long chain hydrocarbon lowering preburner combustion temperature make big difference everydayelon ajtourville comma_ai tesmanian_com yes wholemarsblog ajtourville comma_ai tesmanian_com yes daniellefong ajtourville comma_ai tesmanian_com absolutely need liquid cooling applying experience ezlaxwg3rp teslatested error canada lease payment specifically lower loan financing expec vae3ppljox tobyliiiiiiiiii nextspaceflight push ten flight starlink nextspaceflight almost never need replace whole engine individual part like fdnxdwh4et cnunezimages spaceintellige3 mostly employee support public access whenever y5db5mkzpu evafoxu cnunezimages spaceintellige3 absolutely 0001f603 0001f3dd nextspaceflight want cavalier obvious limit 100 flight possi 3dhapzhixh cnunezimages spaceintellige3 working boca since sunday august heat humidity south texas int xepds9ituw ajtourville comma_ai tesmanian_com dojo v1 0 done yet year away chip power tsbttiduhj spacecoast_stve scorcher vi 34o80p1hi6 antonioetayo c_bass3d nasaspaceflight felixschlang yes elevator music underrated c_bass3d nasaspaceflight felixschlang counter intuitive raptor much thrust h cagyh9nnd0 big update 0001f1e8 0001f1e6 trans canada supercharging 2705 model delivery 2705 leasing model model 3 0001f3af gyfbe nextspaceflight payload reduction due reusability booster fairing lt 40 f9 recovery refurb lt 1 sqgxv49yrs zubinanary spaceintellige3 guidodecaso cnunezimages yes huge nut haha teslarati really need bigger one adult squeeze guaranteed make party fun work well flamethrower spaceintellige3 guidodecaso cnunezimages favorite one tension dof compression new roadster w ukly4dwqur davidgokhshtein yes aloha welcome back space 0001f4ab xwpn09wtaw yeah post shortly krystof_mitka biindia winning worst person ever worked easy real champion vying title fairing chute control ship control closing loop locally operating autopilot m tree catch fairing net sqlj63netb biindia 0001f610 falcon 9 first stage landed course still love droneship first time booster completed six flight valleyhack geoffdbarrett somewhere cruising deep space pcybhfpuad natgeo must alien spendg8 yes rgvaerialphotos little spit dirt take u mar jwangark human swiftly becoming small percentage total compute programmerdude max demonstrated raptor thrust 225 ton min 90 ton actually 44fge3giee adamblitzer levie 0001f4a8 justpaulinelol nasaspaceflight engine sn building sn8 ship nasaspaceflight sn40 tested several upgrade 330 bar engine reference 330 bar r vk8nzlr0sz raptor engine reached 330 bar chamber pressure without exploding kvkrwksvab yeah starship tiny dot 20km hard see naked eye lot flight c_bass3d nasaspaceflight felixschlang impressive render note leg bigger up3t8ow5tf universal_sci might sting little early investor part wrong b pushed eberhard worst person ever xvuoeig9ex universal_sci also could long period comet intersect earth right observed mezrzcnewo universal_sci pretty much cybertruck option package 6vz4xnohf9 stevestuwill jagarikin wow booster_buddies nasaspaceflight button twiddling make sense 0001f923 0001f923 nickcappelli grimezsz got f2rxgcz964 evafoxu great one tank 4 memery panzer lake big milestone coming k3v3yddg6j drphiltill africa big awardsdarwin bold move sir bold move euricsanti luisabinader thank honored cowderysedge tbdnonymous real possibility billratchet 263a fe0f wholemarsblog 0001f923 0001f923 please trash wikipedia begging history written victor except wikipedia haha nickcappelli grimezsz cover barbie girl tbdnonymous yes probably accurate say great filter plural nickcappelli grimezsz yes called cyber girl must pas great filter sound right dm76fjq3hx dr_rami tomdestella robertdowneyjr seriously long_elon crysis rock truly useful exaflop de facto fp32 kristennetten engineers_feed metal fudge like consistency near melting point smoosh together engineers_feed make falcon 9 mdopo17yb9 326rkueyw8 icannot_enough hand hard predict maybe order 10 billion km 38fzby8pno austinbarnard45 yes realwillreil giuliocoraggio 0001f923 0001f923 hasty govt 0001f923 0001f923 teslaownerssv icannot_enough lot work remains technically working wzg16taxee icannot_enough dojo still built maybe year v1 0 icannot_enough autopilot trapped local maximum labeling single camera image uncorrelate w1goo6etzh icannot_enough insight year excellent approximately right giuliocoraggio absolutely seem govt move fast enough teslaownerssv ok blow ur mind haha lqnken5kjn main engineering location palo alto austin seattle working remotely acceptable exceptional candidate tomdestella want electric vtol supersonic sooo bad brain overload universal_sci asteroid impact risk well understood comet worry great mission patch design p2ic1crpef nikola_truth haha true wholemarsblog alesssj4 yup teslaownerssv exactly kristennetten teslaownerssv also definitely coming haha relatively recent car 6gbxaxtn4a vicentes teslaownerssv sorry embarrassingly late two factor authentication via sm raxdlk9jti _bennettm_ yes labeling bump pothole car slow steer around safe teslaownerssv perfectly first yes take maybe year get really good 3s2xzanace meant 4d xpx7j5snpy fsd improvement come quantum leap fundamental architectural rewrite k2cb4nimiy developing nn training computer called dojo process truly vast amount video data beast p aipo9gd8ek teslarati software improvement coming cleantechnica significant improvement coming x air suspension soon via software update simultaneously jjunwv2j94 stoolpresidente h2o ch4 co2 n2 iron nickel chrome aluminum necessarily order matter far iaqicetdoa waitbutwhy lukeprog odds viktaur27 teslarati rate improvement original gpt gpt 3 impressive rate improvement ktppercwt5 teslarati team working hard increasing powerwall production jimbridenstine news nasa targeting earlier oct 23 crew dragon first operational mission space_s c_bass3d sn8 impressive stoolpresidente psyche zkoi8fpvzz kenkirtland17 torybruno ulalaunch blueorigin djsnm theprimaldino yes integrated tip nose teslarati important probably faster utility power restored powerwall powerpack megapack certainly 712znztmbj kenkirtland17 torybruno ulalaunch blueorigin djsnm theprimaldino starship fairing wil u2wi4cgi5t pantsbobsponge andyjstanton timfernholz correct substantial underpayment compared ula received timfernholz madness acceptable boeing lockheed rocket timfernholz nobody would suggest buying airplane fly crash ocean would absurd tesmanian_com generally try best patent timfernholz efficiently reusable rocket matter making life multiplanetary space power becau alg6ue95ve wholemarsblog amazing see operation biggest casting machine ever made make rear body mwzjylhd88 renarddemoscou billgates sorry hear help teslarati surprise teslarati aiming make super fun teslarati little toastier flight hex tile slightly different mounting method need bigger section tile see hold xniptypahf sn7 new alloy test tank taken burst pressure sn8 body flap nosecone sn 5 6 starship production complex texas 8bvrd5vdu7 mark_goldberg_ one day soon wear outfit t0snf4ugyk mark_goldberg_ trying channel herb tarlek wkrp 0rc72s0zay mark_goldberg_ note fabulous plaid jacket gingham shirt combo 0001f923 archillect twin peak samtalkstesla working mom cousin farm saskatchewan age 17 think barn raising day wonderofscience y7lrlouxr9 sure yet hopefully need leg repair probably sn6 fly sn5 need cgxsnck6uv lexfridman clearly spot tiny human shot really put scale full blown starship superheavy hard fat ramacvr kristennetten berniesanders also true kristennetten berniesanders 0001f923 0001f923 berniesanders time since give employee share ownership diluted automatically aqgi0cu2hn theplanetaryguy video like always amaze astronomer jan koet captured video 2007 saturn appearing behind rationaletienne berniesanders wonder read twitter feed berniesanders aim attack company earth advance vc6isfxioz berniesanders b pushed oil gas interest distract people 5 trillion per year ptawt9dhhc siconik1 wr4nygov 28delayslater berniesanders 0001f3af wr4nygov berniesanders good analysis also includes govt loan high efficiency vehicle paid b iakln5fvpb westcoastbill 0001f4af johnkrausphotos queue_max nasaspaceflight yeah full name engine velociraptor raptor short tobyliiiiiiiiii queue_max nasaspaceflight haha good catch booster fixed leg add 2m height queue_max nasaspaceflight think get veloci raptor w par merlin latter also dlmy5rybrk nasaspaceflight look crazy tall booster fairing 122m 394 ft renatakonkoly timothybuffett teslarati janeidyeve ok timothybuffett teslarati apart failing quarantine elderly risk people early mistake recognize right teslarati kogvn4rmj8 good piece giga berlin construction pa8sgepv9y futurejurvetson seems increasingly likely falcon 9 first stage landed course still love droneship szo3thmxqa teslarati gonna great sn5 glz28kfvhu looking model iafpj491zz starship take flight iwvwca05hl trevormahlmann arstechnica several short hop smooth launch process go high altitude body flap ebelardo73 bluemoondance74 trevormahlmann arstechnica soon trevormahlmann arstechnica v1 1 leg 60 longer v2 0 leg much wider taller like falcon bu cgeweqny7s progress accelerating nasaspaceflight launch starship sn5 launched 150 meter test hop boca chica power raptor sn27 sn5 h sciguyspace exactly austinbarnard45 mar looking real trevormahlmann possible flight 3 min likely lindw0rm cleantechnica true lindw0rm cleantechnica highly likely road cleantechnica true fact nasaspaceflight scrubbed day raptor turbopump spin start valve open triggering automatic abo qddlnxfgjg boca control room hop attempt 33 minute reallifestarman going go moon going base moon going send people mar make sure engineers_feed tbh must confess occasionally pontificating high concept thing engineers_feed pretty much nosecone closing recommended required safe entry space travel becomes common air travel future civilization assured nasa anybody touched endeavour take moment cherish day touching word astro_doug waitbutwhy space new air nasa live update today dragon endeavour splashdown returning astrobehnken astro_doug home earth hear j jimbridenstine update post crew dragon dm 2 splashdown news conference earlier 4 45pm et watch live qpe congratulation nasa completing first crewed dragon flight 0001f1fa 0001f1f8 returned webcast crew dragon return earth space_station astrobehnken astro_doug 2192 bjfjlczwdk h good splashdown dragon confirmed welcome back earth astrobehnken astro_doug 0vas3cck9p dragon stable water acquisition signal expected 5 min 4 min dragon loss signal due atmospheric entry plasma dragon travel south new zealand florida 37 minute coming hot dzfr5bnbff astronaut land 2 hour nasa crew dragon flight back earth astrobehnken astro_doug remains track targeting splashdown coast p however prove superdraco landing could work propulsive hover mr7vfiqwwf correct parachute originally backup landing system superdraco thruster 941a2odu5h meier1028 space_station astrobehnken astro_doug great game natalcicuto kristennetten teslaforthe_win working commercial_crew astro_doug astrobehnken spend one night space prior returning homeland earth nasa view inside dragon endeavour astrobehnken astro_doug monitor departure space_station ht separation confirmed dragon performing 4 departure burn move away space_station ea14fozdo8 crew dragon depart space_station astrobehnken astro_doug 6 hour splash coast engineeringvids simplest solution necessarily satisfying cleantechnica autopilot accident 1 4 530 000 mile u average 1 479 000 mile nnbetmy1tr q2 vehicle safety report c7no6bbwgc 0001f9d9 200d 2642 fe0f xxvcwmrtws cybrtrck absolutely long lasting art incredibly difficult bbc article provides sensible summary done le3r20bwid jimbridenstine news team nasa remain go plan bring astro_doug astrobehnken home earth sunday nasa coming home 0001f30e 0001fa82 aug 1 astronaut astrobehnken astro_doug depart space_station crew dra great pyramid tallest structure made human 3800 year three thousand eight hundred year 6du46embni commercial_crew nasa remain go plan bring astro_doug astrobehnken home earth weekend team c waitbutwhy true ramses ii 0001f60e alien built pyramid obv iearnsomethlng ancient egypt incredible esthetic stand day notch 263a fe0f matfabrix engineers_feed witch logic o5xaopsnw1 matfabrix engineers_feed thing take granted like flying would burned stake witchcraft long ago engineers_feed engineering magic made real janeidyeve lo que construimos 2yg5gatgv9 thesheetztweetz cool 8lpvwbec4r starship sn5 completed full duration static fire 150m hop soon 0001f5a4 0001f9db 200d 2640 fe0f total eclipse heart 0001f9db 200d 2640 fe0f 0001f5a4 n8djdlknbe lnterestingmaps iearnsomethlng 0001f62e bluemoondance74 shravantr neuro_skeptic aware shravantr neuro_skeptic yes could also extend range hearing beyond normal frequency amplitude deus ex shravantr neuro_skeptic neuralinks currently meant mature brain functionality lost remo c3o4rravz8 shravantr neuro_skeptic yes possible create neural shunt motor cortex microcontrollers hppvgjfhms neuro_skeptic show neuron firing real time august 28th matrix matrix neuro_skeptic fire go several second minute without firing fire several ti ky8h0oyzyx nasapersevere ulalaunch nasa_lsp congrats great launch sometimes touch kmassjctix jelle56367384 anvithvittal dnpthree tiesto adagio string great rgy1p1vgou losing 9hoy0ldzg4 eurosandor rsprachrohr 0001f923 0001f923 renatakonkoly sneakyness mein herz brennt best bos battle song ever jil6vzhqax robot heart 0001f525 0001f525 sneakyness one time best tobyliiiiiiiiii sure sure could use good rave favorite techno died arm tonight rumor bill gate lover completely untrue wholemarsblog yeah display also soon render tesla specifically model color instead 5lpnpltp24 keith31345919 s8mdwgcdfg keith31345919 working 4 year originally meant rabies vaccine fsf77xhiii keith31345919 0kaav0dtnn 0001f3b6 billy g lover 0001f3b6 sound like realize make vaccine machine curevac mkarolian thanks letting know dig greendragonbot 0001f609 thesheetztweetz sum gt part teslarati add mile range slow traffic kristennetten xiang_aw owensparks_ berniesanders government money far talk trillion jgrano305 teslaownersnbay haha one ever top secret fart technology teslaownersnbay 0001f495 0001f495 sam_lopezxx teslarati sure teslarati open licensing software supplying powertrains battery trying accelera 5t9vgklwda xiang_aw owensparks_ berniesanders appear appreciate government monopolist corporation limit slashdot techgnostik schristakos berniesanders agreed evafoxu schristakos berniesanders haha dmc_ryan rodamn prototype color schristakos berniesanders think used like bernie 0001f622 adojs2uce3 vistacruiser7 schristakos berniesanders berniesanders 0001f54a 0001f54a schristakos berniesanders maybe feeling bern haha nasaspaceflight fuel spin valve open fix try tomorrow also odd tvc hydraulic pump behavior nasaspaceflight launch pad connector damaged storm fixed might able fb7e5noq2e prisonplanet whether commercial government monopoly bad people teslarati sound great enn_nafnlaus theonion haha da kapital nutshell mg44mmkitx anthm17 like great sense humor left losing middle rationaletienne theonion exactly rationaletienne atnickvega theonion 0001f923 0001f923 hold beer ik3tt1x4wp theonion onion rose atnickvega theonion wow think lot youranonnews dropped youranonnews 0001f339 evafoxu haha teslacn pick energetic wallpaper charge everyday adventure hotdtlpdpw cleantechnica giga berlin come together impossible seeming speed prefabricated construction method x2drfewial almost decade ago original dragon background rhiddhid ya beat br ufay65lzjj avrwc planet claire 0001f525 0001f525 cybrtrck fair point discus team rhiddhid amazing great song wj4ydjglsh spotted_model cleantechnica nickel biggest challenge high volume long range battery australia ca kq81cqogfl picklepunchd cleantechnica 0001f923 0001f923 samtalkstesla haha cleantechnica lot potential lithium pretty much everywhere teslarati whoa cool theonion 0001f923 0001f923 kristennetten yourfavgas ajtourville blue steel mattiecola ajtourville need high brinell hardness high corrosion resistance cybertruck faceted dnkkgadjq4 yourfavgas ajtourville really want great fun could la austin yourfavgas ajtourville turning shade outdoor restaurant boca ajtourville cool ghost_teslaphx 28delayslater crewtesla jrosinski97 marc_benton ray4tesla yes ghost_teslaphx 28delayslater crewtesla jrosinski97 marc_benton ray4tesla impossible wholemarsblog day 0001f923 0001f923 ccsakuras emkzcfgarz mkbhd new video model important car auto focus ep 5 3lc3l2rgcj l65zaxyctr teslaownerssv maureendowd ring fire gsj3np4cap iliketeslas pjhornak randyvegetables know congratulation people bolivia 0001f1e7 0001f1f4 maureendowd song whistle stranger night randyvegetables seriously think toppled bolivian govt sigh yc5gaa12dw maureendowd great song karaswisher maureendowd elon haha thanks kara erikmaza maureendowd sure thefavoritist nasaspaceflight bocachicagal yeah hunkering hurricane pass adolfo_morenos historyofarmani exactly cool model 3 review iamjamiefoxx hjdd7bjke3 teslacn add power lift gate cost hansnoordsij agreed hydrogen fool sell make sense pronoun suck historyofarmani also get lithium australia nichegamer 0001f923 0001f923 akinfermo yeah would way better send everyone 6k bet one 0001f339 twitter even guillotine poseur engineers_feed slow drag cigarette facebook heard name year 0001f339 twitter suck stevenbonchev apompliano something like politician could legislate wealth everyone would trillionaire jammed gill special interest earmark stimulus direct payment consumer pretty much goal government maximize happiness people giving person money allows decid lwfxhvksjf reminder favor universal basic income another government stimulus package best interest people imo solar panel 1 49 watt 5lplhqgazw realdonaldtrump thank behalf team look forward building giga texas sciguyspace competition ensures company work hard serve need customer schristakos pubg something fun coming vincent13031925 universalpics tomcruise could great teslaownerssv cleantechnica great idea actually looking revolutionary actuary insurance please inquire interested cleantechnica tbh bit le foolish commercial_crew orbit astronaut astrobehnken astro_doug performed habitability assessment crew drago teslarati retail investor like hyperchangetv remarkably insightful also arkinvest sciguyspace especially boost stage volumetrically constrained ch4 way better h2 soviet ch4 alewbz8nfl waitbutwhy basically pixel size ludalisl emphasize enough tomosman absolutely ajtourville haha cleantechnica agreed internetofshit oven keep asking wifi password gonna get impressive tianwen 1 mar rover mission launched china today fsya3i0hru jmkacbrb5d bbc_future good article bbcsciencenews similar problem u data omgrofloljk good point soul soul cleantechnica adding people next version 2 minute later o5fbbtan1s nytimes another day 2020 individualized mass transit future best people seated safety speed travel coming soon 6noglix6b5 wholemarsblog human overseen first fully self driving janeidyeve say involves 0001f43b kable_10 0001f525 0001f525 0001f923 buckethat1 one sting meme send meme teslatrey need finish upgrading autopilot 4d v 2 5d go steep slope nothing gaslit people movie gaslight loomisp_ msnbc 11thhour well said brian williams futurejurvetson great shot video yesterday catch fairing half yztdfzlull fazeblaze 0001f44d samtalkstesla sometimes feel teslarati bocachicagal attempt fly later week sri_myneni considercosmos sound flame color quite different glenn22x teslarati bocachicagal yes teslarati bocachicagal rapidly changing alloy constituent forming method traditional name like 304 fyuuio5dtz 0001f923 0001f923 cleantechnica point probably advertising art communication entertainment support high quality medium watch falcon 9 launch anasis ii 2192 bjfjlczwdk iyhjznzobv da baby kann noch keinen löffel benutzen uetqvia4bp johnnacrider0 ystijd id_aa_carmack almost right ystijd id_aa_carmack talked hour ago seems fine id_aa_carmack vr twitter avatar saying mention 0001f608 cleantechnica better put money product sale marketing bring life mar fairing half caught space ship falcon 9 first stage landed read instruction droneship fpbckyfysh nice work team astrobehnken astro_doug still long way go reuse matter degree rapid complete nasahqphoto long since last launch 20 min 1oltpnw929 wholemarsblog cleantechnica month production release already alpha build cleantechnica lithium extremely common earth found almost everywhere nishy03 hiromichimizuno congratulation mhi uae bar2_t joebangles11 teslarati stilton kristennetten businessinsider new deep crimson giga berlin favorite teslarati important service high latitude confiant_man american born south africa left 17 businessinsider true 2012 model still great car driving sn28 month ago driving feel wa mrutle8y2v businessinsider model 3 received top mark safety organization north america europe australia nb92 teslaownerssv stephenpallotta discus wed earnings call lot talk stephenpallotta 0001f923 0001f923 a_howard8 yes hiromichimizuno look cool potential maxxrpbtc thecryptolark manny6manny jungleincxrp digitalassetbuy moonlamboio jwilliamsfstmed good article anite06dlj teslaownerssv waitbutwhy really set tour maybe astrobehnken nasa space_station manufactured 5 min lax waitbutwhy contribute chromosome mitochondrion constant except mutation bwillofficial wholemarsblog neuralink yes kristennetten one part surgery scale must fully automated like lasik would solve lot brain spine injury ultimately essential ai symbiosis fermatslibrary fermi awesome understood right question ask archillect vr7thokncp m4ttwegner 0001f923 0001f923 m4ttwegner bde m4ttwegner come hulk never loses pant yes prior neuroscience background required primarily electrical electronic chip design vmq2atdv5d targeting monday july 20 falcon 9 launch anasis ii slc 40 solving high volume high reliability low cost production problem especially valued solved hard problem phone wearable sealing signal processing inductive charging power mgmt rq3awmzxvo serhatserhatst many summarizes pretty much every biz school case study inevitable ebknqm6qyf izzynobre excuse sell doge write algorithm ever realize negativity bias modelyendofice wintonark pretty much wintonark better hustle neuralink moving fast enough thanks stop evafoxu 0001f495 0001f495 kristennetten 0001f923 0001f923 lewismartin_ engineers_feed gigafactory product even car zikryzamir yes engineers_feed carefully hidden teslaownerssv kristennetten sure kristennetten might indoor outdoor rave space roof giga berlin uxqmuvtwxf pontolemaeus silverdegeneral bbcsciencenews exactly serious problem ratio retiree worker qivas5gtpc vincentdiong gerberkawasaki considering small note latch post near base gone powered ethernet wire le obtrusive production version bbcsciencenews xxrxfrqhbs bbcsciencenews thing call money slow lossy unsecure database labor allocati 5vcgj8o31r nnalinas bbcsciencenews trying set good example haha mar need people gerberkawasaki great work software engineering bbcsciencenews population collapse 2nd biggest danger civilization ai imo yeah take le minute order q1vvqvmj2i go live starlink terminal motor self orient optimal view angle expert installer required xndtxrdnl2 niksanae ok alex_avoigt wholemarsblog 0001f914 thesheetztweetz brycespacetech ulalaunch torybruno mhi_group roscosmos peter_j_beck irmxfy991y teslaaircraft exactly wholemarsblog autopilot literally named term used aviation also autobahn teslaownerssv engineers_feed strength perseverance people despite facing extreme difficulty engineers_feed playable efficiencylast jaminwestby teslaownerssv jgrano305 teslaratiteam teslarati automatically thesheetztweetz brycespacetech ulalaunch torybruno mhi_group roscosmos mass orbit accura ltqh2vulgc teslarati cute davidtayar5 teslalisa stevehamel16 vincent13031925 s_padival barkmsmeagol annerajb pjhornak wpipperger ecoheliguy wow katlinegrey reusability essential rocket single use absurd single use airplane f9 e wfnfst3c5y vincent13031925 wild time spaceflightnow extra paranoid maximizing probability successful launch paramount summergamefest welcome anytime bradyleonard well care much sustainability civilization truth irony part haha teslatn jgrano305 teslaratiteam teslarati dollyparton yes plan supercharger public high power wall c jzxsr4h8vs chrisjcav jgrano305 teslaratiteam teslarati 0001f440 jaminwestby teslaownerssv jgrano305 teslaratiteam teslarati think jgrano305 teslaratiteam teslarati range testing number significantly higher 300 extreme fs0pmcioic jgrano305 teslaratiteam teslarati reduced pricing model lr dual motor offer lr single moto fbhkiihsc3 teslaownerssv jgrano305 teslaratiteam teslarati yes vicentes teslaratiteam teslarati may able reach 250kw low state charge jgrano305 teslaratiteam teslarati range would unacceptably low lt 250 mile epa teslaratiteam teslarati increase wire thickness x reduce resistive heating technically tcivzvc5ra mightytesla samtalkstesla elonsworld nikola_truth wholemarsblog renatakonkoly stevenmarkryan iu3lmuqes5 wholemarsblog thanks near term danger ai nichegamer mind da2 da1 awesome mass effect 2 talking sequel amazing mkbhd haha oprahside maybe design flag mar engineers_feed 48 65 78 20 74 6f 20 74 65 78 74 1mqxfakpzf spoke korolev family today one best 041a 043e 0440 043e 043b 044c 043e 0432 041a 043e 0440 043e 043b 0451 0432 ali_afshari general need improve podcasts play optimoprincipi spqr gvfc9m3bhz djzinc kenyanwalstreet true haha rationaletienne ihearttesla death loss information thatt3slaguy ihearttesla earning power post augmentation would easily pay bpzwersoys ihearttesla absolutely teslaparatodos evafoxu 0001f440 mjkapkan evafoxu probably good one design engineer germany blue_bnd evafoxu even techgnostik evafoxu ok scr00chy evafoxu 0001f440 evafoxu berlin model one watch revolution automotive body engineering finally burakaydik true wow ihop github close best use term full stack ihearttesla sure great terrifying everything ever sensed thought b3zxd384qd redmercy yes buzzindelhi sorry hopefully soon kenyanwalstreet actually payout vesting stock option may never pay stock b 8zg37stxt9 ihearttesla easy way answer tweet helping dire brain injury first priority detail aug 28 ai symbiosis wait vistacruiser7 true sound surreal negative propaganda still easy find social wjrzibkh1h make sure read ur term condition clicking accept teslagong samwise gamgee dumb dumber 0001f525 0001f525 progress update august 28'"
            ],
            "application/vnd.google.colaboratory.intrinsic+json": {
              "type": "string"
            }
          },
          "metadata": {},
          "execution_count": 53
        }
      ]
    },
    {
      "cell_type": "code",
      "source": [
        "from wordcloud import WordCloud,STOPWORDS\n",
        "import matplotlib.pyplot as plt"
      ],
      "metadata": {
        "id": "NTMM2hW6TOxc"
      },
      "execution_count": 54,
      "outputs": []
    },
    {
      "cell_type": "markdown",
      "source": [
        "A word cloud is visualization technique for text data where the most frequent word is shown in biggest font size"
      ],
      "metadata": {
        "id": "CS3DWL0STcUS"
      }
    },
    {
      "cell_type": "code",
      "source": [
        "stop= STOPWORDS"
      ],
      "metadata": {
        "id": "WS_PJOvbTdxy"
      },
      "execution_count": 55,
      "outputs": []
    },
    {
      "cell_type": "code",
      "source": [
        "wc = WordCloud(background_color='white',stopwords=stop).generate(txt)\n",
        "plt.imshow(wc)\n",
        "# bigger the name of word more the frequency of that word in that corpus\n",
        "# font of apple, laptop is huge i.e. it is occuring many times in text\n",
        "# word cloud is important when we are analysing the data when we build Naive bias text classification.\n",
        "# This is how we can create word cloud"
      ],
      "metadata": {
        "colab": {
          "base_uri": "https://localhost:8080/",
          "height": 331
        },
        "id": "l0HhW6nDTUrc",
        "outputId": "4d47356b-e81d-4de0-bc8b-319db3700a38"
      },
      "execution_count": 57,
      "outputs": [
        {
          "output_type": "execute_result",
          "data": {
            "text/plain": [
              "<matplotlib.image.AxesImage at 0x7f30a135b040>"
            ]
          },
          "metadata": {},
          "execution_count": 57
        },
        {
          "output_type": "display_data",
          "data": {
            "text/plain": [
              "<Figure size 640x480 with 1 Axes>"
            ],
            "image/png": "[encoded data removed]"
          },
          "metadata": {}
        }
      ]
    }
  ]
}